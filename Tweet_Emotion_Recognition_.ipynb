{
  "nbformat": 4,
  "nbformat_minor": 0,
  "metadata": {
    "accelerator": "GPU",
    "colab": {
      "name": "Tweet Emotion Recognition .ipynb",
      "provenance": [],
      "collapsed_sections": [],
      "include_colab_link": true
    },
    "kernelspec": {
      "display_name": "Python 3",
      "language": "python",
      "name": "python3"
    },
    "language_info": {
      "codemirror_mode": {
        "name": "ipython",
        "version": 3
      },
      "file_extension": ".py",
      "mimetype": "text/x-python",
      "name": "python",
      "nbconvert_exporter": "python",
      "pygments_lexer": "ipython3",
      "version": "3.8.3"
    },
    "widgets": {
      "application/vnd.jupyter.widget-state+json": {
        "d87ff0ee9ca34b2381de875ca380f011": {
          "model_module": "@jupyter-widgets/controls",
          "model_name": "HBoxModel",
          "model_module_version": "1.5.0",
          "state": {
            "_dom_classes": [],
            "_model_module": "@jupyter-widgets/controls",
            "_model_module_version": "1.5.0",
            "_model_name": "HBoxModel",
            "_view_count": null,
            "_view_module": "@jupyter-widgets/controls",
            "_view_module_version": "1.5.0",
            "_view_name": "HBoxView",
            "box_style": "",
            "children": [
              "IPY_MODEL_c5a73d0fb9084aca81251f2b572da380",
              "IPY_MODEL_bee53c3a4f9745728f3fc338a4fbeded",
              "IPY_MODEL_f4f73a7826bc4ebaaec0baf66810e43f"
            ],
            "layout": "IPY_MODEL_b4121fadd0bd426d8da19d4b25c946b9"
          }
        },
        "c5a73d0fb9084aca81251f2b572da380": {
          "model_module": "@jupyter-widgets/controls",
          "model_name": "HTMLModel",
          "model_module_version": "1.5.0",
          "state": {
            "_dom_classes": [],
            "_model_module": "@jupyter-widgets/controls",
            "_model_module_version": "1.5.0",
            "_model_name": "HTMLModel",
            "_view_count": null,
            "_view_module": "@jupyter-widgets/controls",
            "_view_module_version": "1.5.0",
            "_view_name": "HTMLView",
            "description": "",
            "description_tooltip": null,
            "layout": "IPY_MODEL_f699f4d3381948d6837cbb68005d2e79",
            "placeholder": "​",
            "style": "IPY_MODEL_7a7f97527c4f4b4099f397c8bf43c05d",
            "value": "Downloading: 100%"
          }
        },
        "bee53c3a4f9745728f3fc338a4fbeded": {
          "model_module": "@jupyter-widgets/controls",
          "model_name": "FloatProgressModel",
          "model_module_version": "1.5.0",
          "state": {
            "_dom_classes": [],
            "_model_module": "@jupyter-widgets/controls",
            "_model_module_version": "1.5.0",
            "_model_name": "FloatProgressModel",
            "_view_count": null,
            "_view_module": "@jupyter-widgets/controls",
            "_view_module_version": "1.5.0",
            "_view_name": "ProgressView",
            "bar_style": "success",
            "description": "",
            "description_tooltip": null,
            "layout": "IPY_MODEL_535052e547c84f28bad0a7a92a7ee938",
            "max": 3406,
            "min": 0,
            "orientation": "horizontal",
            "style": "IPY_MODEL_4034be0554b24436b40d370a2f4fe8a8",
            "value": 3406
          }
        },
        "f4f73a7826bc4ebaaec0baf66810e43f": {
          "model_module": "@jupyter-widgets/controls",
          "model_name": "HTMLModel",
          "model_module_version": "1.5.0",
          "state": {
            "_dom_classes": [],
            "_model_module": "@jupyter-widgets/controls",
            "_model_module_version": "1.5.0",
            "_model_name": "HTMLModel",
            "_view_count": null,
            "_view_module": "@jupyter-widgets/controls",
            "_view_module_version": "1.5.0",
            "_view_name": "HTMLView",
            "description": "",
            "description_tooltip": null,
            "layout": "IPY_MODEL_748f2cee98da45c3b1e4744a3f3c20f5",
            "placeholder": "​",
            "style": "IPY_MODEL_864b3e070dd04d779a7b963772551d50",
            "value": " 3.41k/3.41k [00:00&lt;00:00, 40.0kB/s]"
          }
        },
        "b4121fadd0bd426d8da19d4b25c946b9": {
          "model_module": "@jupyter-widgets/base",
          "model_name": "LayoutModel",
          "model_module_version": "1.2.0",
          "state": {
            "_model_module": "@jupyter-widgets/base",
            "_model_module_version": "1.2.0",
            "_model_name": "LayoutModel",
            "_view_count": null,
            "_view_module": "@jupyter-widgets/base",
            "_view_module_version": "1.2.0",
            "_view_name": "LayoutView",
            "align_content": null,
            "align_items": null,
            "align_self": null,
            "border": null,
            "bottom": null,
            "display": null,
            "flex": null,
            "flex_flow": null,
            "grid_area": null,
            "grid_auto_columns": null,
            "grid_auto_flow": null,
            "grid_auto_rows": null,
            "grid_column": null,
            "grid_gap": null,
            "grid_row": null,
            "grid_template_areas": null,
            "grid_template_columns": null,
            "grid_template_rows": null,
            "height": null,
            "justify_content": null,
            "justify_items": null,
            "left": null,
            "margin": null,
            "max_height": null,
            "max_width": null,
            "min_height": null,
            "min_width": null,
            "object_fit": null,
            "object_position": null,
            "order": null,
            "overflow": null,
            "overflow_x": null,
            "overflow_y": null,
            "padding": null,
            "right": null,
            "top": null,
            "visibility": null,
            "width": null
          }
        },
        "f699f4d3381948d6837cbb68005d2e79": {
          "model_module": "@jupyter-widgets/base",
          "model_name": "LayoutModel",
          "model_module_version": "1.2.0",
          "state": {
            "_model_module": "@jupyter-widgets/base",
            "_model_module_version": "1.2.0",
            "_model_name": "LayoutModel",
            "_view_count": null,
            "_view_module": "@jupyter-widgets/base",
            "_view_module_version": "1.2.0",
            "_view_name": "LayoutView",
            "align_content": null,
            "align_items": null,
            "align_self": null,
            "border": null,
            "bottom": null,
            "display": null,
            "flex": null,
            "flex_flow": null,
            "grid_area": null,
            "grid_auto_columns": null,
            "grid_auto_flow": null,
            "grid_auto_rows": null,
            "grid_column": null,
            "grid_gap": null,
            "grid_row": null,
            "grid_template_areas": null,
            "grid_template_columns": null,
            "grid_template_rows": null,
            "height": null,
            "justify_content": null,
            "justify_items": null,
            "left": null,
            "margin": null,
            "max_height": null,
            "max_width": null,
            "min_height": null,
            "min_width": null,
            "object_fit": null,
            "object_position": null,
            "order": null,
            "overflow": null,
            "overflow_x": null,
            "overflow_y": null,
            "padding": null,
            "right": null,
            "top": null,
            "visibility": null,
            "width": null
          }
        },
        "7a7f97527c4f4b4099f397c8bf43c05d": {
          "model_module": "@jupyter-widgets/controls",
          "model_name": "DescriptionStyleModel",
          "model_module_version": "1.5.0",
          "state": {
            "_model_module": "@jupyter-widgets/controls",
            "_model_module_version": "1.5.0",
            "_model_name": "DescriptionStyleModel",
            "_view_count": null,
            "_view_module": "@jupyter-widgets/base",
            "_view_module_version": "1.2.0",
            "_view_name": "StyleView",
            "description_width": ""
          }
        },
        "535052e547c84f28bad0a7a92a7ee938": {
          "model_module": "@jupyter-widgets/base",
          "model_name": "LayoutModel",
          "model_module_version": "1.2.0",
          "state": {
            "_model_module": "@jupyter-widgets/base",
            "_model_module_version": "1.2.0",
            "_model_name": "LayoutModel",
            "_view_count": null,
            "_view_module": "@jupyter-widgets/base",
            "_view_module_version": "1.2.0",
            "_view_name": "LayoutView",
            "align_content": null,
            "align_items": null,
            "align_self": null,
            "border": null,
            "bottom": null,
            "display": null,
            "flex": null,
            "flex_flow": null,
            "grid_area": null,
            "grid_auto_columns": null,
            "grid_auto_flow": null,
            "grid_auto_rows": null,
            "grid_column": null,
            "grid_gap": null,
            "grid_row": null,
            "grid_template_areas": null,
            "grid_template_columns": null,
            "grid_template_rows": null,
            "height": null,
            "justify_content": null,
            "justify_items": null,
            "left": null,
            "margin": null,
            "max_height": null,
            "max_width": null,
            "min_height": null,
            "min_width": null,
            "object_fit": null,
            "object_position": null,
            "order": null,
            "overflow": null,
            "overflow_x": null,
            "overflow_y": null,
            "padding": null,
            "right": null,
            "top": null,
            "visibility": null,
            "width": null
          }
        },
        "4034be0554b24436b40d370a2f4fe8a8": {
          "model_module": "@jupyter-widgets/controls",
          "model_name": "ProgressStyleModel",
          "model_module_version": "1.5.0",
          "state": {
            "_model_module": "@jupyter-widgets/controls",
            "_model_module_version": "1.5.0",
            "_model_name": "ProgressStyleModel",
            "_view_count": null,
            "_view_module": "@jupyter-widgets/base",
            "_view_module_version": "1.2.0",
            "_view_name": "StyleView",
            "bar_color": null,
            "description_width": ""
          }
        },
        "748f2cee98da45c3b1e4744a3f3c20f5": {
          "model_module": "@jupyter-widgets/base",
          "model_name": "LayoutModel",
          "model_module_version": "1.2.0",
          "state": {
            "_model_module": "@jupyter-widgets/base",
            "_model_module_version": "1.2.0",
            "_model_name": "LayoutModel",
            "_view_count": null,
            "_view_module": "@jupyter-widgets/base",
            "_view_module_version": "1.2.0",
            "_view_name": "LayoutView",
            "align_content": null,
            "align_items": null,
            "align_self": null,
            "border": null,
            "bottom": null,
            "display": null,
            "flex": null,
            "flex_flow": null,
            "grid_area": null,
            "grid_auto_columns": null,
            "grid_auto_flow": null,
            "grid_auto_rows": null,
            "grid_column": null,
            "grid_gap": null,
            "grid_row": null,
            "grid_template_areas": null,
            "grid_template_columns": null,
            "grid_template_rows": null,
            "height": null,
            "justify_content": null,
            "justify_items": null,
            "left": null,
            "margin": null,
            "max_height": null,
            "max_width": null,
            "min_height": null,
            "min_width": null,
            "object_fit": null,
            "object_position": null,
            "order": null,
            "overflow": null,
            "overflow_x": null,
            "overflow_y": null,
            "padding": null,
            "right": null,
            "top": null,
            "visibility": null,
            "width": null
          }
        },
        "864b3e070dd04d779a7b963772551d50": {
          "model_module": "@jupyter-widgets/controls",
          "model_name": "DescriptionStyleModel",
          "model_module_version": "1.5.0",
          "state": {
            "_model_module": "@jupyter-widgets/controls",
            "_model_module_version": "1.5.0",
            "_model_name": "DescriptionStyleModel",
            "_view_count": null,
            "_view_module": "@jupyter-widgets/base",
            "_view_module_version": "1.2.0",
            "_view_name": "StyleView",
            "description_width": ""
          }
        },
        "b82e45adfd384c90b14d3bb896630e5b": {
          "model_module": "@jupyter-widgets/controls",
          "model_name": "HBoxModel",
          "model_module_version": "1.5.0",
          "state": {
            "_dom_classes": [],
            "_model_module": "@jupyter-widgets/controls",
            "_model_module_version": "1.5.0",
            "_model_name": "HBoxModel",
            "_view_count": null,
            "_view_module": "@jupyter-widgets/controls",
            "_view_module_version": "1.5.0",
            "_view_name": "HBoxView",
            "box_style": "",
            "children": [
              "IPY_MODEL_4fe521e9c1e44020a4ab37a79987e2fb",
              "IPY_MODEL_b25ff28aa7164733b60fe9e45a8d8ed8",
              "IPY_MODEL_91f817bc01294298aa6c4b8b0cef5216"
            ],
            "layout": "IPY_MODEL_b28f96de047540a099ad7d2b38ccbc39"
          }
        },
        "4fe521e9c1e44020a4ab37a79987e2fb": {
          "model_module": "@jupyter-widgets/controls",
          "model_name": "HTMLModel",
          "model_module_version": "1.5.0",
          "state": {
            "_dom_classes": [],
            "_model_module": "@jupyter-widgets/controls",
            "_model_module_version": "1.5.0",
            "_model_name": "HTMLModel",
            "_view_count": null,
            "_view_module": "@jupyter-widgets/controls",
            "_view_module_version": "1.5.0",
            "_view_name": "HTMLView",
            "description": "",
            "description_tooltip": null,
            "layout": "IPY_MODEL_1d0c8ce38d55464593178cdf4ab5e9e1",
            "placeholder": "​",
            "style": "IPY_MODEL_b82450aa56204d02ab850bf0fdfe951e",
            "value": "Downloading: 100%"
          }
        },
        "b25ff28aa7164733b60fe9e45a8d8ed8": {
          "model_module": "@jupyter-widgets/controls",
          "model_name": "FloatProgressModel",
          "model_module_version": "1.5.0",
          "state": {
            "_dom_classes": [],
            "_model_module": "@jupyter-widgets/controls",
            "_model_module_version": "1.5.0",
            "_model_name": "FloatProgressModel",
            "_view_count": null,
            "_view_module": "@jupyter-widgets/controls",
            "_view_module_version": "1.5.0",
            "_view_name": "ProgressView",
            "bar_style": "success",
            "description": "",
            "description_tooltip": null,
            "layout": "IPY_MODEL_c781d66262114d29b87399f029bdc820",
            "max": 6011,
            "min": 0,
            "orientation": "horizontal",
            "style": "IPY_MODEL_bce8c2df32ce453c9059d8fa4ceb8aab",
            "value": 6011
          }
        },
        "91f817bc01294298aa6c4b8b0cef5216": {
          "model_module": "@jupyter-widgets/controls",
          "model_name": "HTMLModel",
          "model_module_version": "1.5.0",
          "state": {
            "_dom_classes": [],
            "_model_module": "@jupyter-widgets/controls",
            "_model_module_version": "1.5.0",
            "_model_name": "HTMLModel",
            "_view_count": null,
            "_view_module": "@jupyter-widgets/controls",
            "_view_module_version": "1.5.0",
            "_view_name": "HTMLView",
            "description": "",
            "description_tooltip": null,
            "layout": "IPY_MODEL_9b9c62db7084435681fba725b416a514",
            "placeholder": "​",
            "style": "IPY_MODEL_c634e1ed22d046429e0c1d1ed1d2282b",
            "value": " 6.01k/6.01k [00:00&lt;00:00, 10.1kB/s]"
          }
        },
        "b28f96de047540a099ad7d2b38ccbc39": {
          "model_module": "@jupyter-widgets/base",
          "model_name": "LayoutModel",
          "model_module_version": "1.2.0",
          "state": {
            "_model_module": "@jupyter-widgets/base",
            "_model_module_version": "1.2.0",
            "_model_name": "LayoutModel",
            "_view_count": null,
            "_view_module": "@jupyter-widgets/base",
            "_view_module_version": "1.2.0",
            "_view_name": "LayoutView",
            "align_content": null,
            "align_items": null,
            "align_self": null,
            "border": null,
            "bottom": null,
            "display": null,
            "flex": null,
            "flex_flow": null,
            "grid_area": null,
            "grid_auto_columns": null,
            "grid_auto_flow": null,
            "grid_auto_rows": null,
            "grid_column": null,
            "grid_gap": null,
            "grid_row": null,
            "grid_template_areas": null,
            "grid_template_columns": null,
            "grid_template_rows": null,
            "height": null,
            "justify_content": null,
            "justify_items": null,
            "left": null,
            "margin": null,
            "max_height": null,
            "max_width": null,
            "min_height": null,
            "min_width": null,
            "object_fit": null,
            "object_position": null,
            "order": null,
            "overflow": null,
            "overflow_x": null,
            "overflow_y": null,
            "padding": null,
            "right": null,
            "top": null,
            "visibility": null,
            "width": null
          }
        },
        "1d0c8ce38d55464593178cdf4ab5e9e1": {
          "model_module": "@jupyter-widgets/base",
          "model_name": "LayoutModel",
          "model_module_version": "1.2.0",
          "state": {
            "_model_module": "@jupyter-widgets/base",
            "_model_module_version": "1.2.0",
            "_model_name": "LayoutModel",
            "_view_count": null,
            "_view_module": "@jupyter-widgets/base",
            "_view_module_version": "1.2.0",
            "_view_name": "LayoutView",
            "align_content": null,
            "align_items": null,
            "align_self": null,
            "border": null,
            "bottom": null,
            "display": null,
            "flex": null,
            "flex_flow": null,
            "grid_area": null,
            "grid_auto_columns": null,
            "grid_auto_flow": null,
            "grid_auto_rows": null,
            "grid_column": null,
            "grid_gap": null,
            "grid_row": null,
            "grid_template_areas": null,
            "grid_template_columns": null,
            "grid_template_rows": null,
            "height": null,
            "justify_content": null,
            "justify_items": null,
            "left": null,
            "margin": null,
            "max_height": null,
            "max_width": null,
            "min_height": null,
            "min_width": null,
            "object_fit": null,
            "object_position": null,
            "order": null,
            "overflow": null,
            "overflow_x": null,
            "overflow_y": null,
            "padding": null,
            "right": null,
            "top": null,
            "visibility": null,
            "width": null
          }
        },
        "b82450aa56204d02ab850bf0fdfe951e": {
          "model_module": "@jupyter-widgets/controls",
          "model_name": "DescriptionStyleModel",
          "model_module_version": "1.5.0",
          "state": {
            "_model_module": "@jupyter-widgets/controls",
            "_model_module_version": "1.5.0",
            "_model_name": "DescriptionStyleModel",
            "_view_count": null,
            "_view_module": "@jupyter-widgets/base",
            "_view_module_version": "1.2.0",
            "_view_name": "StyleView",
            "description_width": ""
          }
        },
        "c781d66262114d29b87399f029bdc820": {
          "model_module": "@jupyter-widgets/base",
          "model_name": "LayoutModel",
          "model_module_version": "1.2.0",
          "state": {
            "_model_module": "@jupyter-widgets/base",
            "_model_module_version": "1.2.0",
            "_model_name": "LayoutModel",
            "_view_count": null,
            "_view_module": "@jupyter-widgets/base",
            "_view_module_version": "1.2.0",
            "_view_name": "LayoutView",
            "align_content": null,
            "align_items": null,
            "align_self": null,
            "border": null,
            "bottom": null,
            "display": null,
            "flex": null,
            "flex_flow": null,
            "grid_area": null,
            "grid_auto_columns": null,
            "grid_auto_flow": null,
            "grid_auto_rows": null,
            "grid_column": null,
            "grid_gap": null,
            "grid_row": null,
            "grid_template_areas": null,
            "grid_template_columns": null,
            "grid_template_rows": null,
            "height": null,
            "justify_content": null,
            "justify_items": null,
            "left": null,
            "margin": null,
            "max_height": null,
            "max_width": null,
            "min_height": null,
            "min_width": null,
            "object_fit": null,
            "object_position": null,
            "order": null,
            "overflow": null,
            "overflow_x": null,
            "overflow_y": null,
            "padding": null,
            "right": null,
            "top": null,
            "visibility": null,
            "width": null
          }
        },
        "bce8c2df32ce453c9059d8fa4ceb8aab": {
          "model_module": "@jupyter-widgets/controls",
          "model_name": "ProgressStyleModel",
          "model_module_version": "1.5.0",
          "state": {
            "_model_module": "@jupyter-widgets/controls",
            "_model_module_version": "1.5.0",
            "_model_name": "ProgressStyleModel",
            "_view_count": null,
            "_view_module": "@jupyter-widgets/base",
            "_view_module_version": "1.2.0",
            "_view_name": "StyleView",
            "bar_color": null,
            "description_width": ""
          }
        },
        "9b9c62db7084435681fba725b416a514": {
          "model_module": "@jupyter-widgets/base",
          "model_name": "LayoutModel",
          "model_module_version": "1.2.0",
          "state": {
            "_model_module": "@jupyter-widgets/base",
            "_model_module_version": "1.2.0",
            "_model_name": "LayoutModel",
            "_view_count": null,
            "_view_module": "@jupyter-widgets/base",
            "_view_module_version": "1.2.0",
            "_view_name": "LayoutView",
            "align_content": null,
            "align_items": null,
            "align_self": null,
            "border": null,
            "bottom": null,
            "display": null,
            "flex": null,
            "flex_flow": null,
            "grid_area": null,
            "grid_auto_columns": null,
            "grid_auto_flow": null,
            "grid_auto_rows": null,
            "grid_column": null,
            "grid_gap": null,
            "grid_row": null,
            "grid_template_areas": null,
            "grid_template_columns": null,
            "grid_template_rows": null,
            "height": null,
            "justify_content": null,
            "justify_items": null,
            "left": null,
            "margin": null,
            "max_height": null,
            "max_width": null,
            "min_height": null,
            "min_width": null,
            "object_fit": null,
            "object_position": null,
            "order": null,
            "overflow": null,
            "overflow_x": null,
            "overflow_y": null,
            "padding": null,
            "right": null,
            "top": null,
            "visibility": null,
            "width": null
          }
        },
        "c634e1ed22d046429e0c1d1ed1d2282b": {
          "model_module": "@jupyter-widgets/controls",
          "model_name": "DescriptionStyleModel",
          "model_module_version": "1.5.0",
          "state": {
            "_model_module": "@jupyter-widgets/controls",
            "_model_module_version": "1.5.0",
            "_model_name": "DescriptionStyleModel",
            "_view_count": null,
            "_view_module": "@jupyter-widgets/base",
            "_view_module_version": "1.2.0",
            "_view_name": "StyleView",
            "description_width": ""
          }
        },
        "8ef77be62f5144b79be8f16b067bc88e": {
          "model_module": "@jupyter-widgets/controls",
          "model_name": "HBoxModel",
          "model_module_version": "1.5.0",
          "state": {
            "_dom_classes": [],
            "_model_module": "@jupyter-widgets/controls",
            "_model_module_version": "1.5.0",
            "_model_name": "HBoxModel",
            "_view_count": null,
            "_view_module": "@jupyter-widgets/controls",
            "_view_module_version": "1.5.0",
            "_view_name": "HBoxView",
            "box_style": "",
            "children": [
              "IPY_MODEL_f7309547ab324fc893ec5843d41d643a",
              "IPY_MODEL_bbac28bf73144b7d9754e4d058b4c01b",
              "IPY_MODEL_a6e8b53f99ae4c81be976ec7ea986329"
            ],
            "layout": "IPY_MODEL_165da1472e2e4c0e860b2e59e7cc7850"
          }
        },
        "f7309547ab324fc893ec5843d41d643a": {
          "model_module": "@jupyter-widgets/controls",
          "model_name": "HTMLModel",
          "model_module_version": "1.5.0",
          "state": {
            "_dom_classes": [],
            "_model_module": "@jupyter-widgets/controls",
            "_model_module_version": "1.5.0",
            "_model_name": "HTMLModel",
            "_view_count": null,
            "_view_module": "@jupyter-widgets/controls",
            "_view_module_version": "1.5.0",
            "_view_name": "HTMLView",
            "description": "",
            "description_tooltip": null,
            "layout": "IPY_MODEL_1d65fa47d7554b1f8d1ccb4649ff7705",
            "placeholder": "​",
            "style": "IPY_MODEL_ec4330c6a880486589797092041ca57a",
            "value": "Downloading: 100%"
          }
        },
        "bbac28bf73144b7d9754e4d058b4c01b": {
          "model_module": "@jupyter-widgets/controls",
          "model_name": "FloatProgressModel",
          "model_module_version": "1.5.0",
          "state": {
            "_dom_classes": [],
            "_model_module": "@jupyter-widgets/controls",
            "_model_module_version": "1.5.0",
            "_model_name": "FloatProgressModel",
            "_view_count": null,
            "_view_module": "@jupyter-widgets/controls",
            "_view_module_version": "1.5.0",
            "_view_name": "ProgressView",
            "bar_style": "success",
            "description": "",
            "description_tooltip": null,
            "layout": "IPY_MODEL_2fb669f710c443809c812b149bed0a04",
            "max": 1658616,
            "min": 0,
            "orientation": "horizontal",
            "style": "IPY_MODEL_ae425009a63047349bdb7c905491320b",
            "value": 1658616
          }
        },
        "a6e8b53f99ae4c81be976ec7ea986329": {
          "model_module": "@jupyter-widgets/controls",
          "model_name": "HTMLModel",
          "model_module_version": "1.5.0",
          "state": {
            "_dom_classes": [],
            "_model_module": "@jupyter-widgets/controls",
            "_model_module_version": "1.5.0",
            "_model_name": "HTMLModel",
            "_view_count": null,
            "_view_module": "@jupyter-widgets/controls",
            "_view_module_version": "1.5.0",
            "_view_name": "HTMLView",
            "description": "",
            "description_tooltip": null,
            "layout": "IPY_MODEL_3999195d3b9546689d30308d84ccc751",
            "placeholder": "​",
            "style": "IPY_MODEL_dd35700b40d84649b9dad753daafbb2d",
            "value": " 1.66M/1.66M [00:00&lt;00:00, 5.13MB/s]"
          }
        },
        "165da1472e2e4c0e860b2e59e7cc7850": {
          "model_module": "@jupyter-widgets/base",
          "model_name": "LayoutModel",
          "model_module_version": "1.2.0",
          "state": {
            "_model_module": "@jupyter-widgets/base",
            "_model_module_version": "1.2.0",
            "_model_name": "LayoutModel",
            "_view_count": null,
            "_view_module": "@jupyter-widgets/base",
            "_view_module_version": "1.2.0",
            "_view_name": "LayoutView",
            "align_content": null,
            "align_items": null,
            "align_self": null,
            "border": null,
            "bottom": null,
            "display": null,
            "flex": null,
            "flex_flow": null,
            "grid_area": null,
            "grid_auto_columns": null,
            "grid_auto_flow": null,
            "grid_auto_rows": null,
            "grid_column": null,
            "grid_gap": null,
            "grid_row": null,
            "grid_template_areas": null,
            "grid_template_columns": null,
            "grid_template_rows": null,
            "height": null,
            "justify_content": null,
            "justify_items": null,
            "left": null,
            "margin": null,
            "max_height": null,
            "max_width": null,
            "min_height": null,
            "min_width": null,
            "object_fit": null,
            "object_position": null,
            "order": null,
            "overflow": null,
            "overflow_x": null,
            "overflow_y": null,
            "padding": null,
            "right": null,
            "top": null,
            "visibility": null,
            "width": null
          }
        },
        "1d65fa47d7554b1f8d1ccb4649ff7705": {
          "model_module": "@jupyter-widgets/base",
          "model_name": "LayoutModel",
          "model_module_version": "1.2.0",
          "state": {
            "_model_module": "@jupyter-widgets/base",
            "_model_module_version": "1.2.0",
            "_model_name": "LayoutModel",
            "_view_count": null,
            "_view_module": "@jupyter-widgets/base",
            "_view_module_version": "1.2.0",
            "_view_name": "LayoutView",
            "align_content": null,
            "align_items": null,
            "align_self": null,
            "border": null,
            "bottom": null,
            "display": null,
            "flex": null,
            "flex_flow": null,
            "grid_area": null,
            "grid_auto_columns": null,
            "grid_auto_flow": null,
            "grid_auto_rows": null,
            "grid_column": null,
            "grid_gap": null,
            "grid_row": null,
            "grid_template_areas": null,
            "grid_template_columns": null,
            "grid_template_rows": null,
            "height": null,
            "justify_content": null,
            "justify_items": null,
            "left": null,
            "margin": null,
            "max_height": null,
            "max_width": null,
            "min_height": null,
            "min_width": null,
            "object_fit": null,
            "object_position": null,
            "order": null,
            "overflow": null,
            "overflow_x": null,
            "overflow_y": null,
            "padding": null,
            "right": null,
            "top": null,
            "visibility": null,
            "width": null
          }
        },
        "ec4330c6a880486589797092041ca57a": {
          "model_module": "@jupyter-widgets/controls",
          "model_name": "DescriptionStyleModel",
          "model_module_version": "1.5.0",
          "state": {
            "_model_module": "@jupyter-widgets/controls",
            "_model_module_version": "1.5.0",
            "_model_name": "DescriptionStyleModel",
            "_view_count": null,
            "_view_module": "@jupyter-widgets/base",
            "_view_module_version": "1.2.0",
            "_view_name": "StyleView",
            "description_width": ""
          }
        },
        "2fb669f710c443809c812b149bed0a04": {
          "model_module": "@jupyter-widgets/base",
          "model_name": "LayoutModel",
          "model_module_version": "1.2.0",
          "state": {
            "_model_module": "@jupyter-widgets/base",
            "_model_module_version": "1.2.0",
            "_model_name": "LayoutModel",
            "_view_count": null,
            "_view_module": "@jupyter-widgets/base",
            "_view_module_version": "1.2.0",
            "_view_name": "LayoutView",
            "align_content": null,
            "align_items": null,
            "align_self": null,
            "border": null,
            "bottom": null,
            "display": null,
            "flex": null,
            "flex_flow": null,
            "grid_area": null,
            "grid_auto_columns": null,
            "grid_auto_flow": null,
            "grid_auto_rows": null,
            "grid_column": null,
            "grid_gap": null,
            "grid_row": null,
            "grid_template_areas": null,
            "grid_template_columns": null,
            "grid_template_rows": null,
            "height": null,
            "justify_content": null,
            "justify_items": null,
            "left": null,
            "margin": null,
            "max_height": null,
            "max_width": null,
            "min_height": null,
            "min_width": null,
            "object_fit": null,
            "object_position": null,
            "order": null,
            "overflow": null,
            "overflow_x": null,
            "overflow_y": null,
            "padding": null,
            "right": null,
            "top": null,
            "visibility": null,
            "width": null
          }
        },
        "ae425009a63047349bdb7c905491320b": {
          "model_module": "@jupyter-widgets/controls",
          "model_name": "ProgressStyleModel",
          "model_module_version": "1.5.0",
          "state": {
            "_model_module": "@jupyter-widgets/controls",
            "_model_module_version": "1.5.0",
            "_model_name": "ProgressStyleModel",
            "_view_count": null,
            "_view_module": "@jupyter-widgets/base",
            "_view_module_version": "1.2.0",
            "_view_name": "StyleView",
            "bar_color": null,
            "description_width": ""
          }
        },
        "3999195d3b9546689d30308d84ccc751": {
          "model_module": "@jupyter-widgets/base",
          "model_name": "LayoutModel",
          "model_module_version": "1.2.0",
          "state": {
            "_model_module": "@jupyter-widgets/base",
            "_model_module_version": "1.2.0",
            "_model_name": "LayoutModel",
            "_view_count": null,
            "_view_module": "@jupyter-widgets/base",
            "_view_module_version": "1.2.0",
            "_view_name": "LayoutView",
            "align_content": null,
            "align_items": null,
            "align_self": null,
            "border": null,
            "bottom": null,
            "display": null,
            "flex": null,
            "flex_flow": null,
            "grid_area": null,
            "grid_auto_columns": null,
            "grid_auto_flow": null,
            "grid_auto_rows": null,
            "grid_column": null,
            "grid_gap": null,
            "grid_row": null,
            "grid_template_areas": null,
            "grid_template_columns": null,
            "grid_template_rows": null,
            "height": null,
            "justify_content": null,
            "justify_items": null,
            "left": null,
            "margin": null,
            "max_height": null,
            "max_width": null,
            "min_height": null,
            "min_width": null,
            "object_fit": null,
            "object_position": null,
            "order": null,
            "overflow": null,
            "overflow_x": null,
            "overflow_y": null,
            "padding": null,
            "right": null,
            "top": null,
            "visibility": null,
            "width": null
          }
        },
        "dd35700b40d84649b9dad753daafbb2d": {
          "model_module": "@jupyter-widgets/controls",
          "model_name": "DescriptionStyleModel",
          "model_module_version": "1.5.0",
          "state": {
            "_model_module": "@jupyter-widgets/controls",
            "_model_module_version": "1.5.0",
            "_model_name": "DescriptionStyleModel",
            "_view_count": null,
            "_view_module": "@jupyter-widgets/base",
            "_view_module_version": "1.2.0",
            "_view_name": "StyleView",
            "description_width": ""
          }
        },
        "cdd2bf9f65004dc8a02b18ee26c04b66": {
          "model_module": "@jupyter-widgets/controls",
          "model_name": "HBoxModel",
          "model_module_version": "1.5.0",
          "state": {
            "_dom_classes": [],
            "_model_module": "@jupyter-widgets/controls",
            "_model_module_version": "1.5.0",
            "_model_name": "HBoxModel",
            "_view_count": null,
            "_view_module": "@jupyter-widgets/controls",
            "_view_module_version": "1.5.0",
            "_view_name": "HBoxView",
            "box_style": "",
            "children": [
              "IPY_MODEL_d8e969a631ce4b1584a40e9fe6e42ab7",
              "IPY_MODEL_b35e9560457b4f67bd737b43c3083a43",
              "IPY_MODEL_44d4e07880dd44c096ed384180540fd2"
            ],
            "layout": "IPY_MODEL_57f07f2571094042832db7735ff444af"
          }
        },
        "d8e969a631ce4b1584a40e9fe6e42ab7": {
          "model_module": "@jupyter-widgets/controls",
          "model_name": "HTMLModel",
          "model_module_version": "1.5.0",
          "state": {
            "_dom_classes": [],
            "_model_module": "@jupyter-widgets/controls",
            "_model_module_version": "1.5.0",
            "_model_name": "HTMLModel",
            "_view_count": null,
            "_view_module": "@jupyter-widgets/controls",
            "_view_module_version": "1.5.0",
            "_view_name": "HTMLView",
            "description": "",
            "description_tooltip": null,
            "layout": "IPY_MODEL_b81759ba0ea2437eb54384c412afb0cc",
            "placeholder": "​",
            "style": "IPY_MODEL_b0a7b80688c845ba938f4d4627d0dc2b",
            "value": "Downloading: 100%"
          }
        },
        "b35e9560457b4f67bd737b43c3083a43": {
          "model_module": "@jupyter-widgets/controls",
          "model_name": "FloatProgressModel",
          "model_module_version": "1.5.0",
          "state": {
            "_dom_classes": [],
            "_model_module": "@jupyter-widgets/controls",
            "_model_module_version": "1.5.0",
            "_model_name": "FloatProgressModel",
            "_view_count": null,
            "_view_module": "@jupyter-widgets/controls",
            "_view_module_version": "1.5.0",
            "_view_name": "ProgressView",
            "bar_style": "success",
            "description": "",
            "description_tooltip": null,
            "layout": "IPY_MODEL_50c2e6c545fd45dbb935f0809eba81bc",
            "max": 204240,
            "min": 0,
            "orientation": "horizontal",
            "style": "IPY_MODEL_8bcb9e3d953c4b0187e242a5357d74e6",
            "value": 204240
          }
        },
        "44d4e07880dd44c096ed384180540fd2": {
          "model_module": "@jupyter-widgets/controls",
          "model_name": "HTMLModel",
          "model_module_version": "1.5.0",
          "state": {
            "_dom_classes": [],
            "_model_module": "@jupyter-widgets/controls",
            "_model_module_version": "1.5.0",
            "_model_name": "HTMLModel",
            "_view_count": null,
            "_view_module": "@jupyter-widgets/controls",
            "_view_module_version": "1.5.0",
            "_view_name": "HTMLView",
            "description": "",
            "description_tooltip": null,
            "layout": "IPY_MODEL_81f9cf369b2a4a3998969d7aa5b5ed41",
            "placeholder": "​",
            "style": "IPY_MODEL_27836a4030d54e2ea3368846b8be5fcc",
            "value": " 204k/204k [00:00&lt;00:00, 287kB/s]"
          }
        },
        "57f07f2571094042832db7735ff444af": {
          "model_module": "@jupyter-widgets/base",
          "model_name": "LayoutModel",
          "model_module_version": "1.2.0",
          "state": {
            "_model_module": "@jupyter-widgets/base",
            "_model_module_version": "1.2.0",
            "_model_name": "LayoutModel",
            "_view_count": null,
            "_view_module": "@jupyter-widgets/base",
            "_view_module_version": "1.2.0",
            "_view_name": "LayoutView",
            "align_content": null,
            "align_items": null,
            "align_self": null,
            "border": null,
            "bottom": null,
            "display": null,
            "flex": null,
            "flex_flow": null,
            "grid_area": null,
            "grid_auto_columns": null,
            "grid_auto_flow": null,
            "grid_auto_rows": null,
            "grid_column": null,
            "grid_gap": null,
            "grid_row": null,
            "grid_template_areas": null,
            "grid_template_columns": null,
            "grid_template_rows": null,
            "height": null,
            "justify_content": null,
            "justify_items": null,
            "left": null,
            "margin": null,
            "max_height": null,
            "max_width": null,
            "min_height": null,
            "min_width": null,
            "object_fit": null,
            "object_position": null,
            "order": null,
            "overflow": null,
            "overflow_x": null,
            "overflow_y": null,
            "padding": null,
            "right": null,
            "top": null,
            "visibility": null,
            "width": null
          }
        },
        "b81759ba0ea2437eb54384c412afb0cc": {
          "model_module": "@jupyter-widgets/base",
          "model_name": "LayoutModel",
          "model_module_version": "1.2.0",
          "state": {
            "_model_module": "@jupyter-widgets/base",
            "_model_module_version": "1.2.0",
            "_model_name": "LayoutModel",
            "_view_count": null,
            "_view_module": "@jupyter-widgets/base",
            "_view_module_version": "1.2.0",
            "_view_name": "LayoutView",
            "align_content": null,
            "align_items": null,
            "align_self": null,
            "border": null,
            "bottom": null,
            "display": null,
            "flex": null,
            "flex_flow": null,
            "grid_area": null,
            "grid_auto_columns": null,
            "grid_auto_flow": null,
            "grid_auto_rows": null,
            "grid_column": null,
            "grid_gap": null,
            "grid_row": null,
            "grid_template_areas": null,
            "grid_template_columns": null,
            "grid_template_rows": null,
            "height": null,
            "justify_content": null,
            "justify_items": null,
            "left": null,
            "margin": null,
            "max_height": null,
            "max_width": null,
            "min_height": null,
            "min_width": null,
            "object_fit": null,
            "object_position": null,
            "order": null,
            "overflow": null,
            "overflow_x": null,
            "overflow_y": null,
            "padding": null,
            "right": null,
            "top": null,
            "visibility": null,
            "width": null
          }
        },
        "b0a7b80688c845ba938f4d4627d0dc2b": {
          "model_module": "@jupyter-widgets/controls",
          "model_name": "DescriptionStyleModel",
          "model_module_version": "1.5.0",
          "state": {
            "_model_module": "@jupyter-widgets/controls",
            "_model_module_version": "1.5.0",
            "_model_name": "DescriptionStyleModel",
            "_view_count": null,
            "_view_module": "@jupyter-widgets/base",
            "_view_module_version": "1.2.0",
            "_view_name": "StyleView",
            "description_width": ""
          }
        },
        "50c2e6c545fd45dbb935f0809eba81bc": {
          "model_module": "@jupyter-widgets/base",
          "model_name": "LayoutModel",
          "model_module_version": "1.2.0",
          "state": {
            "_model_module": "@jupyter-widgets/base",
            "_model_module_version": "1.2.0",
            "_model_name": "LayoutModel",
            "_view_count": null,
            "_view_module": "@jupyter-widgets/base",
            "_view_module_version": "1.2.0",
            "_view_name": "LayoutView",
            "align_content": null,
            "align_items": null,
            "align_self": null,
            "border": null,
            "bottom": null,
            "display": null,
            "flex": null,
            "flex_flow": null,
            "grid_area": null,
            "grid_auto_columns": null,
            "grid_auto_flow": null,
            "grid_auto_rows": null,
            "grid_column": null,
            "grid_gap": null,
            "grid_row": null,
            "grid_template_areas": null,
            "grid_template_columns": null,
            "grid_template_rows": null,
            "height": null,
            "justify_content": null,
            "justify_items": null,
            "left": null,
            "margin": null,
            "max_height": null,
            "max_width": null,
            "min_height": null,
            "min_width": null,
            "object_fit": null,
            "object_position": null,
            "order": null,
            "overflow": null,
            "overflow_x": null,
            "overflow_y": null,
            "padding": null,
            "right": null,
            "top": null,
            "visibility": null,
            "width": null
          }
        },
        "8bcb9e3d953c4b0187e242a5357d74e6": {
          "model_module": "@jupyter-widgets/controls",
          "model_name": "ProgressStyleModel",
          "model_module_version": "1.5.0",
          "state": {
            "_model_module": "@jupyter-widgets/controls",
            "_model_module_version": "1.5.0",
            "_model_name": "ProgressStyleModel",
            "_view_count": null,
            "_view_module": "@jupyter-widgets/base",
            "_view_module_version": "1.2.0",
            "_view_name": "StyleView",
            "bar_color": null,
            "description_width": ""
          }
        },
        "81f9cf369b2a4a3998969d7aa5b5ed41": {
          "model_module": "@jupyter-widgets/base",
          "model_name": "LayoutModel",
          "model_module_version": "1.2.0",
          "state": {
            "_model_module": "@jupyter-widgets/base",
            "_model_module_version": "1.2.0",
            "_model_name": "LayoutModel",
            "_view_count": null,
            "_view_module": "@jupyter-widgets/base",
            "_view_module_version": "1.2.0",
            "_view_name": "LayoutView",
            "align_content": null,
            "align_items": null,
            "align_self": null,
            "border": null,
            "bottom": null,
            "display": null,
            "flex": null,
            "flex_flow": null,
            "grid_area": null,
            "grid_auto_columns": null,
            "grid_auto_flow": null,
            "grid_auto_rows": null,
            "grid_column": null,
            "grid_gap": null,
            "grid_row": null,
            "grid_template_areas": null,
            "grid_template_columns": null,
            "grid_template_rows": null,
            "height": null,
            "justify_content": null,
            "justify_items": null,
            "left": null,
            "margin": null,
            "max_height": null,
            "max_width": null,
            "min_height": null,
            "min_width": null,
            "object_fit": null,
            "object_position": null,
            "order": null,
            "overflow": null,
            "overflow_x": null,
            "overflow_y": null,
            "padding": null,
            "right": null,
            "top": null,
            "visibility": null,
            "width": null
          }
        },
        "27836a4030d54e2ea3368846b8be5fcc": {
          "model_module": "@jupyter-widgets/controls",
          "model_name": "DescriptionStyleModel",
          "model_module_version": "1.5.0",
          "state": {
            "_model_module": "@jupyter-widgets/controls",
            "_model_module_version": "1.5.0",
            "_model_name": "DescriptionStyleModel",
            "_view_count": null,
            "_view_module": "@jupyter-widgets/base",
            "_view_module_version": "1.2.0",
            "_view_name": "StyleView",
            "description_width": ""
          }
        },
        "75d952166fb645afbd1c0e3e3c582809": {
          "model_module": "@jupyter-widgets/controls",
          "model_name": "HBoxModel",
          "model_module_version": "1.5.0",
          "state": {
            "_dom_classes": [],
            "_model_module": "@jupyter-widgets/controls",
            "_model_module_version": "1.5.0",
            "_model_name": "HBoxModel",
            "_view_count": null,
            "_view_module": "@jupyter-widgets/controls",
            "_view_module_version": "1.5.0",
            "_view_name": "HBoxView",
            "box_style": "",
            "children": [
              "IPY_MODEL_197f29309dc4484c9f5524e05eb4228f",
              "IPY_MODEL_5787815e5d574bd9879800e1eab621c1",
              "IPY_MODEL_9e5d9a6f458c44048534c5219f5be7ed"
            ],
            "layout": "IPY_MODEL_af2b786bb8f245e496e739b0ed135e3b"
          }
        },
        "197f29309dc4484c9f5524e05eb4228f": {
          "model_module": "@jupyter-widgets/controls",
          "model_name": "HTMLModel",
          "model_module_version": "1.5.0",
          "state": {
            "_dom_classes": [],
            "_model_module": "@jupyter-widgets/controls",
            "_model_module_version": "1.5.0",
            "_model_name": "HTMLModel",
            "_view_count": null,
            "_view_module": "@jupyter-widgets/controls",
            "_view_module_version": "1.5.0",
            "_view_name": "HTMLView",
            "description": "",
            "description_tooltip": null,
            "layout": "IPY_MODEL_b569a370d8744f4a9dac82527c59b84e",
            "placeholder": "​",
            "style": "IPY_MODEL_2bc0c2b6bcf14f89ba1bbcd69467fc39",
            "value": "Downloading: 100%"
          }
        },
        "5787815e5d574bd9879800e1eab621c1": {
          "model_module": "@jupyter-widgets/controls",
          "model_name": "FloatProgressModel",
          "model_module_version": "1.5.0",
          "state": {
            "_dom_classes": [],
            "_model_module": "@jupyter-widgets/controls",
            "_model_module_version": "1.5.0",
            "_model_name": "FloatProgressModel",
            "_view_count": null,
            "_view_module": "@jupyter-widgets/controls",
            "_view_module_version": "1.5.0",
            "_view_name": "ProgressView",
            "bar_style": "success",
            "description": "",
            "description_tooltip": null,
            "layout": "IPY_MODEL_b186441a3665464c98e442c52a8f7dcb",
            "max": 206760,
            "min": 0,
            "orientation": "horizontal",
            "style": "IPY_MODEL_6fc06d8dd9aa4a0897fc12c8924207b8",
            "value": 206760
          }
        },
        "9e5d9a6f458c44048534c5219f5be7ed": {
          "model_module": "@jupyter-widgets/controls",
          "model_name": "HTMLModel",
          "model_module_version": "1.5.0",
          "state": {
            "_dom_classes": [],
            "_model_module": "@jupyter-widgets/controls",
            "_model_module_version": "1.5.0",
            "_model_name": "HTMLModel",
            "_view_count": null,
            "_view_module": "@jupyter-widgets/controls",
            "_view_module_version": "1.5.0",
            "_view_name": "HTMLView",
            "description": "",
            "description_tooltip": null,
            "layout": "IPY_MODEL_4cde03b7a1aa4754a16f31fd7afa3363",
            "placeholder": "​",
            "style": "IPY_MODEL_2b7f77d053f14cca975c85c5a3862b1b",
            "value": " 207k/207k [00:00&lt;00:00, 7.29kB/s]"
          }
        },
        "af2b786bb8f245e496e739b0ed135e3b": {
          "model_module": "@jupyter-widgets/base",
          "model_name": "LayoutModel",
          "model_module_version": "1.2.0",
          "state": {
            "_model_module": "@jupyter-widgets/base",
            "_model_module_version": "1.2.0",
            "_model_name": "LayoutModel",
            "_view_count": null,
            "_view_module": "@jupyter-widgets/base",
            "_view_module_version": "1.2.0",
            "_view_name": "LayoutView",
            "align_content": null,
            "align_items": null,
            "align_self": null,
            "border": null,
            "bottom": null,
            "display": null,
            "flex": null,
            "flex_flow": null,
            "grid_area": null,
            "grid_auto_columns": null,
            "grid_auto_flow": null,
            "grid_auto_rows": null,
            "grid_column": null,
            "grid_gap": null,
            "grid_row": null,
            "grid_template_areas": null,
            "grid_template_columns": null,
            "grid_template_rows": null,
            "height": null,
            "justify_content": null,
            "justify_items": null,
            "left": null,
            "margin": null,
            "max_height": null,
            "max_width": null,
            "min_height": null,
            "min_width": null,
            "object_fit": null,
            "object_position": null,
            "order": null,
            "overflow": null,
            "overflow_x": null,
            "overflow_y": null,
            "padding": null,
            "right": null,
            "top": null,
            "visibility": null,
            "width": null
          }
        },
        "b569a370d8744f4a9dac82527c59b84e": {
          "model_module": "@jupyter-widgets/base",
          "model_name": "LayoutModel",
          "model_module_version": "1.2.0",
          "state": {
            "_model_module": "@jupyter-widgets/base",
            "_model_module_version": "1.2.0",
            "_model_name": "LayoutModel",
            "_view_count": null,
            "_view_module": "@jupyter-widgets/base",
            "_view_module_version": "1.2.0",
            "_view_name": "LayoutView",
            "align_content": null,
            "align_items": null,
            "align_self": null,
            "border": null,
            "bottom": null,
            "display": null,
            "flex": null,
            "flex_flow": null,
            "grid_area": null,
            "grid_auto_columns": null,
            "grid_auto_flow": null,
            "grid_auto_rows": null,
            "grid_column": null,
            "grid_gap": null,
            "grid_row": null,
            "grid_template_areas": null,
            "grid_template_columns": null,
            "grid_template_rows": null,
            "height": null,
            "justify_content": null,
            "justify_items": null,
            "left": null,
            "margin": null,
            "max_height": null,
            "max_width": null,
            "min_height": null,
            "min_width": null,
            "object_fit": null,
            "object_position": null,
            "order": null,
            "overflow": null,
            "overflow_x": null,
            "overflow_y": null,
            "padding": null,
            "right": null,
            "top": null,
            "visibility": null,
            "width": null
          }
        },
        "2bc0c2b6bcf14f89ba1bbcd69467fc39": {
          "model_module": "@jupyter-widgets/controls",
          "model_name": "DescriptionStyleModel",
          "model_module_version": "1.5.0",
          "state": {
            "_model_module": "@jupyter-widgets/controls",
            "_model_module_version": "1.5.0",
            "_model_name": "DescriptionStyleModel",
            "_view_count": null,
            "_view_module": "@jupyter-widgets/base",
            "_view_module_version": "1.2.0",
            "_view_name": "StyleView",
            "description_width": ""
          }
        },
        "b186441a3665464c98e442c52a8f7dcb": {
          "model_module": "@jupyter-widgets/base",
          "model_name": "LayoutModel",
          "model_module_version": "1.2.0",
          "state": {
            "_model_module": "@jupyter-widgets/base",
            "_model_module_version": "1.2.0",
            "_model_name": "LayoutModel",
            "_view_count": null,
            "_view_module": "@jupyter-widgets/base",
            "_view_module_version": "1.2.0",
            "_view_name": "LayoutView",
            "align_content": null,
            "align_items": null,
            "align_self": null,
            "border": null,
            "bottom": null,
            "display": null,
            "flex": null,
            "flex_flow": null,
            "grid_area": null,
            "grid_auto_columns": null,
            "grid_auto_flow": null,
            "grid_auto_rows": null,
            "grid_column": null,
            "grid_gap": null,
            "grid_row": null,
            "grid_template_areas": null,
            "grid_template_columns": null,
            "grid_template_rows": null,
            "height": null,
            "justify_content": null,
            "justify_items": null,
            "left": null,
            "margin": null,
            "max_height": null,
            "max_width": null,
            "min_height": null,
            "min_width": null,
            "object_fit": null,
            "object_position": null,
            "order": null,
            "overflow": null,
            "overflow_x": null,
            "overflow_y": null,
            "padding": null,
            "right": null,
            "top": null,
            "visibility": null,
            "width": null
          }
        },
        "6fc06d8dd9aa4a0897fc12c8924207b8": {
          "model_module": "@jupyter-widgets/controls",
          "model_name": "ProgressStyleModel",
          "model_module_version": "1.5.0",
          "state": {
            "_model_module": "@jupyter-widgets/controls",
            "_model_module_version": "1.5.0",
            "_model_name": "ProgressStyleModel",
            "_view_count": null,
            "_view_module": "@jupyter-widgets/base",
            "_view_module_version": "1.2.0",
            "_view_name": "StyleView",
            "bar_color": null,
            "description_width": ""
          }
        },
        "4cde03b7a1aa4754a16f31fd7afa3363": {
          "model_module": "@jupyter-widgets/base",
          "model_name": "LayoutModel",
          "model_module_version": "1.2.0",
          "state": {
            "_model_module": "@jupyter-widgets/base",
            "_model_module_version": "1.2.0",
            "_model_name": "LayoutModel",
            "_view_count": null,
            "_view_module": "@jupyter-widgets/base",
            "_view_module_version": "1.2.0",
            "_view_name": "LayoutView",
            "align_content": null,
            "align_items": null,
            "align_self": null,
            "border": null,
            "bottom": null,
            "display": null,
            "flex": null,
            "flex_flow": null,
            "grid_area": null,
            "grid_auto_columns": null,
            "grid_auto_flow": null,
            "grid_auto_rows": null,
            "grid_column": null,
            "grid_gap": null,
            "grid_row": null,
            "grid_template_areas": null,
            "grid_template_columns": null,
            "grid_template_rows": null,
            "height": null,
            "justify_content": null,
            "justify_items": null,
            "left": null,
            "margin": null,
            "max_height": null,
            "max_width": null,
            "min_height": null,
            "min_width": null,
            "object_fit": null,
            "object_position": null,
            "order": null,
            "overflow": null,
            "overflow_x": null,
            "overflow_y": null,
            "padding": null,
            "right": null,
            "top": null,
            "visibility": null,
            "width": null
          }
        },
        "2b7f77d053f14cca975c85c5a3862b1b": {
          "model_module": "@jupyter-widgets/controls",
          "model_name": "DescriptionStyleModel",
          "model_module_version": "1.5.0",
          "state": {
            "_model_module": "@jupyter-widgets/controls",
            "_model_module_version": "1.5.0",
            "_model_name": "DescriptionStyleModel",
            "_view_count": null,
            "_view_module": "@jupyter-widgets/base",
            "_view_module_version": "1.2.0",
            "_view_name": "StyleView",
            "description_width": ""
          }
        },
        "a07a232c677a4ef0b024faa2a823c418": {
          "model_module": "@jupyter-widgets/controls",
          "model_name": "HBoxModel",
          "model_module_version": "1.5.0",
          "state": {
            "_dom_classes": [],
            "_model_module": "@jupyter-widgets/controls",
            "_model_module_version": "1.5.0",
            "_model_name": "HBoxModel",
            "_view_count": null,
            "_view_module": "@jupyter-widgets/controls",
            "_view_module_version": "1.5.0",
            "_view_name": "HBoxView",
            "box_style": "",
            "children": [
              "IPY_MODEL_61bc35955fb441dfabec9819394fc649",
              "IPY_MODEL_4739127d71a74695b52915decc37dc10",
              "IPY_MODEL_accacb6089534e28ad6c45b34183df71"
            ],
            "layout": "IPY_MODEL_72a34803b4134b71bd6cd49c1a2ee185"
          }
        },
        "61bc35955fb441dfabec9819394fc649": {
          "model_module": "@jupyter-widgets/controls",
          "model_name": "HTMLModel",
          "model_module_version": "1.5.0",
          "state": {
            "_dom_classes": [],
            "_model_module": "@jupyter-widgets/controls",
            "_model_module_version": "1.5.0",
            "_model_name": "HTMLModel",
            "_view_count": null,
            "_view_module": "@jupyter-widgets/controls",
            "_view_module_version": "1.5.0",
            "_view_name": "HTMLView",
            "description": "",
            "description_tooltip": null,
            "layout": "IPY_MODEL_55238d8f390c4784a2c024a2d623cd6f",
            "placeholder": "​",
            "style": "IPY_MODEL_2af44b4447e84091af490e212193d881",
            "value": ""
          }
        },
        "4739127d71a74695b52915decc37dc10": {
          "model_module": "@jupyter-widgets/controls",
          "model_name": "FloatProgressModel",
          "model_module_version": "1.5.0",
          "state": {
            "_dom_classes": [],
            "_model_module": "@jupyter-widgets/controls",
            "_model_module_version": "1.5.0",
            "_model_name": "FloatProgressModel",
            "_view_count": null,
            "_view_module": "@jupyter-widgets/controls",
            "_view_module_version": "1.5.0",
            "_view_name": "ProgressView",
            "bar_style": "info",
            "description": "",
            "description_tooltip": null,
            "layout": "IPY_MODEL_c50263a6309e4506880ad8fd39311fa5",
            "max": 1,
            "min": 0,
            "orientation": "horizontal",
            "style": "IPY_MODEL_5d8d9e7496f7455bbba1ba63221d8d98",
            "value": 1
          }
        },
        "accacb6089534e28ad6c45b34183df71": {
          "model_module": "@jupyter-widgets/controls",
          "model_name": "HTMLModel",
          "model_module_version": "1.5.0",
          "state": {
            "_dom_classes": [],
            "_model_module": "@jupyter-widgets/controls",
            "_model_module_version": "1.5.0",
            "_model_name": "HTMLModel",
            "_view_count": null,
            "_view_module": "@jupyter-widgets/controls",
            "_view_module_version": "1.5.0",
            "_view_name": "HTMLView",
            "description": "",
            "description_tooltip": null,
            "layout": "IPY_MODEL_8fb321cc74284fdf93ef46561aeb6bce",
            "placeholder": "​",
            "style": "IPY_MODEL_cc6caaccfc9c4b629897e15316275522",
            "value": " 15291/0 [00:00&lt;00:00, 16516.74 examples/s]"
          }
        },
        "72a34803b4134b71bd6cd49c1a2ee185": {
          "model_module": "@jupyter-widgets/base",
          "model_name": "LayoutModel",
          "model_module_version": "1.2.0",
          "state": {
            "_model_module": "@jupyter-widgets/base",
            "_model_module_version": "1.2.0",
            "_model_name": "LayoutModel",
            "_view_count": null,
            "_view_module": "@jupyter-widgets/base",
            "_view_module_version": "1.2.0",
            "_view_name": "LayoutView",
            "align_content": null,
            "align_items": null,
            "align_self": null,
            "border": null,
            "bottom": null,
            "display": null,
            "flex": null,
            "flex_flow": null,
            "grid_area": null,
            "grid_auto_columns": null,
            "grid_auto_flow": null,
            "grid_auto_rows": null,
            "grid_column": null,
            "grid_gap": null,
            "grid_row": null,
            "grid_template_areas": null,
            "grid_template_columns": null,
            "grid_template_rows": null,
            "height": null,
            "justify_content": null,
            "justify_items": null,
            "left": null,
            "margin": null,
            "max_height": null,
            "max_width": null,
            "min_height": null,
            "min_width": null,
            "object_fit": null,
            "object_position": null,
            "order": null,
            "overflow": null,
            "overflow_x": null,
            "overflow_y": null,
            "padding": null,
            "right": null,
            "top": null,
            "visibility": null,
            "width": null
          }
        },
        "55238d8f390c4784a2c024a2d623cd6f": {
          "model_module": "@jupyter-widgets/base",
          "model_name": "LayoutModel",
          "model_module_version": "1.2.0",
          "state": {
            "_model_module": "@jupyter-widgets/base",
            "_model_module_version": "1.2.0",
            "_model_name": "LayoutModel",
            "_view_count": null,
            "_view_module": "@jupyter-widgets/base",
            "_view_module_version": "1.2.0",
            "_view_name": "LayoutView",
            "align_content": null,
            "align_items": null,
            "align_self": null,
            "border": null,
            "bottom": null,
            "display": null,
            "flex": null,
            "flex_flow": null,
            "grid_area": null,
            "grid_auto_columns": null,
            "grid_auto_flow": null,
            "grid_auto_rows": null,
            "grid_column": null,
            "grid_gap": null,
            "grid_row": null,
            "grid_template_areas": null,
            "grid_template_columns": null,
            "grid_template_rows": null,
            "height": null,
            "justify_content": null,
            "justify_items": null,
            "left": null,
            "margin": null,
            "max_height": null,
            "max_width": null,
            "min_height": null,
            "min_width": null,
            "object_fit": null,
            "object_position": null,
            "order": null,
            "overflow": null,
            "overflow_x": null,
            "overflow_y": null,
            "padding": null,
            "right": null,
            "top": null,
            "visibility": null,
            "width": null
          }
        },
        "2af44b4447e84091af490e212193d881": {
          "model_module": "@jupyter-widgets/controls",
          "model_name": "DescriptionStyleModel",
          "model_module_version": "1.5.0",
          "state": {
            "_model_module": "@jupyter-widgets/controls",
            "_model_module_version": "1.5.0",
            "_model_name": "DescriptionStyleModel",
            "_view_count": null,
            "_view_module": "@jupyter-widgets/base",
            "_view_module_version": "1.2.0",
            "_view_name": "StyleView",
            "description_width": ""
          }
        },
        "c50263a6309e4506880ad8fd39311fa5": {
          "model_module": "@jupyter-widgets/base",
          "model_name": "LayoutModel",
          "model_module_version": "1.2.0",
          "state": {
            "_model_module": "@jupyter-widgets/base",
            "_model_module_version": "1.2.0",
            "_model_name": "LayoutModel",
            "_view_count": null,
            "_view_module": "@jupyter-widgets/base",
            "_view_module_version": "1.2.0",
            "_view_name": "LayoutView",
            "align_content": null,
            "align_items": null,
            "align_self": null,
            "border": null,
            "bottom": null,
            "display": null,
            "flex": null,
            "flex_flow": null,
            "grid_area": null,
            "grid_auto_columns": null,
            "grid_auto_flow": null,
            "grid_auto_rows": null,
            "grid_column": null,
            "grid_gap": null,
            "grid_row": null,
            "grid_template_areas": null,
            "grid_template_columns": null,
            "grid_template_rows": null,
            "height": null,
            "justify_content": null,
            "justify_items": null,
            "left": null,
            "margin": null,
            "max_height": null,
            "max_width": null,
            "min_height": null,
            "min_width": null,
            "object_fit": null,
            "object_position": null,
            "order": null,
            "overflow": null,
            "overflow_x": null,
            "overflow_y": null,
            "padding": null,
            "right": null,
            "top": null,
            "visibility": null,
            "width": "20px"
          }
        },
        "5d8d9e7496f7455bbba1ba63221d8d98": {
          "model_module": "@jupyter-widgets/controls",
          "model_name": "ProgressStyleModel",
          "model_module_version": "1.5.0",
          "state": {
            "_model_module": "@jupyter-widgets/controls",
            "_model_module_version": "1.5.0",
            "_model_name": "ProgressStyleModel",
            "_view_count": null,
            "_view_module": "@jupyter-widgets/base",
            "_view_module_version": "1.2.0",
            "_view_name": "StyleView",
            "bar_color": null,
            "description_width": ""
          }
        },
        "8fb321cc74284fdf93ef46561aeb6bce": {
          "model_module": "@jupyter-widgets/base",
          "model_name": "LayoutModel",
          "model_module_version": "1.2.0",
          "state": {
            "_model_module": "@jupyter-widgets/base",
            "_model_module_version": "1.2.0",
            "_model_name": "LayoutModel",
            "_view_count": null,
            "_view_module": "@jupyter-widgets/base",
            "_view_module_version": "1.2.0",
            "_view_name": "LayoutView",
            "align_content": null,
            "align_items": null,
            "align_self": null,
            "border": null,
            "bottom": null,
            "display": null,
            "flex": null,
            "flex_flow": null,
            "grid_area": null,
            "grid_auto_columns": null,
            "grid_auto_flow": null,
            "grid_auto_rows": null,
            "grid_column": null,
            "grid_gap": null,
            "grid_row": null,
            "grid_template_areas": null,
            "grid_template_columns": null,
            "grid_template_rows": null,
            "height": null,
            "justify_content": null,
            "justify_items": null,
            "left": null,
            "margin": null,
            "max_height": null,
            "max_width": null,
            "min_height": null,
            "min_width": null,
            "object_fit": null,
            "object_position": null,
            "order": null,
            "overflow": null,
            "overflow_x": null,
            "overflow_y": null,
            "padding": null,
            "right": null,
            "top": null,
            "visibility": null,
            "width": null
          }
        },
        "cc6caaccfc9c4b629897e15316275522": {
          "model_module": "@jupyter-widgets/controls",
          "model_name": "DescriptionStyleModel",
          "model_module_version": "1.5.0",
          "state": {
            "_model_module": "@jupyter-widgets/controls",
            "_model_module_version": "1.5.0",
            "_model_name": "DescriptionStyleModel",
            "_view_count": null,
            "_view_module": "@jupyter-widgets/base",
            "_view_module_version": "1.2.0",
            "_view_name": "StyleView",
            "description_width": ""
          }
        },
        "b1ba98211a7844e391c347723bdd5d5d": {
          "model_module": "@jupyter-widgets/controls",
          "model_name": "HBoxModel",
          "model_module_version": "1.5.0",
          "state": {
            "_dom_classes": [],
            "_model_module": "@jupyter-widgets/controls",
            "_model_module_version": "1.5.0",
            "_model_name": "HBoxModel",
            "_view_count": null,
            "_view_module": "@jupyter-widgets/controls",
            "_view_module_version": "1.5.0",
            "_view_name": "HBoxView",
            "box_style": "",
            "children": [
              "IPY_MODEL_04b76ebff0e2492abf6e6bbfa3c4f460",
              "IPY_MODEL_123fee7485cc4987a1f2ff8b592cb506",
              "IPY_MODEL_4824e12a667d4587a8378c23db776276"
            ],
            "layout": "IPY_MODEL_f89d2ccfce7240138ac1700876f87a69"
          }
        },
        "04b76ebff0e2492abf6e6bbfa3c4f460": {
          "model_module": "@jupyter-widgets/controls",
          "model_name": "HTMLModel",
          "model_module_version": "1.5.0",
          "state": {
            "_dom_classes": [],
            "_model_module": "@jupyter-widgets/controls",
            "_model_module_version": "1.5.0",
            "_model_name": "HTMLModel",
            "_view_count": null,
            "_view_module": "@jupyter-widgets/controls",
            "_view_module_version": "1.5.0",
            "_view_name": "HTMLView",
            "description": "",
            "description_tooltip": null,
            "layout": "IPY_MODEL_3bc63060b6e94a508c3f3b7c46bfd2d6",
            "placeholder": "​",
            "style": "IPY_MODEL_047db1f7be39430483f077d901a8cf75",
            "value": ""
          }
        },
        "123fee7485cc4987a1f2ff8b592cb506": {
          "model_module": "@jupyter-widgets/controls",
          "model_name": "FloatProgressModel",
          "model_module_version": "1.5.0",
          "state": {
            "_dom_classes": [],
            "_model_module": "@jupyter-widgets/controls",
            "_model_module_version": "1.5.0",
            "_model_name": "FloatProgressModel",
            "_view_count": null,
            "_view_module": "@jupyter-widgets/controls",
            "_view_module_version": "1.5.0",
            "_view_name": "ProgressView",
            "bar_style": "info",
            "description": "",
            "description_tooltip": null,
            "layout": "IPY_MODEL_376bdb02b47744dfa6c5daa72aaa84d2",
            "max": 1,
            "min": 0,
            "orientation": "horizontal",
            "style": "IPY_MODEL_6d1056809eb34c8a9ab9f8521849363a",
            "value": 1
          }
        },
        "4824e12a667d4587a8378c23db776276": {
          "model_module": "@jupyter-widgets/controls",
          "model_name": "HTMLModel",
          "model_module_version": "1.5.0",
          "state": {
            "_dom_classes": [],
            "_model_module": "@jupyter-widgets/controls",
            "_model_module_version": "1.5.0",
            "_model_name": "HTMLModel",
            "_view_count": null,
            "_view_module": "@jupyter-widgets/controls",
            "_view_module_version": "1.5.0",
            "_view_name": "HTMLView",
            "description": "",
            "description_tooltip": null,
            "layout": "IPY_MODEL_52024e2af43141f19d22b9003700154f",
            "placeholder": "​",
            "style": "IPY_MODEL_dc58e0855cef4878bcb98c245bcb7725",
            "value": " 185/0 [00:00&lt;00:00, 1849.52 examples/s]"
          }
        },
        "f89d2ccfce7240138ac1700876f87a69": {
          "model_module": "@jupyter-widgets/base",
          "model_name": "LayoutModel",
          "model_module_version": "1.2.0",
          "state": {
            "_model_module": "@jupyter-widgets/base",
            "_model_module_version": "1.2.0",
            "_model_name": "LayoutModel",
            "_view_count": null,
            "_view_module": "@jupyter-widgets/base",
            "_view_module_version": "1.2.0",
            "_view_name": "LayoutView",
            "align_content": null,
            "align_items": null,
            "align_self": null,
            "border": null,
            "bottom": null,
            "display": null,
            "flex": null,
            "flex_flow": null,
            "grid_area": null,
            "grid_auto_columns": null,
            "grid_auto_flow": null,
            "grid_auto_rows": null,
            "grid_column": null,
            "grid_gap": null,
            "grid_row": null,
            "grid_template_areas": null,
            "grid_template_columns": null,
            "grid_template_rows": null,
            "height": null,
            "justify_content": null,
            "justify_items": null,
            "left": null,
            "margin": null,
            "max_height": null,
            "max_width": null,
            "min_height": null,
            "min_width": null,
            "object_fit": null,
            "object_position": null,
            "order": null,
            "overflow": null,
            "overflow_x": null,
            "overflow_y": null,
            "padding": null,
            "right": null,
            "top": null,
            "visibility": null,
            "width": null
          }
        },
        "3bc63060b6e94a508c3f3b7c46bfd2d6": {
          "model_module": "@jupyter-widgets/base",
          "model_name": "LayoutModel",
          "model_module_version": "1.2.0",
          "state": {
            "_model_module": "@jupyter-widgets/base",
            "_model_module_version": "1.2.0",
            "_model_name": "LayoutModel",
            "_view_count": null,
            "_view_module": "@jupyter-widgets/base",
            "_view_module_version": "1.2.0",
            "_view_name": "LayoutView",
            "align_content": null,
            "align_items": null,
            "align_self": null,
            "border": null,
            "bottom": null,
            "display": null,
            "flex": null,
            "flex_flow": null,
            "grid_area": null,
            "grid_auto_columns": null,
            "grid_auto_flow": null,
            "grid_auto_rows": null,
            "grid_column": null,
            "grid_gap": null,
            "grid_row": null,
            "grid_template_areas": null,
            "grid_template_columns": null,
            "grid_template_rows": null,
            "height": null,
            "justify_content": null,
            "justify_items": null,
            "left": null,
            "margin": null,
            "max_height": null,
            "max_width": null,
            "min_height": null,
            "min_width": null,
            "object_fit": null,
            "object_position": null,
            "order": null,
            "overflow": null,
            "overflow_x": null,
            "overflow_y": null,
            "padding": null,
            "right": null,
            "top": null,
            "visibility": null,
            "width": null
          }
        },
        "047db1f7be39430483f077d901a8cf75": {
          "model_module": "@jupyter-widgets/controls",
          "model_name": "DescriptionStyleModel",
          "model_module_version": "1.5.0",
          "state": {
            "_model_module": "@jupyter-widgets/controls",
            "_model_module_version": "1.5.0",
            "_model_name": "DescriptionStyleModel",
            "_view_count": null,
            "_view_module": "@jupyter-widgets/base",
            "_view_module_version": "1.2.0",
            "_view_name": "StyleView",
            "description_width": ""
          }
        },
        "376bdb02b47744dfa6c5daa72aaa84d2": {
          "model_module": "@jupyter-widgets/base",
          "model_name": "LayoutModel",
          "model_module_version": "1.2.0",
          "state": {
            "_model_module": "@jupyter-widgets/base",
            "_model_module_version": "1.2.0",
            "_model_name": "LayoutModel",
            "_view_count": null,
            "_view_module": "@jupyter-widgets/base",
            "_view_module_version": "1.2.0",
            "_view_name": "LayoutView",
            "align_content": null,
            "align_items": null,
            "align_self": null,
            "border": null,
            "bottom": null,
            "display": null,
            "flex": null,
            "flex_flow": null,
            "grid_area": null,
            "grid_auto_columns": null,
            "grid_auto_flow": null,
            "grid_auto_rows": null,
            "grid_column": null,
            "grid_gap": null,
            "grid_row": null,
            "grid_template_areas": null,
            "grid_template_columns": null,
            "grid_template_rows": null,
            "height": null,
            "justify_content": null,
            "justify_items": null,
            "left": null,
            "margin": null,
            "max_height": null,
            "max_width": null,
            "min_height": null,
            "min_width": null,
            "object_fit": null,
            "object_position": null,
            "order": null,
            "overflow": null,
            "overflow_x": null,
            "overflow_y": null,
            "padding": null,
            "right": null,
            "top": null,
            "visibility": null,
            "width": "20px"
          }
        },
        "6d1056809eb34c8a9ab9f8521849363a": {
          "model_module": "@jupyter-widgets/controls",
          "model_name": "ProgressStyleModel",
          "model_module_version": "1.5.0",
          "state": {
            "_model_module": "@jupyter-widgets/controls",
            "_model_module_version": "1.5.0",
            "_model_name": "ProgressStyleModel",
            "_view_count": null,
            "_view_module": "@jupyter-widgets/base",
            "_view_module_version": "1.2.0",
            "_view_name": "StyleView",
            "bar_color": null,
            "description_width": ""
          }
        },
        "52024e2af43141f19d22b9003700154f": {
          "model_module": "@jupyter-widgets/base",
          "model_name": "LayoutModel",
          "model_module_version": "1.2.0",
          "state": {
            "_model_module": "@jupyter-widgets/base",
            "_model_module_version": "1.2.0",
            "_model_name": "LayoutModel",
            "_view_count": null,
            "_view_module": "@jupyter-widgets/base",
            "_view_module_version": "1.2.0",
            "_view_name": "LayoutView",
            "align_content": null,
            "align_items": null,
            "align_self": null,
            "border": null,
            "bottom": null,
            "display": null,
            "flex": null,
            "flex_flow": null,
            "grid_area": null,
            "grid_auto_columns": null,
            "grid_auto_flow": null,
            "grid_auto_rows": null,
            "grid_column": null,
            "grid_gap": null,
            "grid_row": null,
            "grid_template_areas": null,
            "grid_template_columns": null,
            "grid_template_rows": null,
            "height": null,
            "justify_content": null,
            "justify_items": null,
            "left": null,
            "margin": null,
            "max_height": null,
            "max_width": null,
            "min_height": null,
            "min_width": null,
            "object_fit": null,
            "object_position": null,
            "order": null,
            "overflow": null,
            "overflow_x": null,
            "overflow_y": null,
            "padding": null,
            "right": null,
            "top": null,
            "visibility": null,
            "width": null
          }
        },
        "dc58e0855cef4878bcb98c245bcb7725": {
          "model_module": "@jupyter-widgets/controls",
          "model_name": "DescriptionStyleModel",
          "model_module_version": "1.5.0",
          "state": {
            "_model_module": "@jupyter-widgets/controls",
            "_model_module_version": "1.5.0",
            "_model_name": "DescriptionStyleModel",
            "_view_count": null,
            "_view_module": "@jupyter-widgets/base",
            "_view_module_version": "1.2.0",
            "_view_name": "StyleView",
            "description_width": ""
          }
        },
        "be6cde71e6ee4fccad857e9590a7a0ad": {
          "model_module": "@jupyter-widgets/controls",
          "model_name": "HBoxModel",
          "model_module_version": "1.5.0",
          "state": {
            "_dom_classes": [],
            "_model_module": "@jupyter-widgets/controls",
            "_model_module_version": "1.5.0",
            "_model_name": "HBoxModel",
            "_view_count": null,
            "_view_module": "@jupyter-widgets/controls",
            "_view_module_version": "1.5.0",
            "_view_name": "HBoxView",
            "box_style": "",
            "children": [
              "IPY_MODEL_1dfe2d512a99429f979124e7c5ca6e53",
              "IPY_MODEL_24ef14fb58f5441fbb1977cbee41a9c0",
              "IPY_MODEL_3617a0a1761240aab8916952b60ea2b0"
            ],
            "layout": "IPY_MODEL_58af8f81a1e6480a802f1fee28254ee8"
          }
        },
        "1dfe2d512a99429f979124e7c5ca6e53": {
          "model_module": "@jupyter-widgets/controls",
          "model_name": "HTMLModel",
          "model_module_version": "1.5.0",
          "state": {
            "_dom_classes": [],
            "_model_module": "@jupyter-widgets/controls",
            "_model_module_version": "1.5.0",
            "_model_name": "HTMLModel",
            "_view_count": null,
            "_view_module": "@jupyter-widgets/controls",
            "_view_module_version": "1.5.0",
            "_view_name": "HTMLView",
            "description": "",
            "description_tooltip": null,
            "layout": "IPY_MODEL_d2ec4fe291f34289bb96415ba215d0cc",
            "placeholder": "​",
            "style": "IPY_MODEL_9e44ab2dfc1c4bdeb4a9098ac729c8b8",
            "value": ""
          }
        },
        "24ef14fb58f5441fbb1977cbee41a9c0": {
          "model_module": "@jupyter-widgets/controls",
          "model_name": "FloatProgressModel",
          "model_module_version": "1.5.0",
          "state": {
            "_dom_classes": [],
            "_model_module": "@jupyter-widgets/controls",
            "_model_module_version": "1.5.0",
            "_model_name": "FloatProgressModel",
            "_view_count": null,
            "_view_module": "@jupyter-widgets/controls",
            "_view_module_version": "1.5.0",
            "_view_name": "ProgressView",
            "bar_style": "info",
            "description": "",
            "description_tooltip": null,
            "layout": "IPY_MODEL_4503aa81347d4001a6ee53c539f34f20",
            "max": 1,
            "min": 0,
            "orientation": "horizontal",
            "style": "IPY_MODEL_4d6968da454846a8aa4f5a1351830a45",
            "value": 1
          }
        },
        "3617a0a1761240aab8916952b60ea2b0": {
          "model_module": "@jupyter-widgets/controls",
          "model_name": "HTMLModel",
          "model_module_version": "1.5.0",
          "state": {
            "_dom_classes": [],
            "_model_module": "@jupyter-widgets/controls",
            "_model_module_version": "1.5.0",
            "_model_name": "HTMLModel",
            "_view_count": null,
            "_view_module": "@jupyter-widgets/controls",
            "_view_module_version": "1.5.0",
            "_view_name": "HTMLView",
            "description": "",
            "description_tooltip": null,
            "layout": "IPY_MODEL_df1796c43ca34dc5aa431bbec0bdd6b6",
            "placeholder": "​",
            "style": "IPY_MODEL_1cb16b2be3e0404b959f80c86e7d0cf8",
            "value": " 211/0 [00:00&lt;00:00, 2109.33 examples/s]"
          }
        },
        "58af8f81a1e6480a802f1fee28254ee8": {
          "model_module": "@jupyter-widgets/base",
          "model_name": "LayoutModel",
          "model_module_version": "1.2.0",
          "state": {
            "_model_module": "@jupyter-widgets/base",
            "_model_module_version": "1.2.0",
            "_model_name": "LayoutModel",
            "_view_count": null,
            "_view_module": "@jupyter-widgets/base",
            "_view_module_version": "1.2.0",
            "_view_name": "LayoutView",
            "align_content": null,
            "align_items": null,
            "align_self": null,
            "border": null,
            "bottom": null,
            "display": null,
            "flex": null,
            "flex_flow": null,
            "grid_area": null,
            "grid_auto_columns": null,
            "grid_auto_flow": null,
            "grid_auto_rows": null,
            "grid_column": null,
            "grid_gap": null,
            "grid_row": null,
            "grid_template_areas": null,
            "grid_template_columns": null,
            "grid_template_rows": null,
            "height": null,
            "justify_content": null,
            "justify_items": null,
            "left": null,
            "margin": null,
            "max_height": null,
            "max_width": null,
            "min_height": null,
            "min_width": null,
            "object_fit": null,
            "object_position": null,
            "order": null,
            "overflow": null,
            "overflow_x": null,
            "overflow_y": null,
            "padding": null,
            "right": null,
            "top": null,
            "visibility": null,
            "width": null
          }
        },
        "d2ec4fe291f34289bb96415ba215d0cc": {
          "model_module": "@jupyter-widgets/base",
          "model_name": "LayoutModel",
          "model_module_version": "1.2.0",
          "state": {
            "_model_module": "@jupyter-widgets/base",
            "_model_module_version": "1.2.0",
            "_model_name": "LayoutModel",
            "_view_count": null,
            "_view_module": "@jupyter-widgets/base",
            "_view_module_version": "1.2.0",
            "_view_name": "LayoutView",
            "align_content": null,
            "align_items": null,
            "align_self": null,
            "border": null,
            "bottom": null,
            "display": null,
            "flex": null,
            "flex_flow": null,
            "grid_area": null,
            "grid_auto_columns": null,
            "grid_auto_flow": null,
            "grid_auto_rows": null,
            "grid_column": null,
            "grid_gap": null,
            "grid_row": null,
            "grid_template_areas": null,
            "grid_template_columns": null,
            "grid_template_rows": null,
            "height": null,
            "justify_content": null,
            "justify_items": null,
            "left": null,
            "margin": null,
            "max_height": null,
            "max_width": null,
            "min_height": null,
            "min_width": null,
            "object_fit": null,
            "object_position": null,
            "order": null,
            "overflow": null,
            "overflow_x": null,
            "overflow_y": null,
            "padding": null,
            "right": null,
            "top": null,
            "visibility": null,
            "width": null
          }
        },
        "9e44ab2dfc1c4bdeb4a9098ac729c8b8": {
          "model_module": "@jupyter-widgets/controls",
          "model_name": "DescriptionStyleModel",
          "model_module_version": "1.5.0",
          "state": {
            "_model_module": "@jupyter-widgets/controls",
            "_model_module_version": "1.5.0",
            "_model_name": "DescriptionStyleModel",
            "_view_count": null,
            "_view_module": "@jupyter-widgets/base",
            "_view_module_version": "1.2.0",
            "_view_name": "StyleView",
            "description_width": ""
          }
        },
        "4503aa81347d4001a6ee53c539f34f20": {
          "model_module": "@jupyter-widgets/base",
          "model_name": "LayoutModel",
          "model_module_version": "1.2.0",
          "state": {
            "_model_module": "@jupyter-widgets/base",
            "_model_module_version": "1.2.0",
            "_model_name": "LayoutModel",
            "_view_count": null,
            "_view_module": "@jupyter-widgets/base",
            "_view_module_version": "1.2.0",
            "_view_name": "LayoutView",
            "align_content": null,
            "align_items": null,
            "align_self": null,
            "border": null,
            "bottom": null,
            "display": null,
            "flex": null,
            "flex_flow": null,
            "grid_area": null,
            "grid_auto_columns": null,
            "grid_auto_flow": null,
            "grid_auto_rows": null,
            "grid_column": null,
            "grid_gap": null,
            "grid_row": null,
            "grid_template_areas": null,
            "grid_template_columns": null,
            "grid_template_rows": null,
            "height": null,
            "justify_content": null,
            "justify_items": null,
            "left": null,
            "margin": null,
            "max_height": null,
            "max_width": null,
            "min_height": null,
            "min_width": null,
            "object_fit": null,
            "object_position": null,
            "order": null,
            "overflow": null,
            "overflow_x": null,
            "overflow_y": null,
            "padding": null,
            "right": null,
            "top": null,
            "visibility": null,
            "width": "20px"
          }
        },
        "4d6968da454846a8aa4f5a1351830a45": {
          "model_module": "@jupyter-widgets/controls",
          "model_name": "ProgressStyleModel",
          "model_module_version": "1.5.0",
          "state": {
            "_model_module": "@jupyter-widgets/controls",
            "_model_module_version": "1.5.0",
            "_model_name": "ProgressStyleModel",
            "_view_count": null,
            "_view_module": "@jupyter-widgets/base",
            "_view_module_version": "1.2.0",
            "_view_name": "StyleView",
            "bar_color": null,
            "description_width": ""
          }
        },
        "df1796c43ca34dc5aa431bbec0bdd6b6": {
          "model_module": "@jupyter-widgets/base",
          "model_name": "LayoutModel",
          "model_module_version": "1.2.0",
          "state": {
            "_model_module": "@jupyter-widgets/base",
            "_model_module_version": "1.2.0",
            "_model_name": "LayoutModel",
            "_view_count": null,
            "_view_module": "@jupyter-widgets/base",
            "_view_module_version": "1.2.0",
            "_view_name": "LayoutView",
            "align_content": null,
            "align_items": null,
            "align_self": null,
            "border": null,
            "bottom": null,
            "display": null,
            "flex": null,
            "flex_flow": null,
            "grid_area": null,
            "grid_auto_columns": null,
            "grid_auto_flow": null,
            "grid_auto_rows": null,
            "grid_column": null,
            "grid_gap": null,
            "grid_row": null,
            "grid_template_areas": null,
            "grid_template_columns": null,
            "grid_template_rows": null,
            "height": null,
            "justify_content": null,
            "justify_items": null,
            "left": null,
            "margin": null,
            "max_height": null,
            "max_width": null,
            "min_height": null,
            "min_width": null,
            "object_fit": null,
            "object_position": null,
            "order": null,
            "overflow": null,
            "overflow_x": null,
            "overflow_y": null,
            "padding": null,
            "right": null,
            "top": null,
            "visibility": null,
            "width": null
          }
        },
        "1cb16b2be3e0404b959f80c86e7d0cf8": {
          "model_module": "@jupyter-widgets/controls",
          "model_name": "DescriptionStyleModel",
          "model_module_version": "1.5.0",
          "state": {
            "_model_module": "@jupyter-widgets/controls",
            "_model_module_version": "1.5.0",
            "_model_name": "DescriptionStyleModel",
            "_view_count": null,
            "_view_module": "@jupyter-widgets/base",
            "_view_module_version": "1.2.0",
            "_view_name": "StyleView",
            "description_width": ""
          }
        }
      }
    }
  },
  "cells": [
    {
      "cell_type": "markdown",
      "metadata": {
        "id": "view-in-github",
        "colab_type": "text"
      },
      "source": [
        "<a href=\"https://colab.research.google.com/github/joeljoyjj12/NN/blob/main/Tweet_Emotion_Recognition_.ipynb\" target=\"_parent\"><img src=\"https://colab.research.google.com/assets/colab-badge.svg\" alt=\"Open In Colab\"/></a>"
      ]
    },
    {
      "cell_type": "markdown",
      "metadata": {
        "id": "sp7D0ktn5eiG"
      },
      "source": [
        "## Tweet Emotion Recognition: Natural Language Processing with TensorFlow\n",
        "\n",
        "---\n",
        "\n",
        "Dataset: [Tweet Emotion Dataset](https://github.com/dair-ai/emotion_dataset)\n",
        "\n",
        "This is a starter notebook for the guided project [Tweet Emotion Recognition with TensorFlow](https://www.coursera.org/projects/tweet-emotion-tensorflow)\n",
        "\n",
        "A complete version of this notebook is available in the course resources\n",
        "\n",
        "---\n",
        "\n",
        "## Task 1: Introduction"
      ]
    },
    {
      "cell_type": "markdown",
      "metadata": {
        "id": "cprXxkrMxIgT"
      },
      "source": [
        "## Task 2: Setup and Imports\n",
        "\n",
        "1. Installing Hugging Face's nlp package\n",
        "2. Importing libraries"
      ]
    },
    {
      "cell_type": "code",
      "metadata": {
        "id": "5agZRy-45i0g",
        "colab": {
          "base_uri": "https://localhost:8080/"
        },
        "outputId": "61281ce4-c5d7-4684-a011-51cd1b8e5b29"
      },
      "source": [
        "!pip install nlp"
      ],
      "execution_count": 1,
      "outputs": [
        {
          "output_type": "stream",
          "name": "stdout",
          "text": [
            "Collecting nlp\n",
            "  Downloading nlp-0.4.0-py3-none-any.whl (1.7 MB)\n",
            "\u001b[?25l\r\u001b[K     |▏                               | 10 kB 22.7 MB/s eta 0:00:01\r\u001b[K     |▍                               | 20 kB 21.0 MB/s eta 0:00:01\r\u001b[K     |▋                               | 30 kB 10.5 MB/s eta 0:00:01\r\u001b[K     |▉                               | 40 kB 4.4 MB/s eta 0:00:01\r\u001b[K     |█                               | 51 kB 4.3 MB/s eta 0:00:01\r\u001b[K     |█▏                              | 61 kB 5.1 MB/s eta 0:00:01\r\u001b[K     |█▍                              | 71 kB 5.6 MB/s eta 0:00:01\r\u001b[K     |█▋                              | 81 kB 5.5 MB/s eta 0:00:01\r\u001b[K     |█▉                              | 92 kB 6.1 MB/s eta 0:00:01\r\u001b[K     |██                              | 102 kB 5.2 MB/s eta 0:00:01\r\u001b[K     |██▏                             | 112 kB 5.2 MB/s eta 0:00:01\r\u001b[K     |██▍                             | 122 kB 5.2 MB/s eta 0:00:01\r\u001b[K     |██▋                             | 133 kB 5.2 MB/s eta 0:00:01\r\u001b[K     |██▊                             | 143 kB 5.2 MB/s eta 0:00:01\r\u001b[K     |███                             | 153 kB 5.2 MB/s eta 0:00:01\r\u001b[K     |███▏                            | 163 kB 5.2 MB/s eta 0:00:01\r\u001b[K     |███▍                            | 174 kB 5.2 MB/s eta 0:00:01\r\u001b[K     |███▋                            | 184 kB 5.2 MB/s eta 0:00:01\r\u001b[K     |███▊                            | 194 kB 5.2 MB/s eta 0:00:01\r\u001b[K     |████                            | 204 kB 5.2 MB/s eta 0:00:01\r\u001b[K     |████▏                           | 215 kB 5.2 MB/s eta 0:00:01\r\u001b[K     |████▍                           | 225 kB 5.2 MB/s eta 0:00:01\r\u001b[K     |████▌                           | 235 kB 5.2 MB/s eta 0:00:01\r\u001b[K     |████▊                           | 245 kB 5.2 MB/s eta 0:00:01\r\u001b[K     |█████                           | 256 kB 5.2 MB/s eta 0:00:01\r\u001b[K     |█████▏                          | 266 kB 5.2 MB/s eta 0:00:01\r\u001b[K     |█████▍                          | 276 kB 5.2 MB/s eta 0:00:01\r\u001b[K     |█████▌                          | 286 kB 5.2 MB/s eta 0:00:01\r\u001b[K     |█████▊                          | 296 kB 5.2 MB/s eta 0:00:01\r\u001b[K     |██████                          | 307 kB 5.2 MB/s eta 0:00:01\r\u001b[K     |██████▏                         | 317 kB 5.2 MB/s eta 0:00:01\r\u001b[K     |██████▎                         | 327 kB 5.2 MB/s eta 0:00:01\r\u001b[K     |██████▌                         | 337 kB 5.2 MB/s eta 0:00:01\r\u001b[K     |██████▊                         | 348 kB 5.2 MB/s eta 0:00:01\r\u001b[K     |███████                         | 358 kB 5.2 MB/s eta 0:00:01\r\u001b[K     |███████▏                        | 368 kB 5.2 MB/s eta 0:00:01\r\u001b[K     |███████▎                        | 378 kB 5.2 MB/s eta 0:00:01\r\u001b[K     |███████▌                        | 389 kB 5.2 MB/s eta 0:00:01\r\u001b[K     |███████▊                        | 399 kB 5.2 MB/s eta 0:00:01\r\u001b[K     |████████                        | 409 kB 5.2 MB/s eta 0:00:01\r\u001b[K     |████████                        | 419 kB 5.2 MB/s eta 0:00:01\r\u001b[K     |████████▎                       | 430 kB 5.2 MB/s eta 0:00:01\r\u001b[K     |████████▌                       | 440 kB 5.2 MB/s eta 0:00:01\r\u001b[K     |████████▊                       | 450 kB 5.2 MB/s eta 0:00:01\r\u001b[K     |█████████                       | 460 kB 5.2 MB/s eta 0:00:01\r\u001b[K     |█████████                       | 471 kB 5.2 MB/s eta 0:00:01\r\u001b[K     |█████████▎                      | 481 kB 5.2 MB/s eta 0:00:01\r\u001b[K     |█████████▌                      | 491 kB 5.2 MB/s eta 0:00:01\r\u001b[K     |█████████▊                      | 501 kB 5.2 MB/s eta 0:00:01\r\u001b[K     |█████████▉                      | 512 kB 5.2 MB/s eta 0:00:01\r\u001b[K     |██████████                      | 522 kB 5.2 MB/s eta 0:00:01\r\u001b[K     |██████████▎                     | 532 kB 5.2 MB/s eta 0:00:01\r\u001b[K     |██████████▌                     | 542 kB 5.2 MB/s eta 0:00:01\r\u001b[K     |██████████▊                     | 552 kB 5.2 MB/s eta 0:00:01\r\u001b[K     |██████████▉                     | 563 kB 5.2 MB/s eta 0:00:01\r\u001b[K     |███████████                     | 573 kB 5.2 MB/s eta 0:00:01\r\u001b[K     |███████████▎                    | 583 kB 5.2 MB/s eta 0:00:01\r\u001b[K     |███████████▌                    | 593 kB 5.2 MB/s eta 0:00:01\r\u001b[K     |███████████▋                    | 604 kB 5.2 MB/s eta 0:00:01\r\u001b[K     |███████████▉                    | 614 kB 5.2 MB/s eta 0:00:01\r\u001b[K     |████████████                    | 624 kB 5.2 MB/s eta 0:00:01\r\u001b[K     |████████████▎                   | 634 kB 5.2 MB/s eta 0:00:01\r\u001b[K     |████████████▌                   | 645 kB 5.2 MB/s eta 0:00:01\r\u001b[K     |████████████▋                   | 655 kB 5.2 MB/s eta 0:00:01\r\u001b[K     |████████████▉                   | 665 kB 5.2 MB/s eta 0:00:01\r\u001b[K     |█████████████                   | 675 kB 5.2 MB/s eta 0:00:01\r\u001b[K     |█████████████▎                  | 686 kB 5.2 MB/s eta 0:00:01\r\u001b[K     |█████████████▍                  | 696 kB 5.2 MB/s eta 0:00:01\r\u001b[K     |█████████████▋                  | 706 kB 5.2 MB/s eta 0:00:01\r\u001b[K     |█████████████▉                  | 716 kB 5.2 MB/s eta 0:00:01\r\u001b[K     |██████████████                  | 727 kB 5.2 MB/s eta 0:00:01\r\u001b[K     |██████████████▎                 | 737 kB 5.2 MB/s eta 0:00:01\r\u001b[K     |██████████████▍                 | 747 kB 5.2 MB/s eta 0:00:01\r\u001b[K     |██████████████▋                 | 757 kB 5.2 MB/s eta 0:00:01\r\u001b[K     |██████████████▉                 | 768 kB 5.2 MB/s eta 0:00:01\r\u001b[K     |███████████████                 | 778 kB 5.2 MB/s eta 0:00:01\r\u001b[K     |███████████████▏                | 788 kB 5.2 MB/s eta 0:00:01\r\u001b[K     |███████████████▍                | 798 kB 5.2 MB/s eta 0:00:01\r\u001b[K     |███████████████▋                | 808 kB 5.2 MB/s eta 0:00:01\r\u001b[K     |███████████████▉                | 819 kB 5.2 MB/s eta 0:00:01\r\u001b[K     |████████████████                | 829 kB 5.2 MB/s eta 0:00:01\r\u001b[K     |████████████████▏               | 839 kB 5.2 MB/s eta 0:00:01\r\u001b[K     |████████████████▍               | 849 kB 5.2 MB/s eta 0:00:01\r\u001b[K     |████████████████▋               | 860 kB 5.2 MB/s eta 0:00:01\r\u001b[K     |████████████████▉               | 870 kB 5.2 MB/s eta 0:00:01\r\u001b[K     |█████████████████               | 880 kB 5.2 MB/s eta 0:00:01\r\u001b[K     |█████████████████▏              | 890 kB 5.2 MB/s eta 0:00:01\r\u001b[K     |█████████████████▍              | 901 kB 5.2 MB/s eta 0:00:01\r\u001b[K     |█████████████████▋              | 911 kB 5.2 MB/s eta 0:00:01\r\u001b[K     |█████████████████▉              | 921 kB 5.2 MB/s eta 0:00:01\r\u001b[K     |██████████████████              | 931 kB 5.2 MB/s eta 0:00:01\r\u001b[K     |██████████████████▏             | 942 kB 5.2 MB/s eta 0:00:01\r\u001b[K     |██████████████████▍             | 952 kB 5.2 MB/s eta 0:00:01\r\u001b[K     |██████████████████▋             | 962 kB 5.2 MB/s eta 0:00:01\r\u001b[K     |██████████████████▊             | 972 kB 5.2 MB/s eta 0:00:01\r\u001b[K     |███████████████████             | 983 kB 5.2 MB/s eta 0:00:01\r\u001b[K     |███████████████████▏            | 993 kB 5.2 MB/s eta 0:00:01\r\u001b[K     |███████████████████▍            | 1.0 MB 5.2 MB/s eta 0:00:01\r\u001b[K     |███████████████████▋            | 1.0 MB 5.2 MB/s eta 0:00:01\r\u001b[K     |███████████████████▊            | 1.0 MB 5.2 MB/s eta 0:00:01\r\u001b[K     |████████████████████            | 1.0 MB 5.2 MB/s eta 0:00:01\r\u001b[K     |████████████████████▏           | 1.0 MB 5.2 MB/s eta 0:00:01\r\u001b[K     |████████████████████▍           | 1.1 MB 5.2 MB/s eta 0:00:01\r\u001b[K     |████████████████████▌           | 1.1 MB 5.2 MB/s eta 0:00:01\r\u001b[K     |████████████████████▊           | 1.1 MB 5.2 MB/s eta 0:00:01\r\u001b[K     |█████████████████████           | 1.1 MB 5.2 MB/s eta 0:00:01\r\u001b[K     |█████████████████████▏          | 1.1 MB 5.2 MB/s eta 0:00:01\r\u001b[K     |█████████████████████▍          | 1.1 MB 5.2 MB/s eta 0:00:01\r\u001b[K     |█████████████████████▌          | 1.1 MB 5.2 MB/s eta 0:00:01\r\u001b[K     |█████████████████████▊          | 1.1 MB 5.2 MB/s eta 0:00:01\r\u001b[K     |██████████████████████          | 1.1 MB 5.2 MB/s eta 0:00:01\r\u001b[K     |██████████████████████▏         | 1.1 MB 5.2 MB/s eta 0:00:01\r\u001b[K     |██████████████████████▎         | 1.2 MB 5.2 MB/s eta 0:00:01\r\u001b[K     |██████████████████████▌         | 1.2 MB 5.2 MB/s eta 0:00:01\r\u001b[K     |██████████████████████▊         | 1.2 MB 5.2 MB/s eta 0:00:01\r\u001b[K     |███████████████████████         | 1.2 MB 5.2 MB/s eta 0:00:01\r\u001b[K     |███████████████████████▏        | 1.2 MB 5.2 MB/s eta 0:00:01\r\u001b[K     |███████████████████████▎        | 1.2 MB 5.2 MB/s eta 0:00:01\r\u001b[K     |███████████████████████▌        | 1.2 MB 5.2 MB/s eta 0:00:01\r\u001b[K     |███████████████████████▊        | 1.2 MB 5.2 MB/s eta 0:00:01\r\u001b[K     |████████████████████████        | 1.2 MB 5.2 MB/s eta 0:00:01\r\u001b[K     |████████████████████████        | 1.2 MB 5.2 MB/s eta 0:00:01\r\u001b[K     |████████████████████████▎       | 1.3 MB 5.2 MB/s eta 0:00:01\r\u001b[K     |████████████████████████▌       | 1.3 MB 5.2 MB/s eta 0:00:01\r\u001b[K     |████████████████████████▊       | 1.3 MB 5.2 MB/s eta 0:00:01\r\u001b[K     |█████████████████████████       | 1.3 MB 5.2 MB/s eta 0:00:01\r\u001b[K     |█████████████████████████       | 1.3 MB 5.2 MB/s eta 0:00:01\r\u001b[K     |█████████████████████████▎      | 1.3 MB 5.2 MB/s eta 0:00:01\r\u001b[K     |█████████████████████████▌      | 1.3 MB 5.2 MB/s eta 0:00:01\r\u001b[K     |█████████████████████████▊      | 1.3 MB 5.2 MB/s eta 0:00:01\r\u001b[K     |█████████████████████████▉      | 1.3 MB 5.2 MB/s eta 0:00:01\r\u001b[K     |██████████████████████████      | 1.4 MB 5.2 MB/s eta 0:00:01\r\u001b[K     |██████████████████████████▎     | 1.4 MB 5.2 MB/s eta 0:00:01\r\u001b[K     |██████████████████████████▌     | 1.4 MB 5.2 MB/s eta 0:00:01\r\u001b[K     |██████████████████████████▊     | 1.4 MB 5.2 MB/s eta 0:00:01\r\u001b[K     |██████████████████████████▉     | 1.4 MB 5.2 MB/s eta 0:00:01\r\u001b[K     |███████████████████████████     | 1.4 MB 5.2 MB/s eta 0:00:01\r\u001b[K     |███████████████████████████▎    | 1.4 MB 5.2 MB/s eta 0:00:01\r\u001b[K     |███████████████████████████▌    | 1.4 MB 5.2 MB/s eta 0:00:01\r\u001b[K     |███████████████████████████▋    | 1.4 MB 5.2 MB/s eta 0:00:01\r\u001b[K     |███████████████████████████▉    | 1.4 MB 5.2 MB/s eta 0:00:01\r\u001b[K     |████████████████████████████    | 1.5 MB 5.2 MB/s eta 0:00:01\r\u001b[K     |████████████████████████████▎   | 1.5 MB 5.2 MB/s eta 0:00:01\r\u001b[K     |████████████████████████████▌   | 1.5 MB 5.2 MB/s eta 0:00:01\r\u001b[K     |████████████████████████████▋   | 1.5 MB 5.2 MB/s eta 0:00:01\r\u001b[K     |████████████████████████████▉   | 1.5 MB 5.2 MB/s eta 0:00:01\r\u001b[K     |█████████████████████████████   | 1.5 MB 5.2 MB/s eta 0:00:01\r\u001b[K     |█████████████████████████████▎  | 1.5 MB 5.2 MB/s eta 0:00:01\r\u001b[K     |█████████████████████████████▍  | 1.5 MB 5.2 MB/s eta 0:00:01\r\u001b[K     |█████████████████████████████▋  | 1.5 MB 5.2 MB/s eta 0:00:01\r\u001b[K     |█████████████████████████████▉  | 1.5 MB 5.2 MB/s eta 0:00:01\r\u001b[K     |██████████████████████████████  | 1.6 MB 5.2 MB/s eta 0:00:01\r\u001b[K     |██████████████████████████████▎ | 1.6 MB 5.2 MB/s eta 0:00:01\r\u001b[K     |██████████████████████████████▍ | 1.6 MB 5.2 MB/s eta 0:00:01\r\u001b[K     |██████████████████████████████▋ | 1.6 MB 5.2 MB/s eta 0:00:01\r\u001b[K     |██████████████████████████████▉ | 1.6 MB 5.2 MB/s eta 0:00:01\r\u001b[K     |███████████████████████████████ | 1.6 MB 5.2 MB/s eta 0:00:01\r\u001b[K     |███████████████████████████████▏| 1.6 MB 5.2 MB/s eta 0:00:01\r\u001b[K     |███████████████████████████████▍| 1.6 MB 5.2 MB/s eta 0:00:01\r\u001b[K     |███████████████████████████████▋| 1.6 MB 5.2 MB/s eta 0:00:01\r\u001b[K     |███████████████████████████████▉| 1.6 MB 5.2 MB/s eta 0:00:01\r\u001b[K     |████████████████████████████████| 1.7 MB 5.2 MB/s \n",
            "\u001b[?25hRequirement already satisfied: tqdm>=4.27 in /usr/local/lib/python3.7/dist-packages (from nlp) (4.64.0)\n",
            "Requirement already satisfied: pyarrow>=0.16.0 in /usr/local/lib/python3.7/dist-packages (from nlp) (6.0.1)\n",
            "Requirement already satisfied: requests>=2.19.0 in /usr/local/lib/python3.7/dist-packages (from nlp) (2.23.0)\n",
            "Requirement already satisfied: pandas in /usr/local/lib/python3.7/dist-packages (from nlp) (1.3.5)\n",
            "Collecting xxhash\n",
            "  Downloading xxhash-3.0.0-cp37-cp37m-manylinux_2_17_x86_64.manylinux2014_x86_64.whl (212 kB)\n",
            "\u001b[K     |████████████████████████████████| 212 kB 47.5 MB/s \n",
            "\u001b[?25hRequirement already satisfied: filelock in /usr/local/lib/python3.7/dist-packages (from nlp) (3.6.0)\n",
            "Requirement already satisfied: numpy in /usr/local/lib/python3.7/dist-packages (from nlp) (1.21.5)\n",
            "Requirement already satisfied: dill in /usr/local/lib/python3.7/dist-packages (from nlp) (0.3.4)\n",
            "Requirement already satisfied: urllib3!=1.25.0,!=1.25.1,<1.26,>=1.21.1 in /usr/local/lib/python3.7/dist-packages (from requests>=2.19.0->nlp) (1.24.3)\n",
            "Requirement already satisfied: chardet<4,>=3.0.2 in /usr/local/lib/python3.7/dist-packages (from requests>=2.19.0->nlp) (3.0.4)\n",
            "Requirement already satisfied: certifi>=2017.4.17 in /usr/local/lib/python3.7/dist-packages (from requests>=2.19.0->nlp) (2021.10.8)\n",
            "Requirement already satisfied: idna<3,>=2.5 in /usr/local/lib/python3.7/dist-packages (from requests>=2.19.0->nlp) (2.10)\n",
            "Requirement already satisfied: python-dateutil>=2.7.3 in /usr/local/lib/python3.7/dist-packages (from pandas->nlp) (2.8.2)\n",
            "Requirement already satisfied: pytz>=2017.3 in /usr/local/lib/python3.7/dist-packages (from pandas->nlp) (2018.9)\n",
            "Requirement already satisfied: six>=1.5 in /usr/local/lib/python3.7/dist-packages (from python-dateutil>=2.7.3->pandas->nlp) (1.15.0)\n",
            "Installing collected packages: xxhash, nlp\n",
            "Successfully installed nlp-0.4.0 xxhash-3.0.0\n"
          ]
        }
      ]
    },
    {
      "cell_type": "code",
      "source": [
        "import tensorflow"
      ],
      "metadata": {
        "id": "ksK3l3YUxf6P"
      },
      "execution_count": 2,
      "outputs": []
    },
    {
      "cell_type": "code",
      "metadata": {
        "id": "yKFjWz6e5eiH",
        "colab": {
          "base_uri": "https://localhost:8080/"
        },
        "outputId": "52f14dcc-23b2-4578-dde0-368a480a4332"
      },
      "source": [
        "%matplotlib inline\n",
        "\n",
        "import tensorflow as tf\n",
        "import numpy as np\n",
        "import matplotlib.pyplot as plt\n",
        "import nlp\n",
        "import random\n",
        "\n",
        "\n",
        "def show_history(h):\n",
        "    epochs_trained = len(h.history['loss'])\n",
        "    plt.figure(figsize=(16, 6))\n",
        "\n",
        "    plt.subplot(1, 2, 1)\n",
        "    plt.plot(range(0, epochs_trained), h.history.get('accuracy'), label='Training')\n",
        "    plt.plot(range(0, epochs_trained), h.history.get('val_accuracy'), label='Validation')\n",
        "    plt.ylim([0., 1.])\n",
        "    plt.xlabel('Epochs')\n",
        "    plt.ylabel('Accuracy')\n",
        "    plt.legend()\n",
        "\n",
        "    plt.subplot(1, 2, 2)\n",
        "    plt.plot(range(0, epochs_trained), h.history.get('loss'), label='Training')\n",
        "    plt.plot(range(0, epochs_trained), h.history.get('val_loss'), label='Validation')\n",
        "    plt.xlabel('Epochs')\n",
        "    plt.ylabel('Loss')\n",
        "    plt.legend()\n",
        "    plt.show()\n",
        "\n",
        "    \n",
        "def show_confusion_matrix(y_true, y_pred, classes):\n",
        "    from sklearn.metrics import confusion_matrix\n",
        "    \n",
        "    cm = confusion_matrix(y_true, y_pred, normalize='true')\n",
        "\n",
        "    plt.figure(figsize=(8, 8))\n",
        "    sp = plt.subplot(1, 1, 1)\n",
        "    ctx = sp.matshow(cm)\n",
        "    plt.xticks(list(range(0, 6)), labels=classes)\n",
        "    plt.yticks(list(range(0, 6)), labels=classes)\n",
        "    plt.colorbar(ctx)\n",
        "    plt.show()\n",
        "\n",
        "    \n",
        "print('Using TensorFlow version', tf.__version__)"
      ],
      "execution_count": 3,
      "outputs": [
        {
          "output_type": "stream",
          "name": "stdout",
          "text": [
            "Using TensorFlow version 2.8.0\n"
          ]
        }
      ]
    },
    {
      "cell_type": "markdown",
      "metadata": {
        "id": "7JsBpezExIga"
      },
      "source": [
        "## Task 3: Importing Data\n",
        "\n",
        "1. Importing the Tweet Emotion dataset\n",
        "2. Creating train, validation and test sets\n",
        "3. Extracting tweets and labels from the examples"
      ]
    },
    {
      "cell_type": "code",
      "metadata": {
        "id": "0YHOvjAu5eiL",
        "colab": {
          "base_uri": "https://localhost:8080/"
        },
        "outputId": "1f60b1f2-a613-4615-ea38-d5115441c384"
      },
      "source": [
        "datasets_list=nlp.list_datasets()\n",
        "print(', '.join(dataset.id for dataset in datasets_list))"
      ],
      "execution_count": 4,
      "outputs": [
        {
          "output_type": "stream",
          "name": "stdout",
          "text": [
            "acronym_identification, ade_corpus_v2, adversarial_qa, aeslc, afrikaans_ner_corpus, ag_news, ai2_arc, air_dialogue, ajgt_twitter_ar, allegro_reviews, allocine, alt, amazon_polarity, amazon_reviews_multi, amazon_us_reviews, ambig_qa, americas_nli, ami, amttl, anli, app_reviews, aqua_rat, aquamuse, ar_cov19, ar_res_reviews, ar_sarcasm, arabic_billion_words, arabic_pos_dialect, arabic_speech_corpus, arcd, arsentd_lev, art, arxiv_dataset, ascent_kb, aslg_pc12, asnq, asset, assin, assin2, atomic, autshumato, babi_qa, banking77, bbaw_egyptian, bbc_hindi_nli, bc2gm_corpus, beans, best2009, bianet, bible_para, big_patent, billsum, bing_coronavirus_query_set, biomrc, biosses, blbooks, blbooksgenre, blended_skill_talk, blimp, blog_authorship_corpus, bn_hate_speech, bnl_newspapers, bookcorpus, bookcorpusopen, boolq, bprec, break_data, brwac, bsd_ja_en, bswac, c3, c4, cail2018, caner, capes, casino, catalonia_independence, cats_vs_dogs, cawac, cbt, cc100, cc_news, ccaligned_multilingual, cdsc, cdt, cedr, cfq, chr_en, cifar10, cifar100, circa, civil_comments, clickbait_news_bg, climate_fever, clinc_oos, clue, cmrc2018, cmu_hinglish_dog, cnn_dailymail, coached_conv_pref, coarse_discourse, codah, code_search_net, code_x_glue_cc_clone_detection_big_clone_bench, code_x_glue_cc_clone_detection_poj104, code_x_glue_cc_cloze_testing_all, code_x_glue_cc_cloze_testing_maxmin, code_x_glue_cc_code_completion_line, code_x_glue_cc_code_completion_token, code_x_glue_cc_code_refinement, code_x_glue_cc_code_to_code_trans, code_x_glue_cc_defect_detection, code_x_glue_ct_code_to_text, code_x_glue_tc_nl_code_search_adv, code_x_glue_tc_text_to_code, code_x_glue_tt_text_to_text, com_qa, common_gen, common_language, common_voice, commonsense_qa, competition_math, compguesswhat, conceptnet5, conll2000, conll2002, conll2003, conllpp, consumer-finance-complaints, conv_ai, conv_ai_2, conv_ai_3, conv_questions, coqa, cord19, cornell_movie_dialog, cos_e, cosmos_qa, counter, covid_qa_castorini, covid_qa_deepset, covid_qa_ucsd, covid_tweets_japanese, covost2, cppe-5, craigslist_bargains, crawl_domain, crd3, crime_and_punish, crows_pairs, cryptonite, cs_restaurants, cuad, curiosity_dialogs, daily_dialog, dane, danish_political_comments, dart, datacommons_factcheck, dbpedia_14, dbrd, deal_or_no_dialog, definite_pronoun_resolution, dengue_filipino, dialog_re, diplomacy_detection, disaster_response_messages, discofuse, discovery, disfl_qa, doc2dial, docred, doqa, dream, drop, duorc, dutch_social, dyk, e2e_nlg, e2e_nlg_cleaned, ecb, ecthr_cases, eduge, ehealth_kd, eitb_parcc, electricity_load_diagrams, eli5, eli5_category, emea, emo, emotion, emotone_ar, empathetic_dialogues, enriched_web_nlg, eraser_multi_rc, esnli, eth_py150_open, ethos, eu_regulatory_ir, eurlex, euronews, europa_eac_tm, europa_ecdc_tm, europarl_bilingual, event2Mind, evidence_infer_treatment, exams, factckbr, fake_news_english, fake_news_filipino, farsi_news, fashion_mnist, fever, few_rel, financial_phrasebank, finer, flores, flue, food101, fquad, freebase_qa, gap, gem, generated_reviews_enth, generics_kb, german_legal_entity_recognition, germaner, germeval_14, giga_fren, gigaword, glucose, glue, gnad10, go_emotions, gooaq, google_wellformed_query, grail_qa, great_code, greek_legal_code, guardian_authorship, gutenberg_time, hans, hansards, hard, harem, has_part, hate_offensive, hate_speech18, hate_speech_filipino, hate_speech_offensive, hate_speech_pl, hate_speech_portuguese, hatexplain, hausa_voa_ner, hausa_voa_topics, hda_nli_hindi, head_qa, health_fact, hebrew_projectbenyehuda, hebrew_sentiment, hebrew_this_world, hellaswag, hendrycks_test, hind_encorp, hindi_discourse, hippocorpus, hkcancor, hlgd, hope_edi, hotpot_qa, hover, hrenwac_para, hrwac, humicroedit, hybrid_qa, hyperpartisan_news_detection, iapp_wiki_qa_squad, id_clickbait, id_liputan6, id_nergrit_corpus, id_newspapers_2018, id_panl_bppt, id_puisi, igbo_english_machine_translation, igbo_monolingual, igbo_ner, ilist, imdb, imdb_urdu_reviews, imppres, indic_glue, indonli, indonlu, inquisitive_qg, interpress_news_category_tr, interpress_news_category_tr_lite, irc_disentangle, isixhosa_ner_corpus, isizulu_ner_corpus, iwslt2017, jeopardy, jfleg, jigsaw_toxicity_pred, jigsaw_unintended_bias, jnlpba, journalists_questions, kan_hope, kannada_news, kd_conv, kde4, kelm, kilt_tasks, kilt_wikipedia, kinnews_kirnews, klue, kor_3i4k, kor_hate, kor_ner, kor_nli, kor_nlu, kor_qpair, kor_sae, kor_sarcasm, labr, lama, lambada, large_spanish_corpus, laroseda, lc_quad, lener_br, lex_glue, liar, librispeech_asr, librispeech_lm, limit, lince, linnaeus, liveqa, lj_speech, lm1b, lst20, m_lama, mac_morpho, makhzan, masakhaner, math_dataset, math_qa, matinf, mbpp, mc4, mc_taco, md_gender_bias, mdd, med_hop, medal, medical_dialog, medical_questions_pairs, menyo20k_mt, meta_woz, metooma, metrec, miam, mkb, mkqa, mlqa, mlsum, mnist, mocha, moroco, movie_rationales, mrqa, ms_marco, ms_terms, msr_genomics_kbcomp, msr_sqa, msr_text_compression, msr_zhen_translation_parity, msra_ner, mt_eng_vietnamese, muchocine, multi_booked, multi_eurlex, multi_news, multi_nli, multi_nli_mismatch, multi_para_crawl, multi_re_qa, multi_woz_v22, multi_x_science_sum, multidoc2dial, multilingual_librispeech, mutual_friends, mwsc, myanmar_news, narrativeqa, narrativeqa_manual, natural_questions, ncbi_disease, nchlt, ncslgr, nell, neural_code_search, news_commentary, newsgroup, newsph, newsph_nli, newspop, newsqa, newsroom, nkjp-ner, nli_tr, nlu_evaluation_data, norec, norne, norwegian_ner, nq_open, nsmc, numer_sense, numeric_fused_head, oclar, offcombr, offenseval2020_tr, offenseval_dravidian, ofis_publik, ohsumed, ollie, omp, onestop_english, onestop_qa, open_subtitles, openai_humaneval, openbookqa, openslr, openwebtext, opinosis, opus100, opus_books, opus_dgt, opus_dogc, opus_elhuyar, opus_euconst, opus_finlex, opus_fiskmo, opus_gnome, opus_infopankki, opus_memat, opus_montenegrinsubs, opus_openoffice, opus_paracrawl, opus_rf, opus_tedtalks, opus_ubuntu, opus_wikipedia, opus_xhosanavy, orange_sum, oscar, para_crawl, para_pat, parsinlu_reading_comprehension, pass, paws-x, paws, pec, peer_read, peoples_daily_ner, per_sent, persian_ner, pg19, php, piaf, pib, piqa, pn_summary, poem_sentiment, polemo2, poleval2019_cyberbullying, poleval2019_mt, polsum, polyglot_ner, prachathai67k, pragmeval, proto_qa, psc, ptb_text_only, pubmed, pubmed_qa, py_ast, qa4mre, qa_srl, qa_zre, qangaroo, qanta, qasc, qasper, qed, qed_amara, quac, quail, quarel, quartz, quora, quoref, race, re_dial, reasoning_bg, recipe_nlg, reclor, red_caps, reddit, reddit_tifu, refresd, reuters21578, riddle_sense, ro_sent, ro_sts, ro_sts_parallel, roman_urdu, ronec, ropes, rotten_tomatoes, russian_super_glue, s2orc, samsum, sanskrit_classic, saudinewsnet, sberquad, scan, scb_mt_enth_2020, scene_parse_150, schema_guided_dstc8, scicite, scielo, scientific_papers, scifact, sciq, scitail, scitldr, search_qa, sede, selqa, sem_eval_2010_task_8, sem_eval_2014_task_1, sem_eval_2018_task_1, sem_eval_2020_task_11, sent_comp, senti_lex, senti_ws, sentiment140, sepedi_ner, sesotho_ner_corpus, setimes, setswana_ner_corpus, sharc, sharc_modified, sick, silicone, simple_questions_v2, siswati_ner_corpus, smartdata, sms_spam, snips_built_in_intents, snli, snow_simplified_japanese_corpus, so_stacksample, social_bias_frames, social_i_qa, sofc_materials_articles, sogou_news, spanish_billion_words, spc, species_800, speech_commands, spider, squad, squad_adversarial, squad_es, squad_it, squad_kor_v1, squad_kor_v2, squad_v1_pt, squad_v2, squadshifts, srwac, sst, stereoset, story_cloze, stsb_mt_sv, stsb_multi_mt, style_change_detection, subjqa, super_glue, superb, svhn, swag, swahili, swahili_news, swda, swedish_medical_ner, swedish_ner_corpus, swedish_reviews, swiss_judgment_prediction, tab_fact, tamilmixsentiment, tanzil, tapaco, tashkeela, taskmaster1, taskmaster2, taskmaster3, tatoeba, ted_hrlr, ted_iwlst2013, ted_multi, ted_talks_iwslt, telugu_books, telugu_news, tep_en_fa_para, text2log, thai_toxicity_tweet, thainer, thaiqa_squad, thaisum, the_pile, the_pile_books3, the_pile_openwebtext2, the_pile_stack_exchange, tilde_model, time_dial, times_of_india_news_headlines, timit_asr, tiny_shakespeare, tlc, tmu_gfm_dataset, told-br, totto, trec, trivia_qa, tsac, ttc4900, tunizi, tuple_ie, turk, turkic_xwmt, turkish_movie_sentiment, turkish_ner, turkish_product_reviews, turkish_shrinked_ner, turku_ner_corpus, tweet_eval, tweet_qa, tweets_ar_en_parallel, tweets_hate_speech_detection, twi_text_c3, twi_wordsim353, tydiqa, ubuntu_dialogs_corpus, udhr, um005, un_ga, un_multi, un_pc, universal_dependencies, universal_morphologies, urdu_fake_news, urdu_sentiment_corpus, vctk, vivos, web_nlg, web_of_science, web_questions, weibo_ner, wi_locness, wider_face, wiki40b, wiki_asp, wiki_atomic_edits, wiki_auto, wiki_bio, wiki_dpr, wiki_hop, wiki_lingua, wiki_movies, wiki_qa, wiki_qa_ar, wiki_snippets, wiki_source, wiki_split, wiki_summary, wikiann, wikicorpus, wikihow, wikipedia, wikisql, wikitext, wikitext_tl39, wili_2018, wino_bias, winograd_wsc, winogrande, wiqa, wisesight1000, wisesight_sentiment, wmt14, wmt15, wmt16, wmt17, wmt18, wmt19, wmt20_mlqe_task1, wmt20_mlqe_task2, wmt20_mlqe_task3, wmt_t2t, wnut_17, wongnai_reviews, woz_dialogue, wrbsc, x_stance, xcopa, xcsr, xed_en_fi, xglue, xnli, xor_tydi_qa, xquad, xquad_r, xsum, xsum_factuality, xtreme, yahoo_answers_qa, yahoo_answers_topics, yelp_polarity, yelp_review_full, yoruba_bbc_topics, yoruba_gv_ner, yoruba_text_c3, yoruba_wordsim353, youtube_caption_corrections, zest, 0n1xus/codexglue, 0n1xus/pytorrent-standalone, AConsApart/anime_subtitles_DialoGPT, AHussain0418/day2_data, AHussain0418/day4data, AHussain0418/demo_data, AI-Sweden/SuperLim, AI-it/khs_service_test, AI-it/korean-hate-speech, ARKseal/YFCC14M_subset_webdataset, ARTeLab/fanpage, ARTeLab/ilpost, ARTeLab/mlsum-it, ASCCCCCCCC/amazon_zh, ASCCCCCCCC/amazon_zh_simple, Abdo1Kamr/Arabic_Hadith, Abirate/code_net_dataset, Abirate/code_net_dev_dataset, Abirate/code_net_test_final_dataset, Abirate/english_quotes, Abirate/french_book_reviews, AdWeeb/DravidianMT, Adnan/Urdu_News_Headlines, AhmadSawal/qa, AhmedSSoliman/CoNaLa, Aisha/BAAD16, Aisha/BAAD6, Akila/ForgottenRealmsWikiDataset, Akshith/aa, Akshith/g_rock, Akshith/test, AlekseyDorkin/extended_tweet_emojis, AlekseyKorshuk/comedy-scripts, AlekseyKorshuk/horror-scripts, AlexMaclean/all-deletion-compressions, AlexMaclean/wikipedia-deletion-compressions, AlexZapolskii/zapolskii-amazon, AlgoveraAI/CryptoPunks, Aliseyfi/event_token_type, Alvenir/nst-da-16khz, AndrewMcDowell/de_corpora_parliament_processed, Annabelleabbott/real-fake-news-workshop, Annielytics/DoctorsNotes, Anurag-Singh-creator/task, Anurag-Singh-creator/tasks, ApiInferenceTest/asr_dummy, Arnold/hausa_common_voice, AryanLala/autonlp-data-Scientific_Title_Generator, Atsushi/fungi_diagnostic_chars_comparison_japanese, Atsushi/fungi_indexed_mycological_papers_japanese, Atsushi/fungi_trait_circus_database, Avishekavi/Avi, BSC-TeMU/SQAC, BSC-TeMU/ancora-ca-ner, BSC-TeMU/sts-ca, BSC-TeMU/tecla, BSC-TeMU/viquiquad, BSC-TeMU/xquad-ca, Babelscape/rebel-dataset, Babelscape/wikineural, BatuhanYilmaz/github-issues, Baybars/parla_text_corpus, BeIR/beir-corpus, BeIR/beir, BenjaminGalliot/pangloss, Binbin/my_dataset, BlakesOrb6/Fred-Flintstone, Bosio/pacman, Bosio/pacman_descriptions, BritishLibraryLabs/EThOS-PhD-metadata, CAGER/rick, CALM/arwiki, CAiRE/ASCEND, CShorten/KerasBERT, CShorten/ZillowPrize, ChadxxxxHall/Inter-vision, Champion/vpc2020_clear_anon_speech, Check/a_re_gi, Check/region_1, Check/region_2, Check/region_3, Check/region_4, Check/region_5, Check/region_6, Check/region_7, Check/region_8, Check/region_9, Check/regions, Check/vverify, Cheranga/test, ChristophSchuhmann/MS_COCO_2017_URL_TEXT, Chun/dataset, Chuu/Vhh, CodedotAI/code-clippy-tfrecords, CodedotAI/code_clippy, CodedotAI/code_clippy_github, Crives/haha, Cropinky/flatearther, Cropinky/rap_lyrics_english, Cropinky/wow_fishing_bobber, Cyberfish/pos_tagger, Cyberfish/text_error_correction, CyranoB/polarity, DDSC/angry-tweets, DDSC/dkhate, DDSC/europarl, DDSC/lcc, DDSC/partial-danish-gigaword-no-twitter, DDSC/reddit-da-asr-preprocessed, DDSC/reddit-da, DDSC/twitter-sent, DELith/github-issues, DSCI511G1/COP26_Energy_Transition_Tweets, DanL/scientific-challenges-and-directions-dataset, Daniele/dante-corpus, Darren/data, Datatang/accented_english, Datatang/accented_mandarin, Datatang/chinese_dialect, Datatang/mandarin_chinese, Datatang/mixed_speech_chinese_english, Datatang/multi_language, Datatang/multi_language_conversation, Davlan/conll2003_de_noMISC, Davlan/conll2003_noMISC, Davlan/masakhanerV1, DelgadoPanadero/Pokemon, DeskDown/ALTDataset, DeskDown/ALTDataset_en-to-fil-vi-id-ms-ja-khm, DiFronzo/Human_Activity_Recognition, Dmitriy612/1, DoctorSlimm/yipee, Doohae/klue-mrc-bm25, Doohae/modern_music_re, DoyyingFace/github-embeddings-doy, DoyyingFace/github-issues-doy, DrishtiSharma/as_opus100_processed, DrishtiSharma/bg_opus100_processed, DrishtiSharma/br_opus100_processed, DrishtiSharma/hi_opus100_processed, DrishtiSharma/kk_opus100_processed, DrishtiSharma/mr_opus100_processed, DrishtiSharma/or_opus100_processed, DrishtiSharma/sl_opus100_processed, DrishtiSharma/sr_opus100_processed, Dumiiii/common-voice-romaniarss, EMBO/biolang, EMBO/sd-nlp, ESZER/H, Emanuel/UD_Portuguese-Bosque, Emma121/testtest, Emon/sobuj, Enes3774/data, Exr0n/wiki-entity-similarity, Eymen3455/xsum_tr, FIG-Loneliness/FIG-Loneliness, FL33TW00D/test-dataset, FRTNX/cosuju, FRTNX/worldbank-projects, Felix-ML/quoteli3, Finnish-NLP/mc4_fi_cleaned, Firoj/CrisisBench, Francois/futures_es, Fraser/mnist-text-default, Fraser/mnist-text-no-spaces, Fraser/mnist-text-small, Fraser/news-category-dataset, Fraser/program-synthesis, Fraser/python-lines, Fraser/python-state-changes, Fraser/short-jokes, Fraser/wiki_sentences, GEM/ART, GEM/BiSECT, GEM/CrossWOZ, GEM/OrangeSum, GEM/RiSAWOZ, GEM/RotoWire_English-German, GEM/SIMPITIKI, GEM/SciDuet, GEM/Taskmaster, GEM/cochrane-simplification, GEM/common_gen, GEM/conversational_weather, GEM/cs_restaurants, GEM/dart, GEM/dstc10_track2_task2, GEM/e2e_nlg, GEM/indonlg, GEM/mlb_data_to_text, GEM/mlsum, GEM/opusparcus, GEM/references, GEM/schema_guided_dialog, GEM/sportsett_basketball, GEM/squad_v2, GEM/surface_realisation_st_2020, GEM/totto, GEM/turku_hockey_data2text, GEM/turku_paraphrase_corpus, GEM/viggo, GEM/web_nlg, GEM/wiki_auto_asset_turk, GEM/wiki_cat_sum, GEM/wiki_lingua, GEM/xlsum, GEM/xsum, GEM-submissions/GEM__bart_base_schema_guided_dialog__1645547915, GEM-submissions/lewtun__hugging-face-test-t5-base.outputs.json-36bf2a59__1645558682, GEM-submissions/lewtun__hugging-face-test-t5-base.outputs.json-36bf2a59__1645559101, GEM-submissions/ratishsp, GEM-submissions/submission-scores, GV05/shlomit_speech, Gabriel/quora_swe, Gabriel/squad_v2_sv, GalacticAI/Noirset, Gauravadlakha1509/new_one, GeoffVdr/cv8_trainval_processed, GonzaloA/fake_news, Graphcore/gqa-lxmert, Graphcore/gqa, Graphcore/vqa-lxmert, Graphcore/vqa, Graphcore/wikipedia-bert-128, Graphcore/wikipedia-bert-512, GroNLP/ik-nlp-22_pestyle, GroNLP/ik-nlp-22_slp, GroNLP/ik-nlp-22_transqe, GroNLP/ik-nlp-22_winemag, Gwangho/NCBI-Sars-Cov-2, HHousen/ParaSCI, HHousen/msrp, HHousen/quora, HUPD/hupd, Halilyesilceng/autonlp-data-nameEntityRecognition, HarleyQ/WitcherDialogue, HarrisDePerceptron/sv_corpora_parliament_processed, HarrisDePerceptron/ur_corpora_pib, Harveenchadha/bol-models, Harveenchadha/indic-voice, HarveyBWest/mybot, Hellisotherpeople/DebateSum, Helsinki-NLP/tatoeba_mt, HenryAI/KerasAPIReference.txt, HenryAI/KerasBERTv1-Data, HenryAI/KerasCodeExamples.txt, HenryAI/KerasDeveloperGuides.txt, Husain/intent-classification-en-fr, IFSTalfredoswald/MBTI, IGESML/pubmed_neg, Iftoo95/Arabic_Sentiment_and_Topics, IlyaGusev/gazeta, IlyaGusev/headline_cause, Intel/WEC-Eng, IsaacBot/GP-Sentiment, Ishwar/Senti, Iskaj/dutch_corpora_parliament_processed, JIWON/nil_dataset, JIsanan/war-ceb-wikipedia, Jack0508/TED2020_kor, Jack0508/TED2020_vi, Jack0508/TED2020vi_kor, Jack0508/demo, Jack0508/eng_vi_demo, Jack0508/test, Jack0508/vi-ko-TED-txt, Jean-Baptiste/wikiner_fr, Jeska/autonlp-data-vaccinfaq, Jeska/vaccinchat, JesseParvess/book_snippets_asr, Jikiwa/demo1, Jikiwa/demo2, Jikiwa/demo3, Jikiwa/demo4, Jikiwa/glue-mnli-train, Jikiwa/push-to-hub, Jikiwa/pushe-to-hub, Jikiwa/pushed-to-hub, Jikiwa/pushedd-to-hub, Jikiwa/random_repo, Jikiwa/stargazers, Jikiwa/temp-repo-valid, Jikiwa/test-16336477963335, Jikiwa/test-16336478042515, Jikiwa/test-16336479967338, Jikiwa/test-16336480189315, Jikiwa/test-16336486877862, Jikiwa/test-16340052901609, Jikiwa/test-16340052972855, Jikiwa/test-16344347220590, Jikiwa/test-16344347234752, Jikiwa/test-16344349332219, Jikiwa/test-16344349440339, Jikiwa/test-16344351925697, Jikiwa/test-16344360501144, Jikiwa/test-16344361893586, Jikiwa/test-16344362261113, Jikiwa/test-16344362895458, Jikiwa/test-16344364230608, Jikiwa/test-16344364547167, Jikiwa/test-16344367190179, Jikiwa/test-16344368182003, JonathanSum/en_corpora_parliament_processed, JonathanSum/github-issues, JonathanSum/sv_corpora_parliament_processed, JustinE/Test, KBLab/overlim, KBLab/sucx3_ner, KETI-AIR/aihub, KETI-AIR/klue, KETI-AIR/kor_corpora, KETI-AIR/korquad, KETI-AIR/nikl, KTH/martin, KTH/nst, KTH/speechdat, KTH/waxholm, Karavet/ARPA-Armenian-Paraphrase-Corpus, Karavet/ILUR-news-text-classification-corpus, Karavet/pioNER-Armenian-Named-Entity, Khanoooo/autonlp-data-Corona, Khondoker/SentNoB, Kili/plastic_in_river, Kira-Asimov/gender_clinical_trial, LIAMF-USP/arc-retrieval-c4, Langame/waiting-messages, Language/Fren, Language/trans, Lenn/github-issues, LeoCordoba/CC-NEWS-ES-titles, LeoCordoba/CC-NEWS-ES, LeverageX/book-summarization, LeverageX/klue-mrc, LeverageX/klue-re, Linda/test1111, Llamacha/Monolingual-cha, Llamacha/monolingual-quechua-iic, LoganKells/amazon_product_reviews_video_games, Lucylulu/amazon, Lucylulu/imdb, LuisG07/es_corpora_parliament_processed, Lumos/yahoo_hga, MBAH/MOVIESON, MKK/Dhivehi-English, Mahalakshmi/ta_lm_processed, Mansooreh/sharif-emotional-speech-dataset, MarianaSahagun/test, MarkusDressel/cord, Marzipan/QA4PC, Mateo/test_dataset, Mateo/testdataset, McGill-NLP/mlquestions, Mcy/random_uselesstestsequence, Melinoe/TheLabTexts, MickyMike/large_c_corpus, Motahar/github-issues, Mrleo1nid/Test_ru_dataset, Mulin/my_third_dataset, NLPC-UOM/English-Tamil-Parallel-Corpus, NLPC-UOM/Sinhala-POS-Data, NTUYG/RAGTest, NYTK/HuCOLA, NYTK/HuCoPA, NYTK/HuRC, NYTK/HuSST, NYTK/HuWNLI, NahedAbdelgaber/evaluating-student-writing, Narsil/asr_dummy, Narsil/conversational_dummy, Narsil/image_dummy, Narsil/test_data, Nathanael/NPS, Navigator/dodydard-marty, NbAiLab/NCC, NbAiLab/NCC_small_100, NbAiLab/NCC_small_divided, NbAiLab/NPSC, NbAiLab/NPSC_test, NbAiLab/NPSC_test2, NbAiLab/bokmaal_admin, NbAiLab/norec_agg, NbAiLab/norne, NbAiLab/norwegian_parliament, NikolajW/NPS_nonNormalized-Cased, NishinoTSK/leishmaniaV2, NishinoTSK/leishmaniav1, Nuwaisir/Quran_speech_recognition_kaggle, Ofrit/tmp, Omar2027/caner_replicate, OmarN121/train, PDJ107/riot-data, Paul/hatecheck, PaulLerner/triviaqa_for_viquae, PaulLerner/triviaqa_splits_for_viquae, PaulLerner/viquae_dataset, PaulLerner/viquae_images, PaulLerner/viquae_wikipedia, Pengfei/asfwe, Pengfei/test, Pengfei/test1, PereLluis13/parla_text_corpus, PereLluis13/spanish_speech_text, Perkhad/corejur, PlanTL-GOB-ES/SQAC, PlanTL-GOB-ES/cantemist-ner, PlanTL-GOB-ES/pharmaconer, Plim/common_voice_7_0_fr_processed, Plim/fr_corpora_parliament_processed, Plim/fr_wikipedia_processed, Plim/language_model_fr, Pongsaky/Wiki_SCG, Pratik/Gujarati_OpenSLR, Pyjay/emotion_nl, Pyke/patent_abstract, QA/abk-eng, R0bk/XFUN, RBG-AI/CoRePooL, Recognai/ag_news_corrected_labels, Recognai/corrected_labels_ag_news, Recognai/gutenberg_spacy-ner, Recognai/imdb_spacy-ner, Recognai/news, Recognai/sentiment-banking, Recognai/veganuary, Remesita/tagged_reviews, Renukswamy/Patent_sentiment_analysis, RohanAiLab/persian_blog, RohanAiLab/persian_daily_news, RohanAiLab/persian_news_dataset, RollingMuffin/test_scripts, Romrawin/mn-sim, RuudVelo/commonvoice_mt_8_processed, RuudVelo/commonvoice_nl_8_processed, RuudVelo/nl_corpora_parliament_processed, SCourthial/test, Sabokou/qg_squad_modified, Sabokou/qg_squad_modified_dev, SajjadAyoubi/persian_qa, Sam2021/Arguement_Mining_CL2017, Samip/func, SaulLu/Natural_Questions_HTML, SaulLu/Natural_Questions_HTML_Toy, SaulLu/Natural_Questions_HTML_reduced_all, SaulLu/test, SaulLu/toy_struc_dataset, SebastianS/github-issues, SergeiGKS/wikiner_fr_job, Serhii/Custom_SQuAD, SetFit/20_newsgroups, SetFit/TREC-QC, SetFit/ag_news, SetFit/amazon_counterfactual, SetFit/amazon_counterfactual_en, SetFit/amazon_polarity, SetFit/bbc-news, SetFit/emotion, SetFit/enron_spam, SetFit/ethos, SetFit/ethos_binary, SetFit/go_emotions, SetFit/hate_speech18, SetFit/hate_speech_offensive, SetFit/imdb, SetFit/insincere-questions, SetFit/sst2, SetFit/sst5, SetFit/student-question-categories, SetFit/subj, SetFit/toxic_conversations, SetFit/tweet_eval_stance, SetFit/tweet_sentiment_extraction, SetFit/yelp_review_full, Shanna/Jamaica, ShinyQ/PPKM_Pemerintah, ShreyaR/DepressionDetection, Shushant/ContaminationQA, Shushant/NepaliSentiment, Shushant/nepali, SkelterLabsInc/JaQuAD, Smiling/webnovels-en, SoLID/shellcode_i_a32, SocialGrep/one-million-reddit-confessions, SocialGrep/one-million-reddit-jokes, SocialGrep/one-million-reddit-questions, SocialGrep/one-year-of-r-india, SocialGrep/reddit-crypto-aug-2021, SocialGrep/reddit-nonewnormal-complete, SocialGrep/reddit-wallstreetbets-aug-2021, SocialGrep/ten-million-reddit-answers, SocialGrep/the-2022-trucker-strike-on-reddit, SocialGrep/the-reddit-covid-dataset, SocialGrep/top-american-universities-on-reddit, SophieTr/reddit_clean, Sunbird/salt-dataset, SuperAI2-Machima/ThaiQA_LST20, TRoboto/masc, TRoboto/names, TaahaKazi/FCE, Taekyoon/test_none_state, Tahsin-Mayeesha/Bengali-SQuAD, Tatyana/ru_sentiment_dataset, Terry0107/RiSAWOZ, TestCher/Testi, Tevatron/msmarco-passage-corpus, Tevatron/msmarco-passage, Tevatron/scifact-corpus, Tevatron/scifact, Tevatron/wikipedia-curated-corpus, Tevatron/wikipedia-curated, Tevatron/wikipedia-nq-corpus, Tevatron/wikipedia-nq, Tevatron/wikipedia-squad-corpus, Tevatron/wikipedia-squad, Tevatron/wikipedia-trivia-corpus, Tevatron/wikipedia-trivia, Tevatron/wikipedia-wq-corpus, Tevatron/wikipedia-wq, TheBlindBandit/SpongeNot, TimTreasure4/Test, Trainmaster9977/957, Trainmaster9977/zbakuman, TristanBehrens/js-fakes-4bars, TurkuNLP/register_mc4, TurkuNLP/register_oscar, TurkuNLP/turku_hockey_data2text, TurkuNLP/turku_paraphrase_corpus, Tyler/wikimatrix_collapsed, UMU/spanish-saticorpus-2021, Usin2705/test, VJGamer/test, VadorMazer/skyrimdialogstest, Valahaar/wsdmt, Vishnu393831/VICTORY_dataset, Vishva/UniFAQ_DataSET, Voxcroft/alffa_amharic, Voxcroft/alffa_wolof, Watermelons/ctx-ami_hq, Wiedy/be, Wiedy/wav2vec2-large-xls-r-300m-tr-colab, Wikidepia/IndoParaCrawl, Wikidepia/IndoSQuAD, Wikidepia/mc4-filter, WillFerreiraSantos/halos, Wuhu0/output, WyrdCurt/AO4W, Xenova/sponsorblock-768, Xenova/sponsorblock, XiangPan/iflytek, XiangPan/snli_break, XiangXiang/clt, Xinghua/test, Yatoro/github-issues, Yatoro/github_issues, Yeva/arm-summary, YuAnthony/chid, YuAnthony/tnews, Yves/fhnw_swiss_parliament, Zaid/coqa_expanded, Zaid/quac_expanded, Zoe10/ner_dataset, abhishek/autonlp-data-imdb_eval, abhishek/autonlp-data-prodigy-10, abidlabs/crowdsourced-notes, abidlabs/crowdsourced-speech-demo, abidlabs/crowdsourced-speech, abidlabs/crowdsourced-speech2, abidlabs/crowdsourced-speech3, abidlabs/crowdsourced-speech4, abidlabs/crowdsourced-speech5, abidlabs/crowdsourced-speech6, abidlabs/crowdsourced-speech7, abidlabs/test-audio-1, abidlabs/test-audio-13, abidlabs/test-image-13, abidlabs/test-image-classifier-dataset, abidlabs/test-translation-dataset, abidlabs/voice-verification-adversarial-dataset, abwicke/C-B-R, abwicke/koplo, adalbertojunior/MININER, adalbertojunior/punctuation-ptbr-light, adalbertojunior/punctuation-ptbr, adamlin/FewShotWoz, adamlin/companion, adamlin/coqa_squad, adamlin/daily_dialog, adamlin/domain_classification, adamlin/mail-classification, adamlin/multiwoz_dst, adamlin/qa_verification, adamlin/roc_story, adamlin/rs, adamlin/weibo_ner, addy88/nq-question-answeronly, addy88/sanskrit-asr-84-eval, addy88/sanskrit-asr-84, afasafen/mydataset, afasafen/newDataSet, ai4bharat/samanantar, aidystark/Yt, ajmbell/test-dataset, akhaliq/test, akumar33/manufacturing, albertvillanova/carbon_24, albertvillanova/datasets-tests-compression, albertvillanova/dummy_libri2mix, albertvillanova/legal_contracts, albertvillanova/lm_en_dummy0, albertvillanova/lm_en_dummy1, albertvillanova/lm_en_dummy2, albertvillanova/lm_en_dummy3, albertvillanova/lm_en_dummy4, albertvillanova/pmc_open_access, albertvillanova/sat, albertvillanova/tests-public-raw-jsonl, albertvillanova/tests-raw-jsonl, albertvillanova/tmp-tests-zip, albertvillanova/tmp-tests, alexantonov/chuvash_parallel, aliabd/crowdsourced-calculator-demo, aliabd/crowdsourced-speech4, aliabd/hello-world, alireza655/alireza655, alistvt/coqa-flat, alistvt/coqa-stories, alistvt/coqa, alittleie/mis_238, allegro/klej-allegro-reviews, allegro/klej-cbd, allegro/klej-cdsc-e, allegro/klej-cdsc-r, allegro/klej-dyk, allegro/klej-nkjp-ner, allegro/klej-polemo2-in, allegro/klej-polemo2-out, allegro/klej-psc, allegro/polish-question-passage-pairs, allegro/summarization-allegro-articles, allegro/summarization-polish-summaries-corpus, allenai/c4, allenai/scico, alperbayram/TwitterDuygu, alperiox/autonlp-data-user-review-classification, alvp/autonlp-data-alberti-stanza-names, alvp/autonlp-data-alberti-stanzas-finetuning, ami-wav2vec2/ami_multi_headset_segmented_and_chunked, ami-wav2vec2/ami_multi_headset_segmented_and_chunked_and_concatenated, ami-wav2vec2/ami_multi_headset_segmented_and_chunked_dummy, ami-wav2vec2/ami_single_headset_segmented, ami-wav2vec2/ami_single_headset_segmented_and_chunked, ami-wav2vec2/ami_single_headset_segmented_and_chunked_and_concatenated, ami-wav2vec2/ami_single_headset_segmented_and_chunked_dummy, ami-wav2vec2/ami_single_headset_segmented_dummy, aminedjebbie/Multi-Arabic-dialects, andrepreira/outros2021, anechaev/med_history, anechaev/ru_med_history, animesh/autonlp-data-peptides, antoiloui/bsard, antoinegk/HealthChallenge_dataset, anton-l/common_language, anton-l/superb, anton-l/superb_demo, anton-l/superb_dummy, anukaver/EstQA, anuragshas/bg_opus100_processed, anuragshas/ha_cc100_processed, anuragshas/ha_opus100_processed, anuragshas/hi_opus100_processed, anuragshas/lv_opus100_processed, anuragshas/mr_cc100_processed, anuragshas/mt_opus100_processed, anuragshas/pa_cc100_processed, anuragshas/sk_opus100_processed, anuragshas/sl_opus100_processed, anuragshas/ur_opus100_processed, anushakamath/sv_corpora_parliament_processed_v0, anzorq/kbd-ru-1.67M-temp, anzorq/kbd-ru-jsonl-tmp, anzorq/kbd-ru-temp, arch-raven/MAMI, arjunth2001/online_privacy_qna, artemis13fowl/github-issues, artyeth/Dorian, aryanpatke/github-issues, asahi417/qg_jaquad, asahi417/qg_squad, aseifert/merlin, aseifert/pie-synthetic, ashish-shrivastava/dont-know-dataset, ashraq/dhivehi-corpus, asi/wikitext_fr, asoroa/bsbasque, astarostap/antisemitic-tweets, astarostap/antisemitic_tweets, astarostap/autonlp-data-antisemitism-2, astremo/friendly_JA_corpus, astrideducation/cefr-combined-no-cefr-test, atelders/politweets, athar/QA, ausgequetschtem/jtrddfhfgh, austin/rheum_abstracts, autonlp/autonlp-benchmark-gem-GEM__references-GEM-submissions__lewtun__hugging-face-test-t5-base.outputs.json-36bf2a59__1645527851-778, avadesian/dddd, avanishcobaltest/datasetavanish, averyanalex/panorama, azuur/es_corpora_parliament_processed, azuur/gn_wiki_cleaned, badranx/opus_raw, bavard/personachat_truecased, be4rr/github-issues, beacon/test, bemanningssitua/dplremjfjfj, benjaminbeilharz/better_daily_dialog, benjaminbeilharz/empathetic_dialogues_for_lm, benjaminbeilharz/librivoxdeen, berkergurcay/2020-10K-Reports, bertin-project/mc4-es-sampled, bertin-project/mc4-sampling, bhadresh-savani/web_split, bhavnicksm/sentihood, bhigy/buckeye_asr, bigscience/LanguageResourceCatalogue, bigscience/P3, bigscience/mc4-sampled, bigscience/open_subtitles_monolingual, bigscience-catalogue-data-dev/lm_code_github-eval_subset, bigscience-catalogue-lm-data/lm_ar_wikibooks, bigscience-catalogue-lm-data/lm_ar_wikibooks_filtered, bigscience-catalogue-lm-data/lm_ar_wikinews_filtered, bigscience-catalogue-lm-data/lm_ar_wikiquote_filtered, bigscience-catalogue-lm-data/lm_ar_wikisource, bigscience-catalogue-lm-data/lm_ar_wikisource_filtered, bigscience-catalogue-lm-data/lm_ar_wikiversity_filtered, bigscience-catalogue-lm-data/lm_ar_wiktionary_filtered, bigscience-catalogue-lm-data/lm_ca_wikibooks_filtered, bigscience-catalogue-lm-data/lm_ca_wikimedia_filtered, bigscience-catalogue-lm-data/lm_ca_wikinews_filtered, bigscience-catalogue-lm-data/lm_ca_wikiquote_filtered, bigscience-catalogue-lm-data/lm_ca_wikisource_filtered, bigscience-catalogue-lm-data/lm_ca_wiktionary_filtered, bigscience-catalogue-lm-data/lm_code_stackexchange, bigscience-catalogue-lm-data/lm_en_no_code_stackexchange, bigscience-catalogue-lm-data/lm_en_wikibooks_filtered, bigscience-catalogue-lm-data/lm_en_wikinews_filtered, bigscience-catalogue-lm-data/lm_en_wikiquote_filtered, bigscience-catalogue-lm-data/lm_en_wikivoyage_filtered, bigscience-catalogue-lm-data/lm_en_wiktionary_filtered, bigscience-catalogue-lm-data/lm_es_wikibooks_filtered, bigscience-catalogue-lm-data/lm_es_wikihow_human_instructions, bigscience-catalogue-lm-data/lm_es_wikinews_filtered, bigscience-catalogue-lm-data/lm_es_wikiquote_filtered, bigscience-catalogue-lm-data/lm_es_wikisource_filtered, bigscience-catalogue-lm-data/lm_es_wikiversity_filtered, bigscience-catalogue-lm-data/lm_es_wikivoyage_filtered, bigscience-catalogue-lm-data/lm_es_wiktionary_filtered, bigscience-catalogue-lm-data/lm_eu_wikibooks_filtered, bigscience-catalogue-lm-data/lm_eu_wikiquote_filtered, bigscience-catalogue-lm-data/lm_eu_wikisource_filtered, bigscience-catalogue-lm-data/lm_eu_wiktionary, bigscience-catalogue-lm-data/lm_eu_wiktionary_filtered, bigscience-catalogue-lm-data/lm_fr_wikibooks, bigscience-catalogue-lm-data/lm_fr_wikibooks_filtered, bigscience-catalogue-lm-data/lm_fr_wikihow_human_instructionslm_es_wikihow_human_instructions, bigscience-catalogue-lm-data/lm_fr_wikinews, bigscience-catalogue-lm-data/lm_fr_wikinews_filtered, bigscience-catalogue-lm-data/lm_fr_wikiquote, bigscience-catalogue-lm-data/lm_fr_wikiquote_filtered, bigscience-catalogue-lm-data/lm_fr_wikiversity_filtered, bigscience-catalogue-lm-data/lm_fr_wikivoyage, bigscience-catalogue-lm-data/lm_fr_wikivoyage_filtered, bigscience-catalogue-lm-data/lm_fr_wiktionary_filtered, bigscience-catalogue-lm-data/lm_id_wikibooks_filtered, bigscience-catalogue-lm-data/lm_id_wikimedia_filtered, bigscience-catalogue-lm-data/lm_id_wikiquote_filtered, bigscience-catalogue-lm-data/lm_id_wikisource_filtered, bigscience-catalogue-lm-data/lm_id_wiktionary_filtered, bigscience-catalogue-lm-data/lm_indic-as_wiktionary_filtered, bigscience-catalogue-lm-data/lm_indic-bn_wikibooks_filtered, bigscience-catalogue-lm-data/lm_indic-bn_wikivoyage_filtered, bigscience-catalogue-lm-data/lm_indic-bn_wiktionary_filtered, bigscience-catalogue-lm-data/lm_indic-gu_wikiquote_filtered, bigscience-catalogue-lm-data/lm_indic-gu_wiktionary_filtered, bigscience-catalogue-lm-data/lm_indic-hi_wikibooks_filtered, bigscience-catalogue-lm-data/lm_indic-hi_wikimedia_filtered, bigscience-catalogue-lm-data/lm_indic-hi_wikiquote_filtered, bigscience-catalogue-lm-data/lm_indic-hi_wikiversity_filtered, bigscience-catalogue-lm-data/lm_indic-hi_wikivoyage_filtered, bigscience-catalogue-lm-data/lm_indic-hi_wiktionary_filtered, bigscience-catalogue-lm-data/lm_indic-kn_wikiquote_filtered, bigscience-catalogue-lm-data/lm_indic-kn_wiktionary_filtered, bigscience-catalogue-lm-data/lm_indic-ml_wikibooks_filtered, bigscience-catalogue-lm-data/lm_indic-ml_wikiquote_filtered, bigscience-catalogue-lm-data/lm_indic-ml_wikisource_filtered, bigscience-catalogue-lm-data/lm_indic-ml_wiktionary_filtered, bigscience-catalogue-lm-data/lm_indic-mr_wikibooks_filtered, bigscience-catalogue-lm-data/lm_indic-mr_wikiquote_filtered, bigscience-catalogue-lm-data/lm_indic-mr_wiktionary_filtered, bigscience-catalogue-lm-data/lm_indic-or_wiktionary_filtered, bigscience-catalogue-lm-data/lm_indic-pa_wikibooks_filtered, bigscience-catalogue-lm-data/lm_indic-pa_wiktionary_filtered, bigscience-catalogue-lm-data/lm_indic-ta_wikibooks_filtered, bigscience-catalogue-lm-data/lm_indic-ta_wikinews_filtered, bigscience-catalogue-lm-data/lm_indic-ta_wikiquote_filtered, bigscience-catalogue-lm-data/lm_indic-ta_wiktionary_filtered, bigscience-catalogue-lm-data/lm_indic-te_wikibooks_filtered, bigscience-catalogue-lm-data/lm_indic-te_wikiquote_filtered, bigscience-catalogue-lm-data/lm_indic-te_wiktionary_filtered, bigscience-catalogue-lm-data/lm_indic-ur_wikibooks_filtered, bigscience-catalogue-lm-data/lm_indic-ur_wikiquote_filtered, bigscience-catalogue-lm-data/lm_indic-ur_wiktionary_filtered, bigscience-catalogue-lm-data/lm_ml_wikisource, bigscience-catalogue-lm-data/lm_nigercongo-bm_wikibooks_filtered, bigscience-catalogue-lm-data/lm_nigercongo-ln_wiktionary_filtered, bigscience-catalogue-lm-data/lm_nigercongo-rw_wiktionary_filtered, bigscience-catalogue-lm-data/lm_nigercongo-st_wiktionary_filtered, bigscience-catalogue-lm-data/lm_nigercongo-sw_wikibooks_filtered, bigscience-catalogue-lm-data/lm_nigercongo-sw_wiktionary_filtered, bigscience-catalogue-lm-data/lm_nigercongo-tn_wiktionary_filtered, bigscience-catalogue-lm-data/lm_nigercongo-ts_wiktionary_filtered, bigscience-catalogue-lm-data/lm_nigercongo-wo_wikiquote_filtered, bigscience-catalogue-lm-data/lm_nigercongo-wo_wiktionary_filtered, bigscience-catalogue-lm-data/lm_nigercongo-zu_wiktionary_filtered, bigscience-catalogue-lm-data/lm_pt_wikibooks_filtered, bigscience-catalogue-lm-data/lm_pt_wikimedia_filtered, bigscience-catalogue-lm-data/lm_pt_wikinews_filtered, bigscience-catalogue-lm-data/lm_pt_wikiquote_filtered, bigscience-catalogue-lm-data/lm_pt_wikisource_filtered, bigscience-catalogue-lm-data/lm_pt_wikiversity_filtered, bigscience-catalogue-lm-data/lm_pt_wikivoyage_filtered, bigscience-catalogue-lm-data/lm_pt_wiktionary_filtered, bigscience-catalogue-lm-data/lm_vi_wikibooks_filtered, bigscience-catalogue-lm-data/lm_vi_wikiquote_filtered, bigscience-catalogue-lm-data/lm_vi_wikisource_filtered, bigscience-catalogue-lm-data/lm_vi_wikivoyage_filtered, bigscience-catalogue-lm-data/lm_vi_wiktionary_filtered, bigscience-catalogue-lm-data/lm_zh_wikibooks_filtered, bigscience-catalogue-lm-data/lm_zh_wikinews_filtered, bigscience-catalogue-lm-data/lm_zh_wikiquote_filtered, bigscience-catalogue-lm-data/lm_zh_wikiversity_filtered, bigscience-catalogue-lm-data/lm_zh_wikivoyage_filtered, bigscience-catalogue-lm-data/lm_zh_wiktionary_filtered, bigscience-catalogue-lm-data/lm_zu_wiktionary, bigscience-catalogue-lm-data/tokenization_nigercongo, bigscience-historical-texts/HIPE2020_sent-split, bigscience-historical-texts/hipe2020, bingzhen/test2, birgermoell/sv_corpora_parliament_processed, bitmorse/kickstarter_2022-2021, biu-nlp/qa_align, biu-nlp/qa_discourse, biu-nlp/qa_srl2018, biu-nlp/qa_srl2020, biu-nlp/qamr, biu-nlp/qanom, blinoff/medical_qa_ru_data, bobbydylan/top2k, bondarchukb/autonlp-data-iab_classification, braincode/braincode, brunodorneles/ner, bryantpwhite/Medieval_Sermons_in_French, bryantpwhite/Medieval_Texts_in_French, bs-modeling-metadata/OSCAR_Entity_13_000, bs-modeling-metadata/c4_newslike_url_only, bs-modeling-metadata/website_metadata_c4, bs-modeling-metadata/wiki_dump, bsc/ancora-ca-ner, bsc/sts-ca, bsc/tecla, bsc/viquiquad, bsc/xquad-ca, bstad/github-issues, bwu2018/anime-tagging-dataset, caca/zscczs, cahya/persona_empathetic, cakiki/args_me, cakiki/arxiv-metadata, cakiki/en_wiki_quote, cakiki/paperswithcode, caltonji/harrypotter_squad_v2, caltonji/harrypotter_squad_v2_2, calvpang/github-issues, cameronbc/synthtiger, cankeles/eval-senh, cassandra-themis/QR-AN, castorini/afriberta-corpus, castorini/mr-tydi-corpus, castorini/mr-tydi, castorini/msmarco_v1_doc_doc2query-t5_expansions, castorini/msmarco_v1_doc_segmented_doc2query-t5_expansions, castorini/msmarco_v1_passage_doc2query-t5_expansions, castorini/msmarco_v2_doc_doc2query-t5_expansions, castorini/msmarco_v2_doc_segmented_doc2query-t5_expansions, castorini/msmarco_v2_passage_doc2query-t5_expansions, castorini/nq_gar-t5_expansions, castorini/triviaqa_gar-t5_expansions, caythuoc/caoduoclieu, cbrew475/hwu66, ccccccc/hdjw_94ejrjr, ccdv/arxiv-classification, ccdv/arxiv-summarization, ccdv/cnn_dailymail, ccdv/govreport-summarization, ccdv/patent-classification, ccdv/pubmed-summarization, cdleong/piglatin-mt, cdleong/temp_africaNLP_keyword_spotting_for_african_languages, cdminix/iwslt2011, cdminix/mgb1, cem/dnm, cem/film, cemigo/taylor_vs_shakes, cemigo/test-data, cestwc/adapted-msrcomp, cestwc/adapted-paranmt5m, cestwc/adapted-sentcomp, cestwc/adapted-synonym, cestwc/adapted-wikismall, cestwc/adapted-wordnet, cestwc/asrc, cestwc/cnn_dailymail-metaeval100, cestwc/cnn_dailymail-snippets, cestwc/cnn_dailymail-test50, cestwc/conjnli, cestwc/sac-approx-1, cestwc/sac-na, cestwc/sac, cfilt/iitb-english-hindi, cgarciae/point-cloud-mnist, chau/ink_test01, chenghao/mc4_eu_dedup, chenghao/mc4_sw_dedup, chenghao/scielo_books, chenyuxuan/wikigold, cheulyop/dementiabank, cheulyop/ksponspeech, chitra/contradiction, chitra/contradictionNLI, chmanoj/ai4bharat__samanantar_processed_te, chopey/dhivehi, clarin-pl/aspectemo, clarin-pl/cst-wikinews, clarin-pl/kpwr-ner, clarin-pl/multiwiki_90k, clarin-pl/nkjp-pos, clarin-pl/polemo2-official, classla/FRENK-hate-en, classla/FRENK-hate-hr, classla/FRENK-hate-sl, classla/copa_hr, classla/hr500k, classla/janes_tag, classla/reldi_hr, classla/reldi_sr, classla/setimes_sr, classla/ssj500k, clem/autonlp-data-french_word_detection, clips/mfaq, clips/mqa, cnrcastroli/aaaa, coala/kkk, codeceejay/ng_accent, cointegrated/ru-paraphrase-NMT-Leipzig, collectivat/tv3_parla, comodoro/pscr, comodoro/vystadial2016, congpt/dstc23_asr, corypaik/coda, corypaik/prost, coyotte508/dataset, craffel/openai_lambada, crich/cider, cristinakuo/latino40, crystina-z/inlang-mrtydi-corpus, crystina-z/inlang-mrtydi, crystina-z/mbert-mrtydi-corpus, crystina-z/mbert-mrtydi, csarron/image-captions, csebuetnlp/xlsum, csebuetnlp/xnli_bn, csikasote/bemba_train_dev_sets_processed, csikasote/bemba_trainset_processed, csikasote/bembaspeech_plus_jw_processed, csikasote/sv_corpora_parliament_processed, cstrathe435/Task2Dial, ctgowrie/chessgames, ctu-aic/csfever, ctu-aic/csfever_nli, ctu-aic/ctkfacts_nli, cyko/books, cylee/github-issues, dalle-mini/YFCC100M_OpenAI_subset, dalle-mini/open-images, dalle-mini/wit, damlab/HIV_FLT, damlab/HIV_PI, damlab/HIV_V3_bodysite, damlab/HIV_V3_coreceptor, dansbecker/hackernews_hiring_posts, darentang/generated, darentang/sroie, darkraipro/recipe-instructions, dasago78/dasago78dataset, dataset/wikipedia_bn, davanstrien/19th-century-ads, davanstrien/ads-im-test, davanstrien/ads-test, davanstrien/beyond_test, davanstrien/embellishments, davanstrien/hipe2020, davanstrien/hmd_newspapers, davanstrien/kitten, davanstrien/manuscript_iiif_test, davanstrien/snorkel_genre, davanstrien/test_iiif, davanstrien/test_push_to_hub_image, davanstrien/testpush, david-wb/zeshel, davidwisdom/reddit-randomness, dcfidalgo/test, debajyotidatta/biosses, debatelab/aaac, debatelab/deepa2, deepset/germandpr, deepset/germanquad, dennlinger/klexikon, deokgu/fooddetection, dev/untitled_imgs, dfgvhxfgv/fghghj, dfki-nlp/few-nerd, dfki-nlp/mobie, dgao/librispeech_nc_test, dgknrsln/Yorumsepeti, diiogo/annotations, diiogo/brwac-clean, diiogo/harem-seletivo, diiogo/harem-total, diiogo/ocr-galdino, diiogo/oscar, dispenst/jhghdghfd, dispix/test-dataset, diwank/silicone-merged, dk-crazydiv/huggingface-modelhub, dlb/plue, dog/friends-of-mine, dog/punks, dongpil/test, dragosnicolae555/RoITD, dram-conflict/horror-scripts, dvilasuero/ag_news_error_analysis, dvilasuero/ag_news_training_set_losses, dvilasuero/test-dataset, dweb/squad_with_cola_scores, dynabench/dynasent, dynabench/qa, eason929/test, ebrigham/asr_files, ebrigham/autonlp-data-csat_classification_fr, ebrigham/labels, ebrigham/multi_sentiment, echarlaix/gqa-lxmert, echarlaix/gqa, echarlaix/vqa-lxmert, echarlaix/vqa, edbeeching/decision_transformer_atari_dqn_replay, edbeeching/decision_transformer_gym_replay, edbeeching/github-issues, edfews/szdfcszdf, edge2992/github-issues, edge2992/rri-short, edge2992/rri_short, edsas/fgrdtgrdtdr, edsas/grttyi, ehcalabres/ravdess_speech, ejjaffe/onion_headlines_2_sources, eliza-dukim/load_klue_re, elonmuskceo/persistent-space-dataset, elonmuskceo/wordle, elricwan/bert_data, emre/Open_SLR108_Turkish_10_hours, emrecan/stsb-mt-turkish, enelpol/czywiesz, ervis/aaa, ervis/qqq, erwanlc/cocktails_recipe, erwanlc/cocktails_recipe_no_brand, espejelomar/code_search_net_python_10000_examples, eugenesiow/BSD100, eugenesiow/Div2k, eugenesiow/PIRM, eugenesiow/Set14, eugenesiow/Set5, eugenesiow/Urban100, evageon/IADD, ewdrtfwe/54refyghrtf, facebook/multilingual_librispeech, fastjt/fasst, fatvvs/autonlp-data-entity_model_conll2003, fededeleon/CriteriosClasificacion, fengzhang/fzTestDatasets, fhamborg/news_sentiment_newsmtsc, fighterhitx/test, fihtrotuld/asu, flax-community/code_clippy_data, flax-community/conceptual-12m-mbart-50-multilingual, flax-community/conceptual-12m-multilingual-marian-128, flax-community/conceptual-12m-multilingual-marian-es, flax-community/conceptual-12m-multilingual-marian, flax-community/conceptual-captions-12, flax-community/dummy-oscar-als-32, flax-community/german-common-voice-processed, flax-community/german_common_crawl, flax-community/multilingual-vqa, flax-community/norwegian-clean-dummy, flax-community/swahili-safi, flax-sentence-embeddings/Gender_Bias_Evaluation_Set, flax-sentence-embeddings/paws-jsonl, flax-sentence-embeddings/stackexchange_math_jsonl, flax-sentence-embeddings/stackexchange_title_best_voted_answer_jsonl, flax-sentence-embeddings/stackexchange_title_body_jsonl, flax-sentence-embeddings/stackexchange_titlebody_best_and_down_voted_answer_jsonl, flax-sentence-embeddings/stackexchange_titlebody_best_voted_answer_jsonl, flax-sentence-embeddings/stackexchange_xml, flexthink/librig2p-nostress-space, flexthink/librig2p-nostress, flexthink/ljspeech, flexudy/OMQD, florentgbelidji/test-3, florentgbelidji/test-covid, florentgbelidji/test-dataset, florianbussmann/FUNSD-vu2020revising, florianbussmann/train_tickets-yu2020pick, flxclxc/encoded_drug_reviews, formermagic/github_python_1m, formu/CVT, fractalego/QA_to_statements, frahman/github-issues, frtna/deneme, frtna/es_it_Results-base-OPUS_Tatoeba, frtna/jwt300_mt, frtna/opensubtitles_mt, frtna/sabahaKKarsi, frtna/ted_mt, frtna/test, frtna/test2, fulai/DuReader, fuliucansheng/coco, fuliucansheng/minicoco, fuliucansheng/mininlp, fuliucansheng/pascal_voc, fuyun1107/clip-for-vlp, fvillena/cantemist, fvillena/spanish_diagnostics, gabella/demo_data_raw, gagan3012/fake-news, gagan3012/grover-data, gagan3012/vizwiz, gar1t/test, gayanin/pubmed-gastro-maskfilling, gayanin/pubmed-gastro-paraphrasing, gayanin/pubmed-gastro-summarisation, gcaillaut/citeseer, gcaillaut/cora, gcaillaut/frwiki_good_pages_el, gcaillaut/pubmed, geekydevu/mlquestions, geninhu/vi_opus100_processed, geninhu/vi_vivos-cv-tts-fpt_processed, german-nlp-group/german_common_crawl, gfigueroa/wikitext_processed, gfissore/arxiv-abstracts-2021, ghadeermobasher/BC5CDR-Chemical-Disease, ghadeermobasher/CRAFT-Chem, ghomasHudson/ao3_style_change, ghomasHudson/character_id, ghomasHudson/hotpotExtended, ghomasHudson/long_contra_pro, ghomasHudson/muld, ghomasHudson/vlsp, gigant/african_accented_french, gigant/m-ailabs_speech_dataset_fr, gigant/ro_corpora_parliament_processed, gigant/romanian_speech_synthesis_0_8_1, gj1997/trial, gmnlp/tico19, gorkemgoknar/tr_ted_talk_translated, gpt3mix/rt20, gpt3mix/sst2, gsarti/change_it, gsarti/clean_mc4_it, gsarti/flores_101, gsarti/itacola, gsarti/wmt_vat, guoqiang/cuge, gusu/mymodel1, habu24/fdz, hartzeer/kdfjdshfje, henrychess/gutenberg-fulltext-dirty-locc, herbievore/test, hf-internal-testing/cats_vs_dogs_sample, hf-internal-testing/fixtures_ade20k, hf-internal-testing/fixtures_docvqa, hf-internal-testing/fixtures_image_utils, hf-internal-testing/fixtures_nlvr2, hf-internal-testing/fixtures_ocr, hf-internal-testing/fixtures_sintel, hf-internal-testing/librispeech_asr_demo, hf-internal-testing/librispeech_asr_dummy, hf-internal-testing/test-dataset, hf-internal-testing/transformers-metadata, hf-test/sv_corpora_parliament_processed, hfface/poopi, holodata/sensai, holylovenia/recam, hong/autonlp-data-zoo_test, honghungle/dataset, howardmiddleton382/esuyertusutr, howardmiddleton382/wgweagwege, huggingFaceUser02/air21_grp13_inference_results, huggingFaceUser02/air21_grp13_tokenized_results, huggingartists/100-gecs, huggingartists/21-savage, huggingartists/25-17, huggingartists/50-cent, huggingartists/5nizza, huggingartists/5opka, huggingartists/6ix9ine, huggingartists/aaron-watson, huggingartists/abba, huggingartists/adele, huggingartists/agata-christie, huggingartists/aikko, huggingartists/aimer, huggingartists/ajr, huggingartists/alan-walker, huggingartists/andre-3000, huggingartists/arash, huggingartists/architects, huggingartists/arctic-monkeys, huggingartists/ariana-grande, huggingartists/ariya, huggingartists/armin-van-buuren, huggingartists/as-i-lay-dying, huggingartists/asdfgfa, huggingartists/asper-x, huggingartists/baklan, huggingartists/big-baby-tape, huggingartists/big-russian-boss, huggingartists/bill-wurtz, huggingartists/billie-eilish, huggingartists/billy-talent, huggingartists/bladee, huggingartists/bob-dylan, huggingartists/bones, huggingartists/booker, huggingartists/boris-grebenshikov, huggingartists/braii, huggingartists/bring-me-the-horizon, huggingartists/bruce-springsteen, huggingartists/bryan-adams, huggingartists/burzum, huggingartists/bushido-zho, huggingartists/cardi-b, huggingartists/chester-bennington, huggingartists/chief-keef, huggingartists/cocomelon, huggingartists/coin, huggingartists/coldplay, huggingartists/dababy, huggingartists/david-bowie, huggingartists/ddt, huggingartists/death-grips, huggingartists/deep-purple, huggingartists/denderty, huggingartists/dermot-kennedy, huggingartists/dj-artem-artemov, huggingartists/doja-cat, huggingartists/drake, huggingartists/dua-lipa, huggingartists/duran-duran, huggingartists/dzhizus, huggingartists/ed-sheeran, huggingartists/egor-kreed, huggingartists/egor-letov, huggingartists/elton-john, huggingartists/eminem, huggingartists/enigma, huggingartists/enya, huggingartists/epic-rap-battles-of-history, huggingartists/face, huggingartists/fascinoma, huggingartists/fear-factory, huggingartists/florence-the-machine, huggingartists/freddie-dredd, huggingartists/freelancer, huggingartists/galenskaparna-and-after-shave, huggingartists/ghost, huggingartists/ghostemane, huggingartists/ghostmane, huggingartists/gizmo, huggingartists/gorillaz, huggingartists/green-day, huggingartists/grigory-leps, huggingartists/grimes, huggingartists/gspd, huggingartists/gunna, huggingartists/hillsong-worship, huggingartists/hyuna, huggingartists/i-dont-know-how-but-they-found-me, huggingartists/idktime, huggingartists/imagine-dragons, huggingartists/jah-khalib, huggingartists/jim-morrison, huggingartists/john-k-samson, huggingartists/john-lennon, huggingartists/joji, huggingartists/joni-mitchell, huggingartists/justin-bieber, huggingartists/kanye-west, huggingartists/kasta, huggingartists/katy-perry, huggingartists/kehlani, huggingartists/kendrick-lamar, huggingartists/kesha, huggingartists/king-krule, huggingartists/kipelov, huggingartists/kishlak, huggingartists/kizaru, huggingartists/kojey-radical, huggingartists/krechet, huggingartists/krept-and-konan-bugzy-malone-sl-morisson-abra-cadabra-rv-and-snap-capone, huggingartists/kurt-cobain, huggingartists/lady-gaga, huggingartists/lazy-jay, huggingartists/led-zeppelin, huggingartists/lil-baby, huggingartists/lil-nas-x, huggingartists/lil-peep, huggingartists/lil-skies, huggingartists/lil-uzi-vert, huggingartists/linkin-park, huggingartists/little-big, huggingartists/lizer, huggingartists/logic, huggingartists/lorde, huggingartists/loud-luxury, huggingartists/loverance, huggingartists/lovv66, huggingartists/lumen, huggingartists/lyapis-trubetskoy, huggingartists/macan, huggingartists/machine-gun-kelly, huggingartists/madonna, huggingartists/marillion, huggingartists/maroon-5, huggingartists/mashina-vremeni, huggingartists/mating-ritual, huggingartists/max-korzh, huggingartists/mayot, huggingartists/mc-ride, huggingartists/melanie-martinez, huggingartists/metallica, huggingartists/mf-doom, huggingartists/michael-jackson, huggingartists/mikhail-gorshenev, huggingartists/mikhail-krug, huggingartists/miyagi, huggingartists/mnogoznaal, huggingartists/morgenshtern, huggingartists/mumiy-troll, huggingartists/muse, huggingartists/nautilus-pompilius, huggingartists/nervy, huggingartists/nicki-minaj, huggingartists/nirvana, huggingartists/noize-mc, huggingartists/oasis, huggingartists/obladaet, huggingartists/og-buda, huggingartists/ot-rus, huggingartists/our-last-night, huggingartists/oxxxymiron, huggingartists/peter-paul-and-mary, huggingartists/pharaoh, huggingartists/phish, huggingartists/pink-floyd, huggingartists/placebo, huggingartists/platina, huggingartists/pop-smoke, huggingartists/post-malone, huggingartists/pyrokinesis, huggingartists/queen, huggingartists/radiohead, huggingartists/rage-against-the-machine, huggingartists/ramil, huggingartists/rammstein, huggingartists/red-hot-chili-peppers, huggingartists/rex-orange-county, huggingartists/rihanna, huggingartists/rocket, huggingartists/sam-kim, huggingartists/scriptonite, huggingartists/sektor-gaza, huggingartists/selena-gomez, huggingartists/sergei-letov, huggingartists/shadowraze, huggingartists/sia, huggingartists/sid-sriram, huggingartists/skillet, huggingartists/slava-kpss, huggingartists/slava-marlow, huggingartists/snoop-dogg, huggingartists/sqwore, huggingartists/sugar-ray, huggingartists/suicideoscope, huggingartists/sum-41, huggingartists/sundara-karma, huggingartists/system-of-a-down, huggingartists/t-fest, huggingartists/tanzy-minus, huggingartists/taylor-swift, huggingartists/tedeschi-trucks-band, huggingartists/the-69-eyes, huggingartists/the-avalanches, huggingartists/the-beatles, huggingartists/the-gazette, huggingartists/the-grateful-dead, huggingartists/the-king-and-the-jester, huggingartists/the-notorious-big, huggingartists/the-sugarcubes, huggingartists/the-the-pigs, huggingartists/the-velvet-underground, huggingartists/the-weeknd, huggingartists/tiamat, huggingartists/till-lindemann, huggingartists/tom-waits, huggingartists/tony-raut-and-garry-topor, huggingartists/tool, huggingartists/totpoc, huggingartists/travis-scott, huggingartists/twenty-one-pilots, huggingartists/tyler-the-creator, huggingartists/upsahl, huggingartists/v-x-v-prince, huggingartists/van-morrison, huggingartists/veggietales, huggingartists/viktor-tsoi, huggingartists/vladimir-vysotsky, huggingartists/xxxtentacion, huggingartists/young-thug, huggingartists/yung-lean, huggingartists/yung-plague, huggingartists/zemfira, huggingface/DataMeasurementsFiles, huggingface/cats-image, huggingface/documentation-images, huggingface/label-files, huggingface/task-page-images, huggingface/transformers-metadata, huggingface-course/codeparrot-ds-train, huggingface-course/codeparrot-ds-valid, husnu/tquad-v1v2, husnu/tquad2, huyongquan/d2, hyeonduck/whiteboard_abuse_dataset, hyeonduck/your_dataset_name, ia-bentebib/conv_ai_2_fr, ia-bentebib/conv_ai_3_fr, ia-bentebib/daily_dialog_fr, ia-bentebib/diafrag, ia-bentebib/dialog_re_fr, ia-bentebib/doc2dial_fr, ia-bentebib/empathetic_dialogues_fr, iamshsdf/sssssssssss, iarfmoose/qa_evaluator, iarfmoose/question_generator, image-search-2/unsplash_lite_image_dataset, imthanhlv/binhvq_dedup, imthanhlv/binhvq_news21_raw, imvladikon/knesset_meetings_corpus, indonesian-nlp/id_newspapers_2018, indonesian-nlp/id_personachat, iohadrubin/mtop, iohadrubin/smcalflow, ixxi/my_v1, jacobbieker/open-crab-sample, jaimin/wav2vec2-large-xlsr-gujarati-demo, jakeazcona/short-text-labeled-emotion-classification, jakeazcona/short-text-multi-labeled-emotion-classification, jakemarcus/MATH, jamescalam/climate-fever-similarity, jamol1741/test_dataset, jcmc/ga-IE_opus_dgt_train, jcmc/ga_mc4_processed, jdepoix/junit_test_completion, jeffboudier/testing3, jegorkitskerkin/dutch-snli, jel/covid, jeree/fr_corpora_parliament_processed, jfarray/TFM, jfrenz/legalglue, jgammack/MTL-abstracts, jgammack/SAE-door-abstracts, jgammack/THESES-abstracts, jglaser/binding_affinity, jhonparra18/spanish_billion_words_clean, jhqwqq/2, jianhong/dateset1, jianhong/dateset2, jiminsun/atc0_demo, jimregan/clarinpl_sejmsenat, jimregan/clarinpl_studio, jimregan/foinse, jimregan/lasid, jinmang2/KorQuADv1, jinmang2/common-sense-mrc, jinmang2/load_klue_re, jinmang2/medical-mask, jinmang2/pred, jiyoojeong/targetizer, jlh/coco, jmamou/augmented-glue-sst2, joelito/ler, joelito/sem_eval_2010_task_8, johnpaulbin/autonlp-data-asag-v2, jonfd/ICC, jozierski/ecomwebtexts-pl, jpcorb20/multidogo, jsfactory/mental_health_reddit_posts, ju-bezdek/conll2003-SK-NER, julien-c/dummy-dataset-from-colab, julien-c/persistent-space-dataset, julien-c/reactiongif, juliensimon/autonlp-data-song-lyrics-demo, juliensimon/autonlp-data-song-lyrics, juniorrios/roi_leish_test, juny116/few_glue, justinqbui/covid_fact_checked_google_api, justinqbui/covid_fact_checked_polifact, k-halid/ar, k0t1k/test, kaka10/fgfgfgfg, karinev/lanuitdudroit, kartikay/review-summarizer, katanaml/cord, katoensp/VR-OP, kaushikacharya/github-issues, kenlevine/CUAD, keshan/clean-si-mc4, keshan/large-sinhala-asr-dataset, keshan/multispeaker-tts-sinhala, keshan/wit-dataset, kevinassobo/sales_2015_dataset, kevinjesse/ManyTypes4TypeScript, kevinlu1248/personificationgen, khalidsaifullaah/detecThreats, khanbaba/online_love, khursani8/sani, kiamehr74/CoarseWSD-20, kingabzpro/Rick-bot-flags, kingabzpro/ar_corpora_parliament_processed, kingabzpro/ga_corpora_parliament_processed, kingabzpro/pan_corpora_parliament_processed, kingabzpro/savtadepth-flags, kingabzpro/tt_corpora_parliament_processed, kiyoung2/aistage-mrc, kiyoung2/temp, kleinay/qa_srl, kmfoda/booksum, kmfoda/name_finder_v1, kmyoo/klue-tc-dev, knilakshan20/wikigold, kowndinya23/bert-dataset, krandiash/beethoven, krandiash/sc09, krandiash/youtubemix, kresnik/librispeech_asr_test, kresnik/zeroth_korean, kroshan/BioASQ, kroshan/qa_evaluator, kudo-research/mustc-en-es-text-only, kyryl0s/ukbbc, laion/filtered-wit, laion/laion400m, laion/laion_100m_vqgan_f8, lara-martin/Scifi_TV_Shows, larcane/ko-WIT, laugustyniak/abusive-clauses-pl, lavis-nlp/german_legal_sentences, layboard/layboard.in, lc-col/sv_corpora_parliament_processed, leiping/jj, leiping/teeee, leoapolonio/AMI_Meeting_Corpus, leonadase/fdner, leonadase/mycoll3, lewtun/asr-preds-test, lewtun/asr_dummy, lewtun/benchmark-test, lewtun/binary_classification_dummy, lewtun/bulk-superb-s3p-superb-49606, lewtun/drug-reviews, lewtun/gem-multi-dataset-predictions, lewtun/gem-sub-03, lewtun/gem-test-predictions, lewtun/gem-test-references, lewtun/github-issues-test, lewtun/github-issues, lewtun/mnist-preds, lewtun/my-awesome-dataset, lewtun/s3prl-sd-dummy, lewtun/test, lewtun/text_classification_dummy, lgrobol/openminuscule, lhoestq/conll2003, lhoestq/custom_squad, lhoestq/demo1, lhoestq/squad, lhoestq/test, lhoestq/test2, lhoestq/test_commit_descriptions, lhoestq/test_zip_txt, lhoestq/tmp, lhoestq/wikipedia_bn, liam168/nlp_c4_sentiment, lidia/202111, lijingxin/github-issues, lijingxin/squad_zen, lijingxin/squad_zh_1, limjiayi/hateful_memes_expanded, lincoln/newsquadfr, linhd-postdata/pulpo, linhd-postdata/stanzas, liweili/c4_200m, lkarjun/Malayalam-Articles, lkiouiou/o9ui7877687, lkndsjkndgskjngkjsndkj/jsjdjsdvkjvszlhdskb, llangnickel/long-covid-classification-data, lohanna/testedjkcxkf, lorsorlah/Dadedadedam, loveguruji609/dfdfsdfsdfsdfsdfsd, lpsc-fiuba/melisa, lsb/ancient-latin-passages, lsb/million-english-numbers, lucien/sciencemission, lucien/voacantonesed, lucien/wsaderfffjjjhhh, lucio/common_voice_eval, lukasmasuch/my-test-repo-3, lukasmasuch/my-test-repo-4, lukasmasuch/test-2, lukasmasuch/test-3, lukasmasuch/test, lukesjordan/worldbank-project-documents, luofengge/mydata, luofengge/testDataset, luomingshuang/GRID_audio, luomingshuang/GRID_text, luomingshuang/grid_lip_160_80, luozhouyang/dureader, luozhouyang/kgclue-knowledge, luozhouyang/question-answering-datasets, lvwerra/abc-test, lvwerra/abc, lvwerra/codeparrot-clean-train, lvwerra/codeparrot-clean-valid, lvwerra/codeparrot-clean, lvwerra/codeparrot-valid-clean-minimal, lvwerra/codeparrot-valid, lvwerra/github-alphacode, lvwerra/github-code, lvwerra/important_dataset, lvwerra/lm_ar_wikipedia, lvwerra/red-wine, lvwerra/repo-images, lvwerra/test, lysandre/image-to-text, lysandre/my-cool-dataset, m3hrdadfi/recipe_nlg_lite, mad/IndonesiaNewsDataset, maindadwitiya/weather_dataset, maji/npo_mission_statement_ucf, majod/CleanNaturalQuestionsDataset, makanan/umich, malay-huggingface/pembalakan, mammut/mammut-corpus-venezuela-test-set, mammut/mammut-corpus-venezuela, manandey/OSCAR_Entity_Toy, manandey/entity_experiments, manifoldix/sg_testset_fhnw, manifoldix/swg_parliament_fhnw, manishk31/Demo, manu/fr_corpora_parliament_processed-lowercased, manu/fr_corpora_parliament_processed, marinone94/nst_no, marinone94/nst_sv, mariosasko/PetImages, mariosasko/dummy_test, markscrivo/OddsOn, martodaniel/terere, masked-neuron/amazon, masked-neuron/ccd, masked-neuron/qb, mattchurgin/sv_corpora_parliament_processed, matteopilotto/github-issues, maximedb/mcqa_light, maximedb/mfaq_light, maximedb/paws-x-all, maximedb/vaccinchat, maximedb/vaccinchat_retrieval, maximedb/wow, maxmoynan/SemEval2017-Task4aEnglish, mbateman/github-issues, medzaf/test, meghanabhange/chaii, meghanabhange/hilm141021, meghanabhange/hitalm141021, meghanabhange/hitalmsandbox, meghanabhange/talm141021, merty/nateraw-food101-copy, merve/coco, merve/folk-mythology-tales, merve/poetry, merve/qqp, metaeval/blimp_classification, metaeval/colors, metaeval/crowdflower, metaeval/ethics, metaeval/linguisticprobing, metaeval/recast, metalearning/kaggale-nlp-tutorial, metamong1/summarization_optimization, metopedia/autonlp-data-Multiple-Source-Language-Consensus-Reconstruction-o, michaelbenayoun/wikipedia-bert-128, microsoft/codexglue_method_generation, midas/citeulike180, midas/cstr, midas/duc2001, midas/inspec, midas/inspec_ke_tagged, midas/kdd, midas/kp20k, midas/kpcrowd, midas/kptimes, midas/krapivin, midas/ldke3k_medium, midas/ldke3k_small, midas/ldkp10k, midas/ldkp3k, midas/ldkp3k_small, midas/nus, midas/oagkx, midas/openkp, midas/pubmed, midas/semeval2010, midas/semeval2010_ke_tagged, midas/semeval2017, midas/semeval2017_ke_tagged, midas/test_ldkp, midas/www, mideind/icelandic-common-crawl-corpus-IC3, mideind/icelandic-error-corpus-IceEC, miesnerjacob/github-issues, mikeee/model-z, mirari/sv_corpora_parliament_processed, mishig/sample_images, mksaad/Arabic_news, ml6team/cnn_dailymail_nl, ml6team/xsum_nl, mldmm/glass_alloy_composition, mmcquade11-test/reuters-for-summarization-two, mmm-da/rutracker_anime_torrent_titles, mnaylor/evaluating-student-writing, mnemlaghi/widdd, mohamed-illiyas/wav2vec2-base-lj-demo-colab, morganchen1007/1215, morganchen1007/1216, morganchen1007/1216_00, morganchen1007/test_1213_00, moshew/my_raft, mostol/wiktionary-ipa, moumeneb1/French_arpa_lm, moumeneb1/filtered, moumeneb1/filtered_300, moumeneb1/fr_lm_dataset, moumeneb1/large_vocabulary_dataset, moumeneb1/osc_processed_lm, moumeneb1/testing, moxi43/github-issues, mozilla-foundation/common_voice_1_0, mozilla-foundation/common_voice_2_0, mozilla-foundation/common_voice_3_0, mozilla-foundation/common_voice_4_0, mozilla-foundation/common_voice_5_0, mozilla-foundation/common_voice_5_1, mozilla-foundation/common_voice_6_0, mozilla-foundation/common_voice_6_1, mozilla-foundation/common_voice_7_0, mozilla-foundation/common_voice_8_0, mpierrau/sv_corpora_parliament_processed, mr-robot/ec, mrm8488/fake-news, mrm8488/goemotions, mrojas/abbreviation, mrojas/body, mrojas/disease, mrojas/family, mrojas/finding, mrojas/medication, mrojas/procedure, mrp/Thai-Semantic-Textual-Similarity-Benchmark, msarmi9/korean-english-multitarget-ted-talks-task, msivanes/github-issues, mswedrowski/multiwiki_90k, mtfelix/datasetdemo, mtlew/0001_Angry_test, muhtasham/autonlp-data-Doctor_DE, mulcyber/europarl-mono, munggok/mc4-id, mustafa12/db_ee, mustafa12/edaaaas, mustafa12/thors, mvarma/medwiki, mvip/tr_corpora_parliament_processed_non_hatted, nateraw/auto-cats-and-dogs, nateraw/auto-exp-2, nateraw/beans, nateraw/beans_old, nateraw/blahblah, nateraw/bulk-dummy, nateraw/cats-and-dogs, nateraw/cats_vs_dogs, nateraw/dummy-csv-dataset, nateraw/filings-10k, nateraw/food101, nateraw/food101_old, nateraw/huggingpics-data-2, nateraw/huggingpics-data, nateraw/image-folder, nateraw/imagefolder, nateraw/imagenette, nateraw/img-demo, nateraw/rock_paper_scissors, nateraw/sync_food101, nateraw/test, nateraw/wit, nathanlsl/news, naver-clova-conversation/klue-tc-dev-tsv, naver-clova-conversation/klue-tc-tsv, naver-clova-conversation-ul/klue-tc-dev, navjordj/nak_nb, ncats/EpiSet4BinaryClassification, ncats/EpiSet4NER-v1, ncats/GARD_EpiSet4TextClassification, ncduy/github-issues, ncduy/mt-en-vi, ncoop57/athena_data, ncoop57/csnc_human_judgement, ncoop57/rico_captions, neelalex/raft-predictions, newsha/PQuAD, nferruz/UR50_2021_04, nferruz/UR50_2021_04_text, ngdiana/hu_severity, ngdiana/uaspeech, ngdiana/uaspeech_severity, ngdiana/uaspeech_severity_high, ngdiana/uaspeech_severity_low, nickmuchi/fin_dataset, nickmuchi/financial-classification, nickmuchi/trade-the-event-finance, nid989/FNC-1, nielsr/FUNSD_layoutlmv2, nielsr/XFUN, nielsr/funsd, nlpconnect/dpr-nq-reader-v2, nlpconnect/dpr-nq-reader, nlpconnect/ms_marco_subset_v2.1, nlpufg/brwac-pt, nlpufg/brwac, nlpufg/oscar-pt, nlpyeditepe/tr-qnli, nlpyeditepe/tr_rte, nntadotzip/iuQAchatbot, notional/notional-python, nouamanetazi/ar_common_voice_processed, nouamanetazi/ar_opus100_processed, ntagg/data1, nthngdy/bananas, nthngdy/ccnews_split, nthngdy/openwebtext_split, ntutexas/amazon, nucklehead/ht-voice-dataset, nykodmar/cs_corpora_parliament_processed, oelkrise/CRT, openclimatefix/eumetsat_uk_hrv, openclimatefix/gfs, openclimatefix/goes-l2, openclimatefix/goes-mrms, openclimatefix/goes, openclimatefix/hrrr, openclimatefix/nimrod-uk-1km, osanseviero/codeparrot-train, osanseviero/llama_test, osanseviero/test, oscar-corpus/OSCAR-2109, ought/raft-submission, ought/raft, outman/test, papluca/language-identification, pariajm/sharif_emotional_speech_dataset, parivartanayurveda/Malesexproblemsayurvedictreatment, pasinit/scotus, pasinit/xlwic, patrickvonplaten/ami_single_headset_segmented_and_chunked, patrickvonplaten/common_voice_6_tr, patrickvonplaten/common_voice_processed_turkish, patrickvonplaten/helena_coworking, patrickvonplaten/librispeech_asr_dummy, patrickvonplaten/librispeech_local, patrickvonplaten/librispeech_local_dummy, patrickvonplaten/scientific_papers_dummy, patrickvonplaten/sensitive_data_sv, pdesoyres/test, peixian/equity_evaluation_corpus, peixian/rtGender, pelican/test_100, persiannlp/parsinlu_entailment, persiannlp/parsinlu_query_paraphrasing, persiannlp/parsinlu_reading_comprehension, persiannlp/parsinlu_sentiment, persiannlp/parsinlu_translation_en_fa, persiannlp/parsinlu_translation_fa_en, peterbonnesoeur/autonlp-data-test_text_summarization, peterhsu/github-issues, philschmid/prompted-germanquad, philschmid/test_german_squad, phoelti/squad_dev, phongdtd/VinDataVLSP, phongdtd/youtube_casual_audio, phonlab-tcd/cngv1, phonlab-tcd/corpuscrawler-ga, piEsposito/br-quad-2.0, piEsposito/br_quad_20, piEsposito/squad_20_ptbr, pierreant-p/jcvd-or-linkedin, pierreguillou/lener_br_finetuning_language_model, pierreguillou/test_datasetdict, pierresi/cord, pietrolesci/ag_news, pmc/open_access, polinaeterna/dummy_dataset, MLCommons/ml_spoken_words, polinaeterna/test_opus, poperson1205/mrtydi-v1.1-korean-fixed, prajin/ne_corpora_parliament_processed, princeton-nlp/datasets-for-simcse, pritamdeka/cord-19-abstract, pritamdeka/cord-19-fulltext, priya3301/Graduation_admission, priya3301/tes, priya3301/test, proffttega/ILLUMINATI, proffttega/doc, proffttega/join_illuminati_to_become_rich, proffttega/persian_daily_news, project2you/asr, projecte-aina/ancora-ca-ner, projecte-aina/casum, projecte-aina/catalan_general_crawling, projecte-aina/catalan_government_crawling, projecte-aina/catalan_textual_corpus, projecte-aina/parlament_parla, projecte-aina/sts-ca, projecte-aina/teca, projecte-aina/tecla, projecte-aina/vilaquad, projecte-aina/vilasum, projecte-aina/viquiquad, projecte-aina/xquad-ca, psrpsj/stop_words, pstroe/cc100-latin, pulmo/chest_xray, qa4pc/QA4PC, qanastek/ANTILLES, qanastek/ELRC-Medical-V2, qanastek/EMEA-V3, qanastek/WMT-16-PubMed, qfortier/instagram_ny, quarter100/boolq_log, quis/vnexpress-train, qwant/squad_fr, radhakri119/sv_corpora_parliament_processed, ragarwal/args-me-pairs, rahular/itihasa, rajeshradhakrishnan/malayalam_2020_wiki, rajeshradhakrishnan/malayalam_news, rajeshradhakrishnan/malayalam_wiki, ramitsurana/sanskrit, ramybaly/conll2012, ramybaly/nerd, ranim/Algerian-Arabic, ranpox/xfund, rays2pix/example, rays2pix/example_dataset, readerbench/ChatLinks, rewardsignal/reddit_writing_prompts, rgismondi/code-fill-dataset, robz/test, rocca/sims4-faces, ronaldvanos/testdata, rony/soccer-dialogues, rookieguy12/dataset, rosettarandd/rosetta_balcanica, roskoN/dailydialog, roskoN/dstc8-reddit-corpus, rubenwol/multi_news_qasrl, rubrix/cleanlab-label_errors, rubrix/imdb_spacy-ner, rubrix/sentiment-banking, rucyang/sales, rwebe/rwebe, s-myk/test, s3h/arabic-gec, s3h/arabic-grammar-corrections, s3h/custom-qalb-classification, s3h/customized-qalb-v2, s3h/customized-qalb, s3h/gec-arabic, s3h/gec-cleaned, s3h/gec-token-classification, s3h/poc-gec, safik/github-issues-comments, safik/github-issues, sagnikrayc/mctest, sagnikrayc/quasar, sagteam/author_profiling, sajadk/IranianCarLicencePlate, salesken/Paraphrase_category_detection, samarlune/Holy_Coran, samgin/FooReview, samgin/star_tagging, samirt8/fr_corpora_parliament_processed, samjgorman/sample, sammy786/finnish_traindata, sanyu/aw, sanyu/er, sanyu/hh, sanyu/vb, sarulab-speech/bvcc-voicemos2022, sc2qa/sc2q_commoncrawl, sc2qa/sc2q_commoncrawl_large, sc2qa/sc2qa_commoncrawl, sdfufygvjh/fgghuviugviu, seamew/ChnSentiCorp, seamew/Hotel, seamew/THUCNews, seamew/THUCNewsText, seamew/THUCNewsTitle, seamew/Weibo, seanbethard/autonlp-data-summarization_model, sebastiaan/test-cefr, sebastian-hofstaetter/tripclick-training, sentence-transformers/embedding-training-data, sentence-transformers/msmarco-hard-negatives, sentence-transformers/parallel-sentences, sentence-transformers/reddit-title-body, seregadgl/test_set, sevbqewre/vebdesbdty, severo/autonlp-data-sentiment_detection-3c8bcd36, severo/dummy_gated, severo/embellishments, severo/wit, seyia92coding/steam_games_2019.csv, sh110495/klue-nli, sh110495/kor-domain-language, sh110495/kor-namuwiki1, sh110495/kor-namuwiki2, sh110495/kor-namuwiki3, sh110495/kor-namuwiki4, sh110495/kor-namuwiki5, sh110495/kor-namuwiki6, sh110495/kor-wikipedia, sh110495/kor_newspaper1, sh110495/kor_newspaper10, sh110495/kor_newspaper2, sh110495/kor_newspaper3, sh110495/kor_newspaper4, sh110495/kor_newspaper5, sh110495/kor_newspaper6, sh110495/kor_newspaper7, sh110495/kor_newspaper8, sh110495/kor_newspaper9, sh110495/korquad, shahp7575/sia_pile_sample, shahp7575/sia_tp_sample, shahrukhx01/questions-vs-statements, shaina/covid19, shanya/website_metadata_c4_toy, shao/git_data, shao/test, sharejing/BiPaR, sheryylli/utr_total_reads, shivam/hindi_pib_processed, shivam/marathi_pib_processed, shivam/marathi_samanantar_processed, shivam/test-translation-2, shivam/test-translation, shivam/test, shivkumarganesh/CoLA, shivmoha/squad-unanswerable, shivmoha/squad_adversarial_manual, shpotes/ms_coco, shpotes/tfcol, sia-precision-education/pile_cpp, sia-precision-education/pile_js, sia-precision-education/pile_python, sia-precision-education/sia_pile_sample, sijpapi/batch13, sijpapi/funsd, sijpapi/funsds, sil-ai/bloom-lm, silentzone/test, sine/zzz, sismetanin/rureviews, smallv0221/my-test, softcatala/Europarl-catalan, softcatala/Softcatala-Web-Texts-Dataset, softcatala/Tilde-MODEL-Catalan, softcatala/ca_text_corpus, softcatala/catalan-dictionary, softcatala/open-source-english-catalan-corpus, solomonk/reddit_mental_health_posts, spacemanidol/ms_marco_doc2query, spacemanidol/msmarco_passage_ranking, spasis/datasets-github-issues, spasis/github-issues, ssasaa/gghghgh, sshleifer/pseudo_bart_xsum, stas/c4-en-10k, stas/openwebtext-10k, stas/oscar-en-10k, stas/wmt14-en-de-pre-processed, stas/wmt16-en-ro-pre-processed, stevhliu/demo, stiel/skjdhjkasdhasjkd, subiksha/OwnDataset, superb/superb-data, susumu2357/squad_v2_sv, svakulenk0/qrecc, svakulenk0/spoken_kgqa, svalabs/all-nli-german-translation-wmt19, svalabs/ms-marco-german-translation-wmt19, svanhvit/iceErrorCorpus, svanhvit/icelandic-ner-MIM-GOLD-NER, tals/test, tanay/embed, tanfiona/causenet_wiki, tarudesu/UIT-ViCTSD, tasosk/airlines, tau/fs, tau/mrqa, tau/scientific_papers, tau/scrolls, tesemnikov-av/toxic_dataset_classification, tesemnikov-av/toxic_dataset_ner, testOrganization01/test05, teven/all_wikipedia_passages, teven/c4_15M, teven/github_all_lang_filtered, teven/matched_passages_wikidata, teven/mpww, teven/mpww_all_passages, teven/prompted_examples, teven/pseudo_crawl_en_seeds, teven/stackexchange, tharindu/MOLD, tharindu/SOLID, thiemowa/argumentationreviewcorpus, thiemowa/empathyreviewcorpus, thomwolf/codeparrot-train, thomwolf/codeparrot-valid, thomwolf/codeparrot, thomwolf/github-dataset, thomwolf/github-python, thomwolf/very-good-dataset, thomwolf/very-test-dataset-2, thomwolf/very-test-dataset, tianxing1994/temp, toddmorrill/github-issues, toloka/CrowdSpeech, toloka/VoxDIY-RusNews, tommy19970714/common_voice, toriving/kosimcse, toriving/talktalk-sentiment-210713-multi-singleturn-custom-multiturn, tranduyquang2205/vietnamese_dataset, transformersbook/codeparrot-train, transformersbook/codeparrot-valid, transformersbook/codeparrot, trnt/github-issues, ttj/metadata_arxiv, turingbench/TuringBench, uasoyasser/rgfes, ubamba98/ro_cv7_processed, ucberkeley-dlab/measuring-hate-speech, uit-nlp/vietnamese_students_feedback, ujjawal1612/quora, umangchaudhry/demo_data_raw, unicamp-dl/mmarco, unicamp-dl/mrobust, usc-isi/WikiConvert, uva-irlab/canard_quretec, uva-irlab/trec-cast-2019-multi-turn, uyeongjae/load_klue_re_agmented, valurank/hate-multi, valurank/offensive-multi, vanadhi/finlitqa, vannacute/AmazonReviewHelpfulness, vannora/pdata, vannynakamura/leish, vasilis/et_corpora_parliament_processed, vasudevgupta/amazon-ml-hack, vasudevgupta/bigbird-tokenized-natural-questions, vasudevgupta/data, vasudevgupta/fairseq-ljspeech, vasudevgupta/gsoc-librispeech, vasudevgupta/natural-questions-validation, vasudevgupta/prml_data_contest, vasudevgupta/temperature-distribution-2d-plate, vasudevgupta/temperature-distribution-3d-cylinder, iitm-ddp/iiith-indic-speech, vblagoje/lfqa, vblagoje/lfqa_support_docs, vblagoje/wikipedia_snippets_streamed, vctc92/sdsd, vctc92/test, vera-pro/ShadowLink, versae/bibles, versae/modernisa, versae/norwegian-t5-dataset-debug, versae/norwegian-t5-dataset-debug2, versae/norwegian-t5-dataset-debug3, vershasaxena91/datasets, vershasaxena91/squad_multitask, vesteinn/IC3, vesteinn/icelandic-ner-MIM-GOLD-NER, vesteinn/icelandic-qa-NQiI, vidhur2k/multilingual-hate-speech, viktor-enzell/common_voice_sv_test_preprocessed, viktor-enzell/europarl_sv_train_corpora_preprocessed, vincentclaes/mit_indoor_scenes, vishnun/huggingpics-data, vivekverma239/question-generation, vkhangpham/github-issues, vpelloin/MEDIA, vs4vijay/VizDS, vumichien/common_voice_large, vumichien/common_voice_large_jsut_jsss_css10, vumichien/ja_opus100_processed, w-nicole/childes_data, w-nicole/childes_data_no_tags, w-nicole/childes_data_no_tags_, w-nicole/childes_data_with_tags, w-nicole/childes_data_with_tags_, w11wo/imdb-javanese, wanagenst/maslow-six-choices, wanagenst/maslow-stories, wanagenst/plutchik-nine-choices, wanagenst/plutchik-stories, wanagenst/reiss-stories, wanagenst/reiss-twenty-choices, wardenga/lsoie, warwickai/financial_phrasebank_mirror, webek18735/ddvoacantonesed, webek18735/dhikhscook, webimmunization/COVID-19-vaccine-attitude-tweets, webis/args_me, webis/conclugen, webis/ms-marco-anchor-text, weijieliu/senteval_cn, wesamhaddad14/testdata, wicho/stylekqc-style, wifis/ouivirtual, wikilee/ADFA_Mapping, wikimedia/wikipedia, wikimedia/wikisource, winvoker/turkish-sentiment-analysis-dataset, wisdomify/story, wmt/europarl, wmt/news-commentary, wmt/uncorpus, wmt/wikititles, wmt/wmt10, wmt/wmt13, wmt/wmt14, wmt/wmt15, wmt/wmt16, wmt/wmt17, wmt/wmt18, wmt/wmt19, wpicard/nostradamus-propheties, wzkariampuzha/EpiClassifySet, wzkariampuzha/EpiExtract4GARD, wzywzy/telegram_summary, x-tech/cantonese-mandarin-translations, xiaj/ds_test, xiaj/test0919, xiaobendanyn/demo, xiaobendanyn/nyt10, xiaobendanyn/tacred, xkang/github-issues, xuyeliu/notebookCDG, yabramuvdi/wfh-problematic, yannobla/Sunshine, yazdipour/text-to-sparql-kdwd, ydshieh/coco_dataset_script, yerevann/sst2, yharyarias/tirads_tiroides, yhavinga/mc4_nl_cleaned, yluisfern/PBU, yo/devparty, yonesuke/Ising2D, yonesuke/Vicsek, yonesuke/kuramoto, ysharma/rickandmorty, yuanchuan/annotated_reference_strings, yuchenlin/OntoRock, yuvalkirstain/asset, yuvalkirstain/contract_nli-debug, yuvalkirstain/contract_nli_t5, yuvalkirstain/contract_nli_t5_lm, yuvalkirstain/qasper_t5, yuvalkirstain/qasper_t5_lm, yuvalkirstain/qmsum_t5, yuvalkirstain/qmsum_t5_lm, yuvalkirstain/quality, yuvalkirstain/quality_debug, yuvalkirstain/quality_squad, yuvalkirstain/quality_squad_debug, yuvalkirstain/quality_t5, yuvalkirstain/quality_t5_lm, yuvalkirstain/scrolls_t5, yuvalkirstain/squad_full_doc, yuvalkirstain/squad_seq2seq, yuvalkirstain/squad_t5, yuvalkirstain/summ_screen_fd_t5, yuvalkirstain/summ_screen_fd_t5_lm, yxchar/ag-tlm, yxchar/amazon-tlm, yxchar/chemprot-tlm, yxchar/citation_intent-tlm, yxchar/hyp-tlm, yxchar/imdb-tlm, yxchar/rct-20k-tlm, yxchar/sciie-tlm, z-uo/female-LJSpeech-italian, z-uo/male-LJSpeech-italian, z-uo/squad-it, zapsdcn/ag, zapsdcn/amazon, zapsdcn/chemprot, zapsdcn/citation_intent, zapsdcn/hyperpartisan_news, zapsdcn/imdb, zapsdcn/rct-20k, zapsdcn/sciie, zf-org/org_dataset, zfaB4Hmm/test, zhangruihan1/face-recognition-validation, zhangruihan1/face-recognition, zhangruihan1/fr-cfp_fp, zhoujun/hitab, zhufy/xquad_split, zj88zj/PubMed_200k_RCT, zj88zj/SCIERC, zloelias/kinopoisk-reviews-short, zloelias/kinopoisk-reviews, zloelias/lenta-ru-short, zloelias/lenta-ru, zlucia/casehold, zwang199/autonlp-data-traffic_nlp_binary, mvip/tr_corpora_parliament_processed, maydogan/TRSAv1, mohamed-illiyas/wav2vec-malayalam-data, NLPC-UOM/Sinhala-Stopword-list, Emma121/aaaaa, omar-sharif/BAD-Bengali-Aggressive-Text-Dataset, davanstrien/embellishments-sample, vocab-transformers/wiki-en-passages-20210101, loretoparisi/spoken-punctuation, qanastek/ECDC, rubrix/gutenberg_spacy-ner, prk/testsq, Sakonii/nepalitext-language-model-dataset, SuperAI2-Machima/Yord_ThaiQA_LST20, Wittgensteinian/KR3, GEM-submissions/Leo__bart-large__1645784880, GEM-submissions/lewtun__hugging-face-test-t5-base.outputs.json-36bf2a59__1645800191, GEM-submissions/Leo__mbart-large-cc25__1645802644, w11wo/regional_languages_indonesia_similar_words, mariosasko/test_multi_dir_dataset, jonatli/youtube-sponsor, abdusahmbzuai/masc, abdusahmbzuai/masc_dev, Jiejie/asr_book_lm, cloverhxy/DADER-source, benjaminbeilharz/daily_dialog_w_turn_templates, arjundd/meddlr-data, andstor/smart_contracts, alperbayram/HaberTweetlerininDuyguAnaliziVeSiniflandirma, alperbayram/Tweet_Siniflandirma, Niciu/test-squad, stjokerli/TextToText_mnli, leetdavid/market-positivity-bert-tokenized, stjokerli/TextToText_cb, stjokerli/TextToText_rte, SetFit/qqp, stjokerli/TextToText_copa, stjokerli/TextToText_boolq, davanstrien/iiif_labeled, diwank/hinglish-dump, GEM-submissions/lewtun__hugging-face-test-t5-base.outputs.json-36bf2a59__1646049378, GEM-submissions/lewtun__hugging-face-test-t5-base.outputs.json-36bf2a59__1646049424, GEM-submissions/lewtun__hugging-face-test-t5-base.outputs.json-36bf2a59__1646049601, GEM-submissions/lewtun__hugging-face-test-t5-base.outputs.json-36bf2a59__1646049876, GEM-submissions/lewtun__hugging-face-test-t5-base.outputs.json-36bf2a59__1646050898, GEM-submissions/lewtun__hugging-face-test-t5-base.outputs.json-36bf2a59__1646051364, GEM-submissions/lewtun__hugging-face-test-t5-base.outputs.json-36bf2a59__1646052073, SetFit/rte, GEM-submissions/lewtun__this-is-a-test__1646052811, SetFit/mnli, SetFit/mrpc, SetFit/qnli, shibing624/nli_zh, SetFit/wnli, SetFit/mnli_mm, luketheduke/stsb, SetFit/stsb, boudinfl/inspec, davanstrien/crowdsourced-keywords, philschmid/germeval18, davanstrien/iiif_manuscripts_label_ge_50, crystina-z/msmarco-passage, nateraw/punks, csarron/4m-img-caps, imflash217/github-issues, puffy310/yandset, mohamed-illiyas/wav2vec-malayalam-new-data, stjokerli/TextToText_mnli_seqio, stjokerli/TextToText_cb_seqio, stjokerli/TextToText_boolq_seqio, stjokerli/TextToText_rte_seqio, stjokerli/TextToText_copa_seqio, izzy-lazerson/sv_corpora_parliament_processed, shibing624/source_code, leetdavid/celera, polinaeterna/benchmark, polinaeterna/benchmark_dataset, s50227harry/test1, giganticode/java-cmpx, Niciu/github-issues, Niciu/test-cre-dataset-issues, orisuchy/Descriptive_Sentences_He, csarron/25m-img-caps, lbox/lbox_open, wietsedv/stsbenchmark, huggingface-course/documentation-images, giganticode/java-cmpx-v1, GEM-submissions/lewtun__this-is-a-test__1646230987, coastalcph/fairlex, fancyerii/test, ArnavL/finetune_preprocessed_yelp, huggan/anime-faces, GEM-submissions/lewtun__this-is-a-test__1646314818, GEM-submissions/lewtun__this-is-a-test__1646316929, v-card/lol, fuliucansheng/wheat, segments/sidewalk-semantic, davanstrien/testhugit, testst/dsdfasdfsaf, firzens/authors, NLPC-UOM/Sinhala-Tamil-Aligned-Parallel-Corpus, NLPC-UOM/AnanyaSinhalaNERDataset, openclimatefix/gfs-reforecast, nlpaueb/finer-139, GEM-submissions/ratishsp__seqplan__1646397329, GEM-submissions/ratishsp__seqplan__1646397829, Alvenir/alvenir_asr_da_eval, google/xtreme_s, kensho/spgispeech_dummy, anjandash/java-8m-methods-v1, PhilSad/data-guided-scp-gptj-lit, elkarhizketak, ruanchaves/hashset_distant_sampled, ruanchaves/hashset_distant, chiarab/covid-tweet-sentiment, ruanchaves/hashset_manual, ruanchaves/stan_large, ruanchaves/stan_small, ruanchaves/boun, ruanchaves/dev_stanford, ruanchaves/test_stanford, Davis/Swahili-tweet-sentiment, codyburker/yelp_review_sampled, bigscience-catalogue-lm-data/lm_bn_wikisource, OrfeasTsk/TriviaQA, bigscience-catalogue-lm-data/lm_indic-bn_wikisource_filtered, ruanchaves/loyola, AhmedSSoliman/QRCD, mbartolo/synQA, Paulosdeanllons/sedar, ruanchaves/bt11, ruanchaves/nru_hse, ruanchaves/binkley, ruanchaves/jhotdraw, ruanchaves/lynx, ruanchaves/snap, crystina-z/nocs-mrtydi, crystina-z/nocs-mrtydi-corpus, rocca/emojis, Siyam/mydata, w11wo/regional_languages_indonesia_corpus, flxclxc/english-norwegian-bible-set, Carlisle/msmarco-passage-non-abs, Carlisle/msmarco-passage-abs, wypoon/github-issues, gustavecortal/fr_covid_news, teven/hal_tests, Cyberfish/multiwoz2.1, Jiejie/asr_book_lm_v1.1, mateiut1/sv_corpora_parliament_processed, jackwyndham/gloru, flxclxc/en-no-semantic-search-set, m-newhauser/senator-tweets, FinScience/FS-distilroberta-fine-tuned, flxclxc/en_no_with_embeddings, Carlisle/msmacro-passage-non-abs-small, flxclxc/en_no_with_embeddings2, msollami-sf/processed_mnist, Sunghun/1, Sunghun/Example1, Sunghun/Example2, pensieves/mimicause, ayberkuckun/hu_corpora_parliament_processed, chiarab/tweet-text-full, chiarab/tweets-dict, helloway/data-test, FanFan/sentiment-amazon-test, yawnick/QMSum, nielsr/rvl-cdip-demo, z-uo/qasper-squad, lhoestq/test_none_image, jquiros/suicide, Noricum/der_standard_processed, nielsr/rvlcdip-demo, shpotes/bosch-small-traffic-lights-dataset, Huseyin/tummul, Marianina/Example2, Carlosholivan/base, Marianina/sentiment-banking, franz96521/BilletesMexico, crystina-z/no-nonself-mrtydi, jquiros/clean, SocialGrep/the-antiwork-subreddit-dataset, laion/laion2B-en, christianloyal/loyal_clinc_MLE, crystina-z/no-nonself-mrtydi-corpus, laion/laion2B-multi, chiarab/jan-2021-unlabeled-full, chiarab/combined-train, chiarab/may-2020-unlabeled-full, hadehuang/testdataset, Suyogyart/nepali-20-newsgroup, fmplaza/EmoEvent, abdusahmbzuai/adi5, nortizf/risk_multilabel, khcy82dyc/zzzz, ai4bharat/IndicParaphrase, albertvillanova/wikipedia, rubrix/sst2_with_predictions, nthngdy/oscar-mini, laion/laion1B-nolang, ia-bentebib/tweet_eval_sentiment_fr, drAbreu/bc4chemd_ner, fuliucansheng/unitorch-datasets, FanFan/sentiment-amazon-clean, davanstrien/iiif_manuscripts_label_ge_100, christianloyal/loyal_clinc_MLE_unlabeled, damlab/uniprot, agemagician/u50_test, chiarab/vaccine-sentiment-clean, chiarab/vaccine-sentiment-clean-2, juched/spotifinders, ArnavL/TWTEval-Pretraining-Processed, juched/spotifinders-dataset, PaddlePaddle/dureader_robust, Carlisle/msmacro-test-corpus, Carlisle/msmacro-test, Georgii/poetry-genre, joangaes/depression, ai4bharat/IndicHeadlineGeneration, ai4bharat/IndicSentenceSummarization, ai4bharat/IndicWikiBio, ai4bharat/IndicQuestionGeneration, aasd291809733/myself, Mulin/sg-holiday, gustavecortal/diverse_french_news, Azu/Handwritten-Mathematical-Expression-Convert-LaTeX, sasha/pii-oscar-sample, ruanchaves/reddit_china, Biomedical-TeMU/ProfNER_corpus_classification, Biomedical-TeMU/ProfNER_corpus_NER, yjernite/datasets_clusters, McGill-NLP/feedbackQA, Biomedical-TeMU/SPACCC_Sentence-Splitter, Biomedical-TeMU/SPACCC_Tokenizer, Biomedical-TeMU/CodiEsp_corpus, Mulin/weather-data, swcrazyfan/net-web2kjv, lstynerl/M1a1d, Khedesh/ArmanNER, gigant/horse2zebra, Khedesh/PeymaNER, asahi417/qa_wiki_t5_large, GEM-submissions/ratishsp__macro__1646998904, asahi417/qa_wiki_t5_base, asahi417/qa_wiki_t5_small, asahi417/qa_wiki_bart_base, asahi417/qa_wiki_bart_large, Kaveh8/movieimdbrating, Khedesh/ParsTwiNER, rubrix/big_patent_a_test_100, happifyhealth/self_vs_other_focus_semi_supervised, solomonk/reddit, GEM-submissions/v1-outputs-and-scores, GEM-submissions/v2-outputs-and-scores, crystina-z/no-nonself-title-mrtydi-corpus, Zeel/common, microsoft/CLUES, Unso/amazon_reviews_multi_de, Unso/amazon_reviews_multi_es, Unso/amazon_reviews_multi_fr, Unso/amazon_reviews_multi_ja, Unso/amazon_reviews_multi_zh, Unso/catalonia_independence_ca, Unso/catalonia_independence_es, Unso/muchocine_es, Unso/xglue_nc, rakkaalhazimi/hotel-review, jglaser/protein_ligand_contacts, Amba/mt5-small-finetuned-amazon-en-es_books_dataset, Amba/mt5-small-finetuned-amazon-en-es_tokenized_datasets, Mudrock/huggingpics-data, SetFit/catalonia_independence_ca, SetFit/catalonia_independence_es, SetFit/xglue_nc, SetFit/amazon_reviews_multi_de, SetFit/amazon_reviews_multi_es, SetFit/amazon_reviews_multi_ja, SetFit/amazon_reviews_multi_zh, SetFit/amazon_reviews_multi_fr, SetFit/muchocine_es, Unso/myfirstds, multiIR/toy_data, rocca/top-reddit-posts, willcai/wav2vec2_common_voice_accents, chiarab/just-vaccine, gj1997/trial2, carbon12/evaluating_student_writing, chiarab/final-train, Parmann/speech_classification, chiarab/add-10, chiarab/dct-keyword-all, chiarab/vaccine-keyword-all, gj1997/trial3, chiarab/sorted-with-10-lessneu, sosuke/ease-dataset-en.json, chiarab/dct-keyword-us, chiarab/dct-keyword-uk, stjokerli/TextToText_wic_seqio, stjokerli/TextToText_multirc_seqio, stjokerli/TextToText_record_seqio, zhiweitong/wiki_dpr-qg, sosuke/ease-dataset-18-langs.json, stjokerli/TextToText_wsc_seqio, stjokerli/TextToText_axg_seqio, stjokerli/TextToText_axb_seqio, Amba/bert-finetuned-ner_raw_datasets, Amba/bert-finetuned-ner_tokenized_datasets, raphaelmerx/lfqa-id, weizhey/asap_review, lewtun/top_quark_tagging, chiarab/canada, chiarab/dct-keyword-canada, chiarab/uk, chiarab/us, wanyu/IteraTeR_full_sent, chiarab/vax-keyword-canada, chiarab/vax-keyword-uk, chiarab/vax-keyword-us, Evan/spaCy-github-issues, wanyu/IteraTeR_full_doc, wanyu/IteraTeR_human_sent, wanyu/IteraTeR_human_doc, benjaminbeilharz/ed-for-lm, joypersicanon/ph-en-text, reatiny/chinese-spam-10000, alkzzz/palui, GEM-submissions/lewtun__this-is-a-test__1647246406, GEM-submissions/lewtun__mt5_xl__1647246454, ianomunga/MIAS, GEM-submissions/lewtun__this-is-a-test__1647247409, drAbreu/BLURB, Jiejie/asr_book_lm_v2.0, GEM-submissions/lewtun__this-is-a-test__1647256250, wikitablequestions, gimmaru/github-issues, openclimatefix/uk_pv, GEM-submissions/lewtun__this-is-a-test__1647263213, marsyas/gtzan, happifyhealth/senses_semi_supervised, GEM/xwikis_sum, lvwerra/my_test, lvwerra/my_test_2, Jiejie/asr_book_lm_v2.1, EALeon16/poems, oscar-corpus/OSCAR-2201, PradeepReddyThathireddy/Inspiring_Content_Detection_Dataset, conll2012_ontonotesv5, anjandash/java-8m-methods-v2, victor/autonlp-data-tweet-sentiment, agemagician/uniref50, hazal/Turkish-Biomedical-corpus-trM, cgarciae/cartoonset, rubrix/go_emotions_training, Jiejie/asr_book_lm_v2.3, CLUTRR/v1, malteos/paperswithcode-aspects, tdklab/Hebrew_Squad_v1, kSaluja/tokens_data, Dayyan/bwns, Hiruni99/eng-sin-laws-and-acts, jeffboudier/testing, rubrix/research_titles_multi-label, rubrix/go_emotions_multi-label, elricwan/roberta-data, willcai/wav2vec2_common_voice_accents_3, Tristan/data-measurements-cache, gcaillaut/enwiki_el, crabz/stsb-sk, mfleck/german_extracted_text, ebrigham/agnewsadapted, yangdong/ecqa, davanstrien/newspaper_navigator_people, voidful/NMSQA, shpotes/SJTU, shpotes/ImVisible, LongNN/news_sum, tomekkorbak/test, tomekkorbak/pile-curse-small, jorge-henao/disco_poetry_spanish, Aclairs/ALBERTFINALYEAR, MatanBenChorin/temp, shivam/split-test, rubrix/research_papers_multi-label, wietsedv/udpos28, anthonny/hate_speech, nikit91/qald9, Cooool/kaggle, Cooool/nlp, Wang123/codeparrot-train, Wang123/codeparrot-valid, tomekkorbak/pile-curse-full_test, DrishtiSharma/MESD-Processed-Dataset, abidlabs/crowdsourced-test3, abidlabs/crowdsourced-test4, abidlabs/crowdsourced-test5, shivam/split, mrm8488/test2, mercerchen/fakenews-jsonl, Mionozmi/Ddy, franz96521/scientific_papers, Paulosdeanllons/ODS_BOE, MickyMike/cve_fixes, malteos/test-ds, malteos/test2, malteos/aspect-paper-embeddings, Guscerra/whatever, elena-soare/crawled-ecommerce, abdusahmbzuai/arabic_speech_massive, cfilt/iwn_wordlists, Heriot-WattUniversity/lewis-test, arun007/mydata, tomekkorbak/pile-debug, malteos/aspect-paper-metadata, hackathon-pln-es/parallel-sentences, fofiu/test-dataset, indonesian-nlp/eli5_id, tomekkorbak/pile-curse-chunk-1, tomekkorbak/pile-curse-chunk-0, tomekkorbak/pile-curse-chunk-3, tomekkorbak/pile-curse-chunk-2, tomekkorbak/pile-curse-chunk-5, tomekkorbak/pile-curse-chunk-6, tomekkorbak/pile-curse-chunk-4, tomekkorbak/pile-curse-chunk-16, tomekkorbak/pile-curse-chunk-15, tomekkorbak/pile-curse-chunk-14, tomekkorbak/pile-curse-chunk-13, tomekkorbak/pile-curse-chunk-8, tomekkorbak/pile-curse-chunk-9, tomekkorbak/pile-curse-chunk-20, tomekkorbak/pile-curse-chunk-7, tomekkorbak/pile-curse-chunk-24, tomekkorbak/pile-curse-chunk-18, tomekkorbak/pile-curse-chunk-17, tomekkorbak/pile-curse-chunk-21, tomekkorbak/pile-curse-chunk-22, tomekkorbak/pile-curse-chunk-10, tomekkorbak/pile-curse-chunk-26, tomekkorbak/pile-curse-chunk-11, tomekkorbak/pile-curse-chunk-27, tomekkorbak/pile-curse-chunk-12, tomekkorbak/pile-curse-chunk-25, tomekkorbak/pile-curse-chunk-19, tomekkorbak/pile-curse-chunk-29, tomekkorbak/pile-curse-chunk-23, tomekkorbak/pile-curse-chunk-28, tomekkorbak/pile-curse-full, scjnugacj/scjn_dataset_ner, kingabzpro/savtadepth-flags-V2, yhavinga/ccmatrix, JennyGub/PrivTest, indonesian-nlp/lfqa_id, artemis13fowl/sst-3, IIC/spanish_biomedical_crawled_corpus, scjnugacj/scjn_dataset_corpus_tesis, hackathon-pln-es/MESD, MatanBenChorin/our_dataset, vinaykudari/acled-token-summary, IIC/lfqa_spanish, TomTBT/pmc_open_access_xml, Heriot-WattUniversity/CANDOR-corpus, Heriot-WattUniversity/bAbi-Plus, Heriot-WattUniversity/switchboard, Heriot-WattUniversity/Groningen-Meaning-Bank, enimai/must_c_french, voidful/asr_glue_train, dannyvas23/textosuicidios, abidlabs/Urdu-ASR-flags, abidlabs/Urdu-ASR-flags2, kingabzpro/Urdu-ASR-flags2, dannyvas23/notas_suicidios, Splend1dchan/phone-mnli, nathanaelc/commonvoice8, hazal/electronic-radiology-phd-thesis-trR, jacobbieker/hyperion-clouds, rubrix/frases_muchocine, monash_tsf, aomar85/softwaresecuirty, kingabzpro/Urdu-ASR-flags, nickmuchi/carla-selfdriving, xiongshunjie/ProDataset, polinaeterna/test_audiofolder, eleldar/github-issues, Cheltone/MyTwitter, nielsr/CelebA-faces, Dabs/bioasq, blo05/cleaned_wiki_en, CohleM/sample, fangyuan/lfqa_discourse, rubrix/frases_muchocine_NER, EALeon16/autonlp-data-pruebapoems, afrodp95/MEDDOPROF, hackathon-pln-es/comentarios_depresivos, hackathon-pln-es/poems-es, rubrix/muchocine_ner, rubrix/pococine_textcat, IIC/bioasq22_es, rubrix/muchocine_aspects, happifyhealth/S_Item_semi_supervised, josearangos/spanish-calls-corpus-Home, josearangos/spanish-calls-corpus-Caribbean, Suyogyart/nepali-16-newsgroups, josearangos/spanish-calls-corpus-Friends, bigscience-biomedical/biosses, aomar85/SE-Quora_NER, nedroden/nlcity, rubrix/muchocine_aspectos, archmagos/HourAI-data, emrecan/nli_tr_for_simcse, d0r1h/Real_vs_Fake, Carlos89apc/TraductorES_Kichwa, sayalaruano/FakeNewsCorpusSpanish, sayalaruano/FakeNewsSpanish_Kaggle1, sayalaruano/FakeNewsSpanish_Kaggle2, openclimatefix/mrms, mariosasko/dummy_pandas, erikacardenas300/Zillow-Text-Listings, jullarson/sdd, finiteautomata/legal-ner, raulminan/depresion-twitter-es, rahulkuruvilla/CovidTravelQA, nreimers/trec-covid, Mnauel/MESD, IsaacRodgz/Fake-news-latam-omdena, sichenzhong/squad_v2_back_trans_aug, asvs/tqa, sumedh/MeQSum, victorzhou/vvvic, sh110495/IndustryClassification, nthngdy/oscar-small, huggan/CelebA-faces, 10zinten/op_classical_corpus_bo, CohleM/CohleM, CohleM/Classification, grabbysingh/funsd, nreimers/trec-covid-generated-queries, peerapongch/aion-3-20220323, tau/multi_news, sosuke/ease-dataset-test.json, GEM-submissions/lewtun__this-is-a-test-name__1648048960, Rakesharma21/transliterate-eng-hi, huggan/edges2shoes, huggan/facades, albertvillanova/zip_zip, polinaeterna/test_encode_example, huggan/night2day, huggan/maps, huggan/cityscapes, huggan/ae_photos, DrishtiSharma/test, RUC-DataLab/ER-dataset, doctorlan/bert-amz-c, crystina-z/msmarco-passage-dl19, crystina-z/msmarco-passage-dl20, tiennvcs/your_dataset_name, tartuNLP/liv4ever, sentence-transformers/NQ-retrieval, GEM-submissions/lewtun__this-is-a-test-name__1648111972, M-Quan/sv_corpora_parliament_processed, huggan/CelebA-HQ, Jira/mao, huggan/cartoon-faces, huggan/cats, Gare/Classical_Chinese_to_Modern_Chinese, Vipitis/Shadertoys-bimodal, ebrigham/NOS-news, GEM-submissions/lewtun__this-is-a-test-name__1648137608, wesamhaddad14/spanishNLP, Openmindedness/mc_chat_scraped_from_toxigon_anarchy, huggan/AFHQ, DrishtiSharma/MESD-Processed-Dataset-v2, beyond/20NG, Yaxin/amazon_reviews_multi, huggan/AFHQv2, dfki-nlp/scidtb, huggan/metfaces, pietrolesci/nli_fever, pietrolesci/conj_nli, AhmedSSoliman/CoNaLa-Dataset, Fatima-Gh/GLARE, sosuke/dataset_for_ease, Sakonii/16NepaliNews, GEM-submissions/lewtun__this-is-a-test-name__1648220072, roman_urdu_hate_speech, JuanJoseMV/CIE10-classifier-Test_Dataset, facebook/winoground, nndhung/garlic, avacaondata/lfqa_squad, Splend1dchan/NMSQA_w2v2-st-ft, Gare/github-issues, benjamin/ner-uk, laion/laion2B-en-safety, laion/laion2B-multi-safety, laion/laion1B-nolang-safety, laion/laion5B-index, Marmoot/Fake_News_jpposadas, Marmoot/Kaggle_1, Georgii/russianPoetry, MorVentura/TRBLLmaker, medardodt/ESsnli, jglaser/pdbbind_complexes, ashishpapanai/inverted_vs_normal, Jiangjie/ekar_chinese, Jiangjie/ekar_english, atenglens/taiwanese_english_translation, nadhifikbarw/id_ohsuhmed, tomekkorbak/pile-toxic-chunk-0, UrukHan/wav2vec2-russian, T-202/github-issues, TzRain/AMPs, smilegate-ai/kor_unsmile, UrukHan/t5-russian-spell_I, UrukHan/t5-russian-spell_II, UrukHan/t5-russian-spell_III, stjokerli/TextToText_DocNLI_seqio, laion/conceptual-captions-12m-webdataset, leonadase/fdRE, IIC/spanish_biomedical_crawled_corpus_splitted, mrm8488/AnswerSum, IIC/ms_marco_es, stjokerli/TextToText_squad_seqio, sac3tf/roman_urdu, yawnick/QMSum-Summaries, adv_glue, sichenzhong/squad_v2_synonym_aug, aaditya/medmcqa, carolina-c4ai/corpus-carolina, wrapper228/arxiv_data_extended, nobodylll/test_huggingface_dataset, laion/laion-synthetic-115m, gorkaartola/github-issues, IIC/msmarco_es, laion/laion2B-en-watermark, laion/water-vit-webdataset, Splend1dchan/NMSQA_w2v2-st-ft2, Pavithra/sampled-code-parrot-ds-train, Pavithra/sampled-code-parrot-ds-valid, M-Quan/sv_corpora_parliament_processe, hackathon-pln-es/Dataset-Acoso-Twitter-Es, Sampson2022/demo, abdusahmbzuai/arabic_speech_massive_sm, huggan/horse2zebra, tskolm/youtube_top_popular_videos_comments, huggan/monet2photo, huggan/cezanne2photo, huggan/ukiyoe2photo, huggan/vangogh2photo, huggan/apple2orange, huggan/iphone2dslr_flower, huggan/summer2winter_yosemite, huggan/grumpifycat, malay-huggingface/jelapang-padi, boris/gis_filtered, hackathon-pln-es/Fake_news_train, rzhang123/UScourt, crisdev/codigocomentario, marksverdhei/clickbait_title_classification, laion/laion2B-en-joined, laion/laion2B-multi-joined, laion/laion1B-nolang-joined, liza-alx/tokenized_data_yahoo, liza-alx/tokenized_data, laion/laion2B-multi-watermark, laion/laion1B-nolang-watermark, hackathon-pln-es/nli-es, sichenzhong/squad_v2_word2vec_aug, vumichien/pitch_japanese_data, Cptburgos/aircraft_reports, andreamorgar/spanish_poetry, blo05/cleaned_wiki_en_0-20, javilonso/mex_data, Splend1dchan/phone-squad, artemis13fowl/imdb, blo05/cleaned_wiki_en_20-40, ntt123/infore, omerm/test_dataset, MLCommons/peoples_speech, hackathon-pln-es/Axolotl-Spanish-Nahuatl, lislia/GDPR, MF-Rocket/MFRPC, mariosasko/rvl_cdip, sichenzhong/squad_v2_context_aug, sichenzhong/squad_v2_back_trans_synonym_aug, copenlu/sufficient_facts, simonchristensen1/GDPR, hackathon-pln-es/disco_spanish_poetry, nateraw/test-imagefolder-dataset, oscarfossey/NLP_Pole_emploi, su/jingdong, Atnafu/Parallel_dataset_for_Ethiopian_languages, DioLiu/Test1, DioLiu/Test2, NbAiLab/nb_bert, tomekkorbak/pile-nontoxic-chunk-0, r1ck/Corpus-Embedd, Splend1dchan/phone-squad-parquet, benwoodyear/guardian_crosswords, LeoFeng/MLHW_6, tomekkorbak/pile-toxicity-balanced, huggan/CelebA-faces-with-attributes, rubrix/news, rubrix/news_test, rubrix/test_datasetdict, johnowhitaker/glid3_orbs, arjundd/dosma-data, hackathon-pln-es/neutral-es, happifyhealth/A_Goal_semi_supervised, NbAiLab/nb_bert_debiased, sichenzhong/squad_v2_back_trans_possib_aug, sichenzhong/squad_v2_back_trans_synonym_possib_aug, Ericblancosf/subtechnique, malay-huggingface/lane-detection, tan9/bioasq, HosseinGT/wider_face_background, tan9/pubmedQA, sfdkiaei/EAS, jimregan/psst, mariosasko/CelebA-faces-with-attributes, huggan/few-shot-obama, huggan/few-shot-grumpy-cat, huggan/few-shot-panda, huggan/few-shot-cat, huggan/few-shot-dog, huggan/few-shot-anime-face, huggan/pokemon, blo05/cleaned_wiki_en_40-60, huggan/few-shot-art-painting, huggan/few-shot-fauvism-still-life, huggan/few-shot-flat-colored-patterns, huggan/few-shot-moongate, huggan/few-shot-pokemon, huggan/few-shot-shells, huggan/few-shot-skulls, hackathon-pln-es/es_tweets_laboral, lislia/gdpr_train, metashift, jamescalam/stoic-corpus, PaulLerner/viquae_passages, nntadotzips/vietjack_geography_original_labeled_train_test, jglaser/pdb_protein_ligand_complexes, hackathon-pln-es/biomed_squad_es_v2, MalakhovIlya/RuNNE, DMetaSoul/chinese-semantic-textual-similarity, AykeeSalazar/violation-classification, copenlu/fever_gold_evidence, UrukHan/t5-russian-summarization, marksverdhei/wordnet-definitions-en-2021, hackathon-pln-es/spanish-poetry-dataset, hackathon-pln-es/spanish-to-quechua, aymen31/PlantVillage, abdulhady/ckb, blo05/cleaned_wiki_en_60-80, johnowhitaker/colorbs, fmmolina/eHealth-KD-Adaptation, Pavithra/sampled-code-parrot-train-100k, Pavithra/sampled-code-parrot-valid-100k, hackathon-pln-es/readability-es-caes, hackathon-pln-es/unam_tesis, hackathon-pln-es/scientific_papers_en, miracFence/scientific_papers_es, miracFence/scientific_papers_en_es, hackathon-pln-es/scientific_papers_es, hackathon-pln-es/scientific_papers_en_es, hackathon-pln-es/ITAMA-DataSet, ManRo/Sexism_Twitter_MeTwo, pragnakalp/squad_v2_french_translated, blo05/cleaned_wiki_en_80-100, ikekobby/40-percent-cleaned-preprocessed-fake-real-news, arch-raven/music-fingerprint-dataset, hackathon-pln-es/readability-es-hackathon-pln-public, huggan/inat_butterflies, elena-soare/datasaur_text2sql, huggingartists/olga-buzova, Nart/abkhaz_text, lislia/clean_policyQA_train, huggan/inat_butterflies_top10k, Danastos/nq_el_custom, Danastos/newsqa_el_custom, damlab/human_hiv_ppi, Danastos/triviaqa_el_custom, nielsr/eurosat-demo, huggan/flowers-102-categories, met/mm, huggan/smithsonian-butterfly-lowres, met/Meti_ICT, SocialGrep/the-reddit-dataset-dataset, happifyhealth/G_Activity_semi_supervised, aaraki/github-issues, DioLiu/Test3, rafay/upside_down_detection_cifar100, jet-universe/jetclass, PolyAI/minds14, aaraki/github-issues2, ramnika003/autotrain-data-sentiment_analysis_project, met/AMH_MET, met/Meti_try, met/Met, Jeneral/fer2013, duskvirkus/dafonts-free, Chris1/sim2real_gta5_to_cityscapes, javilonso/mex_data_augmented, galv/peoples-speech, happifyhealth/E_Perspective_semi_supervised, julien-c/impressionists, Pavithra/sampled-code-parrot-ds-train-100, aayush9753/InterIIT-Bosch-MidPrep-AgeGenderClassificationInCCTV, gigant/wikiart-test, SocialGrep/the-reddit-place-dataset, Junior/data, Cheltone/augmented_50k, dnes1983/train.csv, dnes1983/train, Jianxin1111/juicycollection, aaraki/github-issues3, ChainYo/rvl-cdip, theproductboxes/packagingboxes, dalton72/turk-data-tw, israel/Amharic-News-Text-classification-Dataset, lulul/liludataset, huggan/wikiart, nealmgkr/tminer_hs, dalton72/twitter-sent, albertvillanova/mtet, Mateo/isic, truongpdd/KDD22task2, tyfann/csgsql, StanBienaives/french-open-fiscal-texts, JeunesseAfricaine/sheng_nlu, dalton72/twitter-data-set-tr, Pavithra/sampled-code-parrot-ds-valid-100, Jeneral/fer-2013, ChainYo/rvl-cdip-questionnaire, ChainYo/rvl-cdip-invoice, ukr-models/Ukr-Synth, Cheltone/AugSent, openclimatefix/era5, happifyhealth/robinson_emotions_semi_supervised, ucl-snlp-group-11/guardian_crosswords, truongpdd/KDD22task2Full, bible-nlp/biblenlp-corpus, gary109/MIR_ST500, DINDAKHRNNNSA/VCLAS_M6, frascuchon/news_test, aaraki/github-issues1, MalakhovIlya/NEREL, mteb/reddit-clustering, yuxiangwang/flat_relation, NLPC-UOM/Sinhala-News-Category-classification, NLPC-UOM/Sinhala-News-Source-classification, Splend1dchan/NMSQA_wav2vev2-lv-60-espeak-cv-ft_phone, lino23/wav2vec2-corpus2-es, Danastos/squad_el_custom, tomekkorbak/pile-toxicity-balanced2, mteb/stackexchange-clustering, mteb/twentynewsgroups-clustering, skt/kobest_v1, AlekseyKorshuk/fluf-world-scenes-and-sounds, LeoFeng/Text_classification, abhishek-shrm/github-issues, kniemiec/crack-segm, AlekseyKorshuk/dooggies, johnnydevriese/airplanes, finiteautomata/sa-es, i-am-neo/ami_shard_0of8_phrases, i-am-neo/ami_shard_0of8_phrases_experiment, yzhou992/tokenize_wikitext103, Gautam9595/Squad_Translated, nateraw/quickdraw-sample, aaraki/github-issues5, deepakvk/squad2_valdn, AlekseyKorshuk/cryptopunks, ChainYo/cats_vs_dogs, deepakvk/squad2_valdn_paraphrased, openclimatefix/swedish-rainfall-radar, GEM-submissions/ratishsp__ent__1649421332, GEM-submissions/ratishsp__ncp_cc__1649422112, GEM-submissions/ratishsp__ent__1649422569, GEM-submissions/ratishsp__ncp_cc__1649422863, Gautam9595/Squad_dataset2, davanstrien/v4design_test, davanstrien/v4design_csv_only, juancopi81/github-issues, bergoliveira/pl-corpus, lm233/humor_train, McGill-NLP/TopiOCQA, alperiox/user-opinion-classification-hf-kili, nateraw/quickdraw, Danastos/qacombination_el_custom, ceyda/smithsonian_butterflies, eliwill/First_and_Last_Freedom, ceyda/smithsonian_butterflies_transparent, gdwangh/kaggle-nlp-getting-start, eliwill/Krishnamurti, Chris1/bored_apes_yacht_club, student/celebA, eliwill/Lincoln, student/MNIST, huggan/chebakia, krinal214/tydiqa_ben_tel, Guldeniz/flower_dataset, Guldeniz/trimaps_dataset, huggingnft/dooggies, krinal214/squad_ben_tel_que_only, krinal214/squad_ben_tel_context, Chris1/cryptopunks_HQ, huggingnft/cryptoadz-by-gremplin, huggingnft/cyberkongz, huggingnft/mini-mutants, huggingnft/theshiboshis, huggingnft/cryptopunks, huggingnft/nftrex, huggingnft/etherbears, huggingnft/alpacadabraz, huggingnft/trippytoadznft, huggingnft/boredapeyachtclub, Chris1/NFT_cryptopunks_to_bored_apes_HQ, MalakhovIlya/RuREBus, LQQ/github-issues, Chris1/bored_apes_yacht_club_HQ, danieleV9H/audio_snips, jet-universe/top_quark_tagging, krinal214/squad_que_partial, dl4phys/top_quark_tagging, Nabby/my_dataset, nsusemiehl/SciERC, arjundd/skm-tea-mini, aomar85/WikidataDS, Conrad747/Lg-En-Profession-Parallel-Corpus, DrishtiSharma/Anime-Face-Dataset, mattgmcadams/AirDrums, crystina-z/quora, crystina-z/quora-corpus, surdan/nerel_short, enimai/MuST-C-de, yogi/amazon, huggingface/semantic-segmentation-test-sample, westphal-jan/mnli_matched, csebuetnlp/squad_bn, openclimatefix/prepared-batches, lewtun/autoevaluate__emotion, AntoineLB/Frozen-lake-dataset, paul21/nq_dataset, Diva/AutomatedBlogSpot, arampacha/rsicd, Hasanmurad/github-issues, UrukHan/wav2vec2-ru-I, davanstrien/brill_one_label, dhirajprai/funsd, happifyhealth/test-dataset, theojolliffe/github-issues, theojolliffe/welsh-trans-1, vendrick17/dark_fantasy, irenelizihui/Surfer100, Soulaimen/cerebra, raquiba/Sarcasm_News_Headline, dandelin/imagenet, nntadotzip/iuQAchatbot_ver12April2022, Splend1dchan/NMSQA_wav2vec2-large-960h-lv60-self, taln-ls2n/inspec, yarongef/human_proteome_singlets, Matthijs/snacks, mwong/fever-related, yuanjie/demo, arakesh/test9920, gsm8k, HFFErica/steamreviews, sbu_captions, yarongef/human_proteome_doublets, yarongef/human_proteome_triplets, mwong/climate-fever-related, Pavithree/eli5, Splend1dchan/NMSQA_wav2vec2-large-10min-lv60-self, enimai/MuST-C-and-WMT16-de-en, Matthijs/snacks-detection, arakesh/PennFudanPedestrian-1024x512, arakesh/deepglobe-2448x2448, pietrolesci/dnli, csteinmetz1/test-dataset, arakesh/uavid-15-hq-mixedres, mteb/quora-retrieval, bshaekos/Pasadena-Wind_Tunnel-ArtCenter_College_of_Design, mteb/cqadupstack-retrieval, pietrolesci/robust_nli, peteroli/github-issues, openenvironments/blockgroupvoting, hitomi-team/data-discord-toxicity, huggan/few-shot-universe, Soulaimen/layout, huggan/few-shot-aurora, Splend1dchan/slue-text, StinginAI/TestDataset, Sampson2022/test, HannahRoseKirk/HatemojiCheck, lwdragon/tets, segments-bert/readme-check, ckdkambh/testDataSet, HannahRoseKirk/HatemojiBuild, ghomasHudson/hotpotExtendedAno, krinal214/tydiqa_Translated, huggan/smithsonian_butterflies_subset, krinal214/tydiqa_Translated_v2, javilonso/mex_data_title_with_opinion, UrukHan/wav2vec2-ru-II, SetFit/amazon_reviews_multi_en, vinaykudari/acled-information-extraction, Chris1/dooggies__2__nftrex, dnhan/iwslt2015-en-vi, enimai/MuST-C-it, sh110495/lg-summarization, bullmount/squad_it, jordane95/msmarco-passage-query, ceyda/smithsonian_butterflies_transparent_cropped, Aanisha/NeonGAN_dataset, taln-ls2n/kp20k, Srini99/TamilQA, Chris1/alpacadabraz__2__boredapeyachtclub, huggingnft/hapeprime, truongpdd/task2Train, conceptual_captions, truongpdd/task2Test, Yaxin/codeSwitch, huggingnft/cryptoskulls, jason9693/APEACH, UrukHan/wav2vec2-ru-III, jason9693/autotrain-data-kor_hate_eval, daniel-dona/tfg-voice-1\n"
          ]
        }
      ]
    },
    {
      "cell_type": "code",
      "metadata": {
        "id": "2s0h541FxIgc",
        "colab": {
          "base_uri": "https://localhost:8080/",
          "height": 249,
          "referenced_widgets": [
            "d87ff0ee9ca34b2381de875ca380f011",
            "c5a73d0fb9084aca81251f2b572da380",
            "bee53c3a4f9745728f3fc338a4fbeded",
            "f4f73a7826bc4ebaaec0baf66810e43f",
            "b4121fadd0bd426d8da19d4b25c946b9",
            "f699f4d3381948d6837cbb68005d2e79",
            "7a7f97527c4f4b4099f397c8bf43c05d",
            "535052e547c84f28bad0a7a92a7ee938",
            "4034be0554b24436b40d370a2f4fe8a8",
            "748f2cee98da45c3b1e4744a3f3c20f5",
            "864b3e070dd04d779a7b963772551d50",
            "b82e45adfd384c90b14d3bb896630e5b",
            "4fe521e9c1e44020a4ab37a79987e2fb",
            "b25ff28aa7164733b60fe9e45a8d8ed8",
            "91f817bc01294298aa6c4b8b0cef5216",
            "b28f96de047540a099ad7d2b38ccbc39",
            "1d0c8ce38d55464593178cdf4ab5e9e1",
            "b82450aa56204d02ab850bf0fdfe951e",
            "c781d66262114d29b87399f029bdc820",
            "bce8c2df32ce453c9059d8fa4ceb8aab",
            "9b9c62db7084435681fba725b416a514",
            "c634e1ed22d046429e0c1d1ed1d2282b",
            "8ef77be62f5144b79be8f16b067bc88e",
            "f7309547ab324fc893ec5843d41d643a",
            "bbac28bf73144b7d9754e4d058b4c01b",
            "a6e8b53f99ae4c81be976ec7ea986329",
            "165da1472e2e4c0e860b2e59e7cc7850",
            "1d65fa47d7554b1f8d1ccb4649ff7705",
            "ec4330c6a880486589797092041ca57a",
            "2fb669f710c443809c812b149bed0a04",
            "ae425009a63047349bdb7c905491320b",
            "3999195d3b9546689d30308d84ccc751",
            "dd35700b40d84649b9dad753daafbb2d",
            "cdd2bf9f65004dc8a02b18ee26c04b66",
            "d8e969a631ce4b1584a40e9fe6e42ab7",
            "b35e9560457b4f67bd737b43c3083a43",
            "44d4e07880dd44c096ed384180540fd2",
            "57f07f2571094042832db7735ff444af",
            "b81759ba0ea2437eb54384c412afb0cc",
            "b0a7b80688c845ba938f4d4627d0dc2b",
            "50c2e6c545fd45dbb935f0809eba81bc",
            "8bcb9e3d953c4b0187e242a5357d74e6",
            "81f9cf369b2a4a3998969d7aa5b5ed41",
            "27836a4030d54e2ea3368846b8be5fcc",
            "75d952166fb645afbd1c0e3e3c582809",
            "197f29309dc4484c9f5524e05eb4228f",
            "5787815e5d574bd9879800e1eab621c1",
            "9e5d9a6f458c44048534c5219f5be7ed",
            "af2b786bb8f245e496e739b0ed135e3b",
            "b569a370d8744f4a9dac82527c59b84e",
            "2bc0c2b6bcf14f89ba1bbcd69467fc39",
            "b186441a3665464c98e442c52a8f7dcb",
            "6fc06d8dd9aa4a0897fc12c8924207b8",
            "4cde03b7a1aa4754a16f31fd7afa3363",
            "2b7f77d053f14cca975c85c5a3862b1b",
            "a07a232c677a4ef0b024faa2a823c418",
            "61bc35955fb441dfabec9819394fc649",
            "4739127d71a74695b52915decc37dc10",
            "accacb6089534e28ad6c45b34183df71",
            "72a34803b4134b71bd6cd49c1a2ee185",
            "55238d8f390c4784a2c024a2d623cd6f",
            "2af44b4447e84091af490e212193d881",
            "c50263a6309e4506880ad8fd39311fa5",
            "5d8d9e7496f7455bbba1ba63221d8d98",
            "8fb321cc74284fdf93ef46561aeb6bce",
            "cc6caaccfc9c4b629897e15316275522",
            "b1ba98211a7844e391c347723bdd5d5d",
            "04b76ebff0e2492abf6e6bbfa3c4f460",
            "123fee7485cc4987a1f2ff8b592cb506",
            "4824e12a667d4587a8378c23db776276",
            "f89d2ccfce7240138ac1700876f87a69",
            "3bc63060b6e94a508c3f3b7c46bfd2d6",
            "047db1f7be39430483f077d901a8cf75",
            "376bdb02b47744dfa6c5daa72aaa84d2",
            "6d1056809eb34c8a9ab9f8521849363a",
            "52024e2af43141f19d22b9003700154f",
            "dc58e0855cef4878bcb98c245bcb7725",
            "be6cde71e6ee4fccad857e9590a7a0ad",
            "1dfe2d512a99429f979124e7c5ca6e53",
            "24ef14fb58f5441fbb1977cbee41a9c0",
            "3617a0a1761240aab8916952b60ea2b0",
            "58af8f81a1e6480a802f1fee28254ee8",
            "d2ec4fe291f34289bb96415ba215d0cc",
            "9e44ab2dfc1c4bdeb4a9098ac729c8b8",
            "4503aa81347d4001a6ee53c539f34f20",
            "4d6968da454846a8aa4f5a1351830a45",
            "df1796c43ca34dc5aa431bbec0bdd6b6",
            "1cb16b2be3e0404b959f80c86e7d0cf8"
          ]
        },
        "outputId": "d1fa43d3-2ee9-43cc-8e31-b7b19d20a815"
      },
      "source": [
        "dataset=nlp.load_dataset('emotion')"
      ],
      "execution_count": 5,
      "outputs": [
        {
          "output_type": "display_data",
          "data": {
            "text/plain": [
              "Downloading:   0%|          | 0.00/3.41k [00:00<?, ?B/s]"
            ],
            "application/vnd.jupyter.widget-view+json": {
              "version_major": 2,
              "version_minor": 0,
              "model_id": "d87ff0ee9ca34b2381de875ca380f011"
            }
          },
          "metadata": {}
        },
        {
          "output_type": "display_data",
          "data": {
            "text/plain": [
              "Downloading:   0%|          | 0.00/6.01k [00:00<?, ?B/s]"
            ],
            "application/vnd.jupyter.widget-view+json": {
              "version_major": 2,
              "version_minor": 0,
              "model_id": "b82e45adfd384c90b14d3bb896630e5b"
            }
          },
          "metadata": {}
        },
        {
          "output_type": "stream",
          "name": "stderr",
          "text": [
            "Using custom data configuration default\n"
          ]
        },
        {
          "output_type": "stream",
          "name": "stdout",
          "text": [
            "Downloading and preparing dataset emotion/default (download: 1.97 MiB, generated: 2.09 MiB, post-processed: Unknown sizetotal: 4.06 MiB) to /root/.cache/huggingface/datasets/emotion/default/0.0.0/84e07cd366f4451464584cdbd4958f512bcaddb1e921341e07298ce8a9ce42f4...\n"
          ]
        },
        {
          "output_type": "display_data",
          "data": {
            "text/plain": [
              "Downloading:   0%|          | 0.00/1.66M [00:00<?, ?B/s]"
            ],
            "application/vnd.jupyter.widget-view+json": {
              "version_major": 2,
              "version_minor": 0,
              "model_id": "8ef77be62f5144b79be8f16b067bc88e"
            }
          },
          "metadata": {}
        },
        {
          "output_type": "display_data",
          "data": {
            "text/plain": [
              "Downloading:   0%|          | 0.00/204k [00:00<?, ?B/s]"
            ],
            "application/vnd.jupyter.widget-view+json": {
              "version_major": 2,
              "version_minor": 0,
              "model_id": "cdd2bf9f65004dc8a02b18ee26c04b66"
            }
          },
          "metadata": {}
        },
        {
          "output_type": "display_data",
          "data": {
            "text/plain": [
              "Downloading:   0%|          | 0.00/207k [00:00<?, ?B/s]"
            ],
            "application/vnd.jupyter.widget-view+json": {
              "version_major": 2,
              "version_minor": 0,
              "model_id": "75d952166fb645afbd1c0e3e3c582809"
            }
          },
          "metadata": {}
        },
        {
          "output_type": "display_data",
          "data": {
            "text/plain": [
              "0 examples [00:00, ? examples/s]"
            ],
            "application/vnd.jupyter.widget-view+json": {
              "version_major": 2,
              "version_minor": 0,
              "model_id": "a07a232c677a4ef0b024faa2a823c418"
            }
          },
          "metadata": {}
        },
        {
          "output_type": "display_data",
          "data": {
            "text/plain": [
              "0 examples [00:00, ? examples/s]"
            ],
            "application/vnd.jupyter.widget-view+json": {
              "version_major": 2,
              "version_minor": 0,
              "model_id": "b1ba98211a7844e391c347723bdd5d5d"
            }
          },
          "metadata": {}
        },
        {
          "output_type": "display_data",
          "data": {
            "text/plain": [
              "0 examples [00:00, ? examples/s]"
            ],
            "application/vnd.jupyter.widget-view+json": {
              "version_major": 2,
              "version_minor": 0,
              "model_id": "be6cde71e6ee4fccad857e9590a7a0ad"
            }
          },
          "metadata": {}
        },
        {
          "output_type": "stream",
          "name": "stdout",
          "text": [
            "Dataset emotion downloaded and prepared to /root/.cache/huggingface/datasets/emotion/default/0.0.0/84e07cd366f4451464584cdbd4958f512bcaddb1e921341e07298ce8a9ce42f4. Subsequent calls will reuse this data.\n"
          ]
        }
      ]
    },
    {
      "cell_type": "code",
      "metadata": {
        "id": "z7eCnxU25eiN",
        "colab": {
          "base_uri": "https://localhost:8080/"
        },
        "outputId": "eb9e2b6e-586e-4e34-ad98-6c54209d7829"
      },
      "source": [
        "dataset"
      ],
      "execution_count": 6,
      "outputs": [
        {
          "output_type": "execute_result",
          "data": {
            "text/plain": [
              "{'test': Dataset(features: {'text': Value(dtype='string', id=None), 'label': Value(dtype='string', id=None)}, num_rows: 2000),\n",
              " 'train': Dataset(features: {'text': Value(dtype='string', id=None), 'label': Value(dtype='string', id=None)}, num_rows: 16000),\n",
              " 'validation': Dataset(features: {'text': Value(dtype='string', id=None), 'label': Value(dtype='string', id=None)}, num_rows: 2000)}"
            ]
          },
          "metadata": {},
          "execution_count": 6
        }
      ]
    },
    {
      "cell_type": "code",
      "metadata": {
        "id": "oDYXMfZy5eiP"
      },
      "source": [
        "train=dataset['train']\n",
        "test=dataset['test']\n",
        "val=dataset['validation']"
      ],
      "execution_count": 7,
      "outputs": []
    },
    {
      "cell_type": "code",
      "metadata": {
        "id": "jeq3-vSB5eiR"
      },
      "source": [
        "def get_tweet(data):\n",
        "  tweets=[x['text'] for x in data]\n",
        "  labels=[x['label'] for x in data]\n",
        "  return tweets, labels"
      ],
      "execution_count": 8,
      "outputs": []
    },
    {
      "cell_type": "code",
      "metadata": {
        "id": "bHD3Tk0J5eiU"
      },
      "source": [
        "tweets,labels=get_tweet(train)"
      ],
      "execution_count": 9,
      "outputs": []
    },
    {
      "cell_type": "code",
      "source": [
        "tweets[3],labels[3]"
      ],
      "metadata": {
        "colab": {
          "base_uri": "https://localhost:8080/"
        },
        "id": "VDQQcY6ihg9e",
        "outputId": "5248fb53-6ffc-48c6-d234-54a4f6561c8a"
      },
      "execution_count": 10,
      "outputs": [
        {
          "output_type": "execute_result",
          "data": {
            "text/plain": [
              "('i am ever feeling nostalgic about the fireplace i will know that it is still on the property',\n",
              " 'love')"
            ]
          },
          "metadata": {},
          "execution_count": 10
        }
      ]
    },
    {
      "cell_type": "markdown",
      "metadata": {
        "id": "gcAflLv6xIgp"
      },
      "source": [
        "## Task 4: Tokenizer\n",
        "\n",
        "1. Tokenizing the tweets"
      ]
    },
    {
      "cell_type": "code",
      "metadata": {
        "id": "qfX5-ResxIgq"
      },
      "source": [
        "from tensorflow.keras.preprocessing.text import Tokenizer\n",
        "\n",
        "tokenizer=Tokenizer(num_words=10000,oov_token='<UNK>')\n",
        "tokenizer.fit_on_texts(tweets)"
      ],
      "execution_count": 11,
      "outputs": []
    },
    {
      "cell_type": "code",
      "metadata": {
        "id": "cckUvwBo5eif",
        "colab": {
          "base_uri": "https://localhost:8080/"
        },
        "outputId": "c5c3ffd2-d663-491a-82d3-40a809fd6726"
      },
      "source": [
        "print(tokenizer.texts_to_sequences([tweets[0]]))\n",
        "print(tweets[0])\n",
        "# -----------------------------------------#\n",
        "print(tokenizer.texts_to_sequences([\"feel\"]))\n",
        "print(tokenizer.texts_to_sequences(\"feel\"))"
      ],
      "execution_count": 12,
      "outputs": [
        {
          "output_type": "stream",
          "name": "stdout",
          "text": [
            "[[2, 139, 3, 679]]\n",
            "i didnt feel humiliated\n",
            "[[3]]\n",
            "[[1997], [1550], [1550], [8884]]\n"
          ]
        }
      ]
    },
    {
      "cell_type": "markdown",
      "metadata": {
        "id": "i3Bqm7b2xIgu"
      },
      "source": [
        "\n",
        "## Task 5: Padding and Truncating Sequences\n",
        "\n",
        "1. Checking length of the tweets\n",
        "2. Creating padded sequences"
      ]
    },
    {
      "cell_type": "code",
      "metadata": {
        "id": "mLvf_WFZxIgu",
        "colab": {
          "base_uri": "https://localhost:8080/",
          "height": 300
        },
        "outputId": "8e045016-a826-4faa-ab3c-389322d50635"
      },
      "source": [
        "lengths=[len(t.split()) for t in tweets]\n",
        "plt.hist(lengths,bins=len(set(lengths)))\n",
        "print(max(lengths))\n",
        "print(min(lengths))"
      ],
      "execution_count": 13,
      "outputs": [
        {
          "output_type": "stream",
          "name": "stdout",
          "text": [
            "66\n",
            "2\n"
          ]
        },
        {
          "output_type": "display_data",
          "data": {
            "text/plain": [
              "<Figure size 432x288 with 1 Axes>"
            ],
            "image/png": "[encoded data removed]"
          },
          "metadata": {
            "needs_background": "light"
          }
        }
      ]
    },
    {
      "cell_type": "code",
      "metadata": {
        "id": "EOi5lIE3xIgx"
      },
      "source": [
        "max_len=50\n",
        "\n",
        "from tensorflow.keras.preprocessing.sequence import pad_sequences"
      ],
      "execution_count": 14,
      "outputs": []
    },
    {
      "cell_type": "code",
      "metadata": {
        "id": "Q9J_Iemf5eiq"
      },
      "source": [
        "def get_sequences_pad(tokenizer,tweets):\n",
        "  sequences=tokenizer.texts_to_sequences(tweets)\n",
        "  padded_seq=pad_sequences(sequences,maxlen=max_len,padding='post',truncating='post')\n",
        "  return padded_seq"
      ],
      "execution_count": 15,
      "outputs": []
    },
    {
      "cell_type": "code",
      "metadata": {
        "id": "eglH77ky5ei0"
      },
      "source": [
        "padded_train_seq=get_sequences_pad(tokenizer,tweets)"
      ],
      "execution_count": 16,
      "outputs": []
    },
    {
      "cell_type": "code",
      "metadata": {
        "id": "iGR473HA5ei7",
        "colab": {
          "base_uri": "https://localhost:8080/"
        },
        "outputId": "16e506f2-74fc-4bef-c3ae-fa1c27cb649e"
      },
      "source": [
        "print(padded_train_seq[1])\n",
        "print(tweets[1])"
      ],
      "execution_count": 17,
      "outputs": [
        {
          "output_type": "stream",
          "name": "stdout",
          "text": [
            "[   2   40  101   60    8   15  494    5   15 3496  553   32   60   61\n",
            "  128  148   76 1480    4   22 1255    0    0    0    0    0    0    0\n",
            "    0    0    0    0    0    0    0    0    0    0    0    0    0    0\n",
            "    0    0    0    0    0    0    0    0]\n",
            "i can go from feeling so hopeless to so damned hopeful just from being around someone who cares and is awake\n"
          ]
        }
      ]
    },
    {
      "cell_type": "markdown",
      "metadata": {
        "id": "BURhOX_KxIg8"
      },
      "source": [
        "## Task 6: Preparing the Labels\n",
        "\n",
        "1. Creating classes to index and index to classes dictionaries\n",
        "2. Converting text labels to numeric labels"
      ]
    },
    {
      "cell_type": "code",
      "metadata": {
        "id": "SufT2bpD5ejE",
        "colab": {
          "base_uri": "https://localhost:8080/"
        },
        "outputId": "165c870c-e11c-4061-beab-90ad49bfe527"
      },
      "source": [
        "classes=set(labels)\n",
        "classes"
      ],
      "execution_count": 18,
      "outputs": [
        {
          "output_type": "execute_result",
          "data": {
            "text/plain": [
              "{'anger', 'fear', 'joy', 'love', 'sadness', 'surprise'}"
            ]
          },
          "metadata": {},
          "execution_count": 18
        }
      ]
    },
    {
      "cell_type": "code",
      "metadata": {
        "id": "rpwzL88I7YSm",
        "colab": {
          "base_uri": "https://localhost:8080/",
          "height": 265
        },
        "outputId": "f6a60020-e2ac-45ad-e2ba-cc6b3c6202f9"
      },
      "source": [
        "plt.hist(labels,bins=2*len(classes)-1)\n",
        "plt.show()"
      ],
      "execution_count": 19,
      "outputs": [
        {
          "output_type": "display_data",
          "data": {
            "text/plain": [
              "<Figure size 432x288 with 1 Axes>"
            ],
            "image/png": "[encoded data removed]"
          },
          "metadata": {
            "needs_background": "light"
          }
        }
      ]
    },
    {
      "cell_type": "code",
      "metadata": {
        "id": "dNLF6rXL5ejN",
        "colab": {
          "base_uri": "https://localhost:8080/"
        },
        "outputId": "4749b943-10d9-42d7-b23a-c1f99a1d9b5d"
      },
      "source": [
        "class_index= dict((v,c) for c,v in enumerate(classes))\n",
        "index_class= dict((c,v) for c,v in enumerate(classes))\n",
        "print(class_index)\n",
        "print(index_class)\n",
        "type(class_index)"
      ],
      "execution_count": 38,
      "outputs": [
        {
          "output_type": "stream",
          "name": "stdout",
          "text": [
            "{'fear': 0, 'sadness': 1, 'love': 2, 'surprise': 3, 'joy': 4, 'anger': 5}\n",
            "{0: 'fear', 1: 'sadness', 2: 'love', 3: 'surprise', 4: 'joy', 5: 'anger'}\n"
          ]
        },
        {
          "output_type": "execute_result",
          "data": {
            "text/plain": [
              "dict"
            ]
          },
          "metadata": {},
          "execution_count": 38
        }
      ]
    },
    {
      "cell_type": "code",
      "metadata": {
        "id": "_08InVyM5ejc"
      },
      "source": [
        "name_to_ids = lambda labels :np.array([class_index[x] for x in labels])"
      ],
      "execution_count": 21,
      "outputs": []
    },
    {
      "cell_type": "code",
      "metadata": {
        "id": "gpeDoA6gxIhE",
        "colab": {
          "base_uri": "https://localhost:8080/"
        },
        "outputId": "56112eaa-0f48-4cd6-b283-016497e47719"
      },
      "source": [
        "train_labels=name_to_ids(labels)\n",
        "print(train_labels[:4])\n",
        "print(labels[:4])"
      ],
      "execution_count": 22,
      "outputs": [
        {
          "output_type": "stream",
          "name": "stdout",
          "text": [
            "[1 1 5 2]\n",
            "['sadness', 'sadness', 'anger', 'love']\n"
          ]
        }
      ]
    },
    {
      "cell_type": "markdown",
      "metadata": {
        "id": "c-v0Mnh8xIhP"
      },
      "source": [
        "## Task 7: Creating the Model\n",
        "\n",
        "1. Creating the model\n",
        "2. Compiling the model"
      ]
    },
    {
      "cell_type": "code",
      "metadata": {
        "id": "OpewXxPQ5eji"
      },
      "source": [
        "from tensorflow.keras import layers,models\n",
        "\n",
        "model=models.Sequential([\n",
        "    layers.Embedding(10000,16,input_length=max_len),\n",
        "    layers.Bidirectional(layers.LSTM(20,return_sequences=True)),\n",
        "    layers.Bidirectional(layers.LSTM(20)),\n",
        "    layers.Dense(6,activation='softmax')\n",
        "])\n",
        "\n",
        "model.compile(optimizer='adam',loss='sparse_categorical_crossentropy',metrics=['accuracy'])"
      ],
      "execution_count": 23,
      "outputs": []
    },
    {
      "cell_type": "code",
      "source": [
        "model.summary()"
      ],
      "metadata": {
        "colab": {
          "base_uri": "https://localhost:8080/"
        },
        "id": "A-rWyjncmX28",
        "outputId": "39f7f2fa-f8dc-4ac0-acf2-012e56409191"
      },
      "execution_count": 24,
      "outputs": [
        {
          "output_type": "stream",
          "name": "stdout",
          "text": [
            "Model: \"sequential\"\n",
            "_________________________________________________________________\n",
            " Layer (type)                Output Shape              Param #   \n",
            "=================================================================\n",
            " embedding (Embedding)       (None, 50, 16)            160000    \n",
            "                                                                 \n",
            " bidirectional (Bidirectiona  (None, 50, 40)           5920      \n",
            " l)                                                              \n",
            "                                                                 \n",
            " bidirectional_1 (Bidirectio  (None, 40)               9760      \n",
            " nal)                                                            \n",
            "                                                                 \n",
            " dense (Dense)               (None, 6)                 246       \n",
            "                                                                 \n",
            "=================================================================\n",
            "Total params: 175,926\n",
            "Trainable params: 175,926\n",
            "Non-trainable params: 0\n",
            "_________________________________________________________________\n"
          ]
        }
      ]
    },
    {
      "cell_type": "markdown",
      "metadata": {
        "id": "1HST_CHjxIhR"
      },
      "source": [
        "## Task 8: Training the Model\n",
        "\n",
        "1. Preparing a validation set\n",
        "2. Training the model"
      ]
    },
    {
      "cell_type": "code",
      "metadata": {
        "id": "Ff7F3hCK5ejm"
      },
      "source": [
        "val_tweets,val_labels=get_tweet(val)\n",
        "padded_val_sequences=get_sequences_pad(tokenizer,val_tweets)\n",
        "val_labels=name_to_ids(val_labels)"
      ],
      "execution_count": 25,
      "outputs": []
    },
    {
      "cell_type": "code",
      "metadata": {
        "id": "hlMKaZ3H5ejr",
        "colab": {
          "base_uri": "https://localhost:8080/"
        },
        "outputId": "7199aad8-dd00-40b2-d691-4eaf37b64d91"
      },
      "source": [
        "print(val_tweets[4])\n",
        "print(val_labels[4])"
      ],
      "execution_count": 26,
      "outputs": [
        {
          "output_type": "stream",
          "name": "stdout",
          "text": [
            "i can have for a treat or if i am feeling festive\n",
            "4\n"
          ]
        }
      ]
    },
    {
      "cell_type": "code",
      "metadata": {
        "id": "bzBqnWQ-5ejw",
        "colab": {
          "base_uri": "https://localhost:8080/"
        },
        "outputId": "a6b10d51-fb8e-4312-af57-cefc3e05375c"
      },
      "source": [
        "from gc import callbacks\n",
        "h = model.fit(padded_train_seq,train_labels,validation_data=(padded_val_sequences,val_labels),epochs=20,\n",
        "              callbacks=[tensorflow.keras.callbacks.EarlyStopping(monitor='val_accuracy',patience=2)])"
      ],
      "execution_count": 27,
      "outputs": [
        {
          "output_type": "stream",
          "name": "stdout",
          "text": [
            "Epoch 1/20\n",
            "500/500 [==============================] - 40s 62ms/step - loss: 1.3508 - accuracy: 0.4239 - val_loss: 0.9750 - val_accuracy: 0.6365\n",
            "Epoch 2/20\n",
            "500/500 [==============================] - 29s 58ms/step - loss: 0.6789 - accuracy: 0.7407 - val_loss: 0.6238 - val_accuracy: 0.7975\n",
            "Epoch 3/20\n",
            "500/500 [==============================] - 29s 58ms/step - loss: 0.3566 - accuracy: 0.8871 - val_loss: 0.4750 - val_accuracy: 0.8405\n",
            "Epoch 4/20\n",
            "500/500 [==============================] - 29s 59ms/step - loss: 0.2153 - accuracy: 0.9328 - val_loss: 0.4164 - val_accuracy: 0.8675\n",
            "Epoch 5/20\n",
            "500/500 [==============================] - 29s 58ms/step - loss: 0.1517 - accuracy: 0.9523 - val_loss: 0.3882 - val_accuracy: 0.8765\n",
            "Epoch 6/20\n",
            "500/500 [==============================] - 29s 58ms/step - loss: 0.1173 - accuracy: 0.9630 - val_loss: 0.4126 - val_accuracy: 0.8790\n",
            "Epoch 7/20\n",
            "500/500 [==============================] - 29s 58ms/step - loss: 0.0930 - accuracy: 0.9702 - val_loss: 0.4105 - val_accuracy: 0.8860\n",
            "Epoch 8/20\n",
            "500/500 [==============================] - 29s 58ms/step - loss: 0.0708 - accuracy: 0.9774 - val_loss: 0.4073 - val_accuracy: 0.8895\n",
            "Epoch 9/20\n",
            "500/500 [==============================] - 29s 58ms/step - loss: 0.0659 - accuracy: 0.9785 - val_loss: 0.4190 - val_accuracy: 0.8845\n",
            "Epoch 10/20\n",
            "500/500 [==============================] - 29s 58ms/step - loss: 0.0551 - accuracy: 0.9822 - val_loss: 0.4915 - val_accuracy: 0.8750\n"
          ]
        }
      ]
    },
    {
      "cell_type": "markdown",
      "metadata": {
        "id": "EdsJyMTLxIhX"
      },
      "source": [
        "## Task 9: Evaluating the Model\n",
        "\n",
        "1. Visualizing training history\n",
        "2. Prepraring a test set\n",
        "3. A look at individual predictions on the test set\n",
        "4. A look at all predictions on the test set"
      ]
    },
    {
      "cell_type": "code",
      "metadata": {
        "id": "ENCfvXeLxIhX",
        "colab": {
          "base_uri": "https://localhost:8080/",
          "height": 392
        },
        "outputId": "6b992ea3-0d58-4cbc-8f29-5d56e351eee7"
      },
      "source": [
        "show_history(h)"
      ],
      "execution_count": 28,
      "outputs": [
        {
          "output_type": "display_data",
          "data": {
            "text/plain": [
              "<Figure size 1152x432 with 2 Axes>"
            ],
            "image/png": "[encoded data removed]"
          },
          "metadata": {
            "needs_background": "light"
          }
        }
      ]
    },
    {
      "cell_type": "code",
      "metadata": {
        "id": "kWuzoz8uxIha"
      },
      "source": [
        "test_tweets,test_labels=get_tweet(test)\n",
        "padded_test_sequences=get_sequences_pad(tokenizer,test_tweets)\n",
        "test_labels=name_to_ids(test_labels)"
      ],
      "execution_count": 29,
      "outputs": []
    },
    {
      "cell_type": "code",
      "metadata": {
        "id": "7vRVJ_2SxIhc",
        "colab": {
          "base_uri": "https://localhost:8080/"
        },
        "outputId": "80e1a6b4-0187-4fba-ba2b-9aed046d06eb"
      },
      "source": [
        "model.evaluate(padded_test_sequences,test_labels)"
      ],
      "execution_count": 30,
      "outputs": [
        {
          "output_type": "stream",
          "name": "stdout",
          "text": [
            "63/63 [==============================] - 1s 19ms/step - loss: 0.4736 - accuracy: 0.8735\n"
          ]
        },
        {
          "output_type": "execute_result",
          "data": {
            "text/plain": [
              "[0.4736408591270447, 0.8734999895095825]"
            ]
          },
          "metadata": {},
          "execution_count": 30
        }
      ]
    },
    {
      "cell_type": "code",
      "metadata": {
        "id": "rh638vHG5ej6",
        "colab": {
          "base_uri": "https://localhost:8080/"
        },
        "outputId": "16a77a3c-e0b9-4025-ae32-f8c20856c1bb"
      },
      "source": [
        "# Predicting\n",
        "i=np.random.randint(0,len(test_labels)-1)\n",
        "print(f'Sentence : {test_tweets[i]}')\n",
        "print(f'Real emotion : {index_class[test_labels[i]]}')\n",
        "pred=model.predict(np.array([padded_test_sequences[i]]))\n",
        "predicted_emotion=index_class[np.argmax(pred)]\n",
        "\n",
        "print(f'Predicted Emotion : {predicted_emotion}')"
      ],
      "execution_count": 48,
      "outputs": [
        {
          "output_type": "stream",
          "name": "stdout",
          "text": [
            "Sentence : i wont lie this week has been abit of a difficult week for me ive been feeling very stressed and anxious this week plus i think im coming down with the flu but it has definately helped me to appreciate the little things\n",
            "Real emotion : anger\n",
            "Predicted Emotion : fear\n"
          ]
        }
      ]
    },
    {
      "cell_type": "code",
      "metadata": {
        "id": "hHl5SVCFxIhh",
        "colab": {
          "base_uri": "https://localhost:8080/",
          "height": 472
        },
        "outputId": "101ecca5-fd25-40ff-d73b-5a2cd5fe8f9c"
      },
      "source": [
        "# Plotting\n",
        "preds=model.predict(padded_test_sequences)\n",
        "preds=np.argmax(preds,axis=-1)\n",
        "\n",
        "show_confusion_matrix(test_labels, preds,list(classes))"
      ],
      "execution_count": 57,
      "outputs": [
        {
          "output_type": "display_data",
          "data": {
            "text/plain": [
              "<Figure size 576x576 with 2 Axes>"
            ],
            "image/png": "[encoded data removed]"
          },
          "metadata": {
            "needs_background": "light"
          }
        }
      ]
    },
    {
      "cell_type": "code",
      "metadata": {
        "id": "NC8YQ0OexIhj"
      },
      "source": [
        ""
      ],
      "execution_count": null,
      "outputs": []
    }
  ]
}